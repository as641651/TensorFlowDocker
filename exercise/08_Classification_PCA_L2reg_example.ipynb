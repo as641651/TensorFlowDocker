{
 "cells": [
  {
   "cell_type": "markdown",
   "metadata": {},
   "source": [
    "## Classification example"
   ]
  },
  {
   "cell_type": "code",
   "execution_count": 1,
   "metadata": {},
   "outputs": [],
   "source": [
    "import numpy as np\n",
    "import pandas as pd\n",
    "import tensorflow as tf\n",
    "import matplotlib.pyplot as plt\n",
    "%matplotlib inline"
   ]
  },
  {
   "cell_type": "markdown",
   "metadata": {},
   "source": [
    "### Get the data"
   ]
  },
  {
   "cell_type": "code",
   "execution_count": 2,
   "metadata": {},
   "outputs": [],
   "source": [
    "diabetes = pd.read_csv(\"files/pima-indians-diabetes.csv\")"
   ]
  },
  {
   "cell_type": "code",
   "execution_count": 3,
   "metadata": {},
   "outputs": [
    {
     "data": {
      "text/html": [
       "<div>\n",
       "<style scoped>\n",
       "    .dataframe tbody tr th:only-of-type {\n",
       "        vertical-align: middle;\n",
       "    }\n",
       "\n",
       "    .dataframe tbody tr th {\n",
       "        vertical-align: top;\n",
       "    }\n",
       "\n",
       "    .dataframe thead th {\n",
       "        text-align: right;\n",
       "    }\n",
       "</style>\n",
       "<table border=\"1\" class=\"dataframe\">\n",
       "  <thead>\n",
       "    <tr style=\"text-align: right;\">\n",
       "      <th></th>\n",
       "      <th>Number_pregnant</th>\n",
       "      <th>Glucose_concentration</th>\n",
       "      <th>Blood_pressure</th>\n",
       "      <th>Triceps</th>\n",
       "      <th>Insulin</th>\n",
       "      <th>BMI</th>\n",
       "      <th>Pedigree</th>\n",
       "      <th>Age</th>\n",
       "      <th>Class</th>\n",
       "      <th>Group</th>\n",
       "    </tr>\n",
       "  </thead>\n",
       "  <tbody>\n",
       "    <tr>\n",
       "      <th>0</th>\n",
       "      <td>6</td>\n",
       "      <td>0.743719</td>\n",
       "      <td>0.590164</td>\n",
       "      <td>0.353535</td>\n",
       "      <td>0.000000</td>\n",
       "      <td>0.500745</td>\n",
       "      <td>0.234415</td>\n",
       "      <td>50</td>\n",
       "      <td>1</td>\n",
       "      <td>B</td>\n",
       "    </tr>\n",
       "    <tr>\n",
       "      <th>1</th>\n",
       "      <td>1</td>\n",
       "      <td>0.427136</td>\n",
       "      <td>0.540984</td>\n",
       "      <td>0.292929</td>\n",
       "      <td>0.000000</td>\n",
       "      <td>0.396423</td>\n",
       "      <td>0.116567</td>\n",
       "      <td>31</td>\n",
       "      <td>0</td>\n",
       "      <td>C</td>\n",
       "    </tr>\n",
       "    <tr>\n",
       "      <th>2</th>\n",
       "      <td>8</td>\n",
       "      <td>0.919598</td>\n",
       "      <td>0.524590</td>\n",
       "      <td>0.000000</td>\n",
       "      <td>0.000000</td>\n",
       "      <td>0.347243</td>\n",
       "      <td>0.253629</td>\n",
       "      <td>32</td>\n",
       "      <td>1</td>\n",
       "      <td>B</td>\n",
       "    </tr>\n",
       "    <tr>\n",
       "      <th>3</th>\n",
       "      <td>1</td>\n",
       "      <td>0.447236</td>\n",
       "      <td>0.540984</td>\n",
       "      <td>0.232323</td>\n",
       "      <td>0.111111</td>\n",
       "      <td>0.418778</td>\n",
       "      <td>0.038002</td>\n",
       "      <td>21</td>\n",
       "      <td>0</td>\n",
       "      <td>B</td>\n",
       "    </tr>\n",
       "    <tr>\n",
       "      <th>4</th>\n",
       "      <td>0</td>\n",
       "      <td>0.688442</td>\n",
       "      <td>0.327869</td>\n",
       "      <td>0.353535</td>\n",
       "      <td>0.198582</td>\n",
       "      <td>0.642325</td>\n",
       "      <td>0.943638</td>\n",
       "      <td>33</td>\n",
       "      <td>1</td>\n",
       "      <td>C</td>\n",
       "    </tr>\n",
       "  </tbody>\n",
       "</table>\n",
       "</div>"
      ],
      "text/plain": [
       "   Number_pregnant  Glucose_concentration  Blood_pressure   Triceps   Insulin  \\\n",
       "0                6               0.743719        0.590164  0.353535  0.000000   \n",
       "1                1               0.427136        0.540984  0.292929  0.000000   \n",
       "2                8               0.919598        0.524590  0.000000  0.000000   \n",
       "3                1               0.447236        0.540984  0.232323  0.111111   \n",
       "4                0               0.688442        0.327869  0.353535  0.198582   \n",
       "\n",
       "        BMI  Pedigree  Age  Class Group  \n",
       "0  0.500745  0.234415   50      1     B  \n",
       "1  0.396423  0.116567   31      0     C  \n",
       "2  0.347243  0.253629   32      1     B  \n",
       "3  0.418778  0.038002   21      0     B  \n",
       "4  0.642325  0.943638   33      1     C  "
      ]
     },
     "execution_count": 3,
     "metadata": {},
     "output_type": "execute_result"
    }
   ],
   "source": [
    "diabetes.head()"
   ]
  },
  {
   "cell_type": "code",
   "execution_count": 4,
   "metadata": {},
   "outputs": [
    {
     "data": {
      "text/plain": [
       "Index(['Number_pregnant', 'Glucose_concentration', 'Blood_pressure', 'Triceps',\n",
       "       'Insulin', 'BMI', 'Pedigree', 'Age', 'Class', 'Group'],\n",
       "      dtype='object')"
      ]
     },
     "execution_count": 4,
     "metadata": {},
     "output_type": "execute_result"
    }
   ],
   "source": [
    "diabetes.columns"
   ]
  },
  {
   "cell_type": "markdown",
   "metadata": {},
   "source": [
    "### Normalize columns"
   ]
  },
  {
   "cell_type": "code",
   "execution_count": 5,
   "metadata": {},
   "outputs": [],
   "source": [
    "cols_to_normalize = ['Number_pregnant', 'Glucose_concentration', 'Blood_pressure', 'Triceps',\n",
    "       'Insulin', 'BMI', 'Pedigree']"
   ]
  },
  {
   "cell_type": "code",
   "execution_count": 6,
   "metadata": {},
   "outputs": [],
   "source": [
    "#When axis=0(default), applies function to each column\n",
    "#When axis=1, applies function to each row\n",
    "diabetes[cols_to_normalize] = diabetes[cols_to_normalize].apply(lambda x: (x-x.min())/(x.max()-x.min()),axis=0) "
   ]
  },
  {
   "cell_type": "code",
   "execution_count": 7,
   "metadata": {},
   "outputs": [
    {
     "data": {
      "text/html": [
       "<div>\n",
       "<style scoped>\n",
       "    .dataframe tbody tr th:only-of-type {\n",
       "        vertical-align: middle;\n",
       "    }\n",
       "\n",
       "    .dataframe tbody tr th {\n",
       "        vertical-align: top;\n",
       "    }\n",
       "\n",
       "    .dataframe thead th {\n",
       "        text-align: right;\n",
       "    }\n",
       "</style>\n",
       "<table border=\"1\" class=\"dataframe\">\n",
       "  <thead>\n",
       "    <tr style=\"text-align: right;\">\n",
       "      <th></th>\n",
       "      <th>Number_pregnant</th>\n",
       "      <th>Glucose_concentration</th>\n",
       "      <th>Blood_pressure</th>\n",
       "      <th>Triceps</th>\n",
       "      <th>Insulin</th>\n",
       "      <th>BMI</th>\n",
       "      <th>Pedigree</th>\n",
       "      <th>Age</th>\n",
       "      <th>Class</th>\n",
       "      <th>Group</th>\n",
       "    </tr>\n",
       "  </thead>\n",
       "  <tbody>\n",
       "    <tr>\n",
       "      <th>0</th>\n",
       "      <td>0.352941</td>\n",
       "      <td>0.743719</td>\n",
       "      <td>0.590164</td>\n",
       "      <td>0.353535</td>\n",
       "      <td>0.000000</td>\n",
       "      <td>0.500745</td>\n",
       "      <td>0.234415</td>\n",
       "      <td>50</td>\n",
       "      <td>1</td>\n",
       "      <td>B</td>\n",
       "    </tr>\n",
       "    <tr>\n",
       "      <th>1</th>\n",
       "      <td>0.058824</td>\n",
       "      <td>0.427136</td>\n",
       "      <td>0.540984</td>\n",
       "      <td>0.292929</td>\n",
       "      <td>0.000000</td>\n",
       "      <td>0.396423</td>\n",
       "      <td>0.116567</td>\n",
       "      <td>31</td>\n",
       "      <td>0</td>\n",
       "      <td>C</td>\n",
       "    </tr>\n",
       "    <tr>\n",
       "      <th>2</th>\n",
       "      <td>0.470588</td>\n",
       "      <td>0.919598</td>\n",
       "      <td>0.524590</td>\n",
       "      <td>0.000000</td>\n",
       "      <td>0.000000</td>\n",
       "      <td>0.347243</td>\n",
       "      <td>0.253629</td>\n",
       "      <td>32</td>\n",
       "      <td>1</td>\n",
       "      <td>B</td>\n",
       "    </tr>\n",
       "    <tr>\n",
       "      <th>3</th>\n",
       "      <td>0.058824</td>\n",
       "      <td>0.447236</td>\n",
       "      <td>0.540984</td>\n",
       "      <td>0.232323</td>\n",
       "      <td>0.111111</td>\n",
       "      <td>0.418778</td>\n",
       "      <td>0.038002</td>\n",
       "      <td>21</td>\n",
       "      <td>0</td>\n",
       "      <td>B</td>\n",
       "    </tr>\n",
       "    <tr>\n",
       "      <th>4</th>\n",
       "      <td>0.000000</td>\n",
       "      <td>0.688442</td>\n",
       "      <td>0.327869</td>\n",
       "      <td>0.353535</td>\n",
       "      <td>0.198582</td>\n",
       "      <td>0.642325</td>\n",
       "      <td>0.943638</td>\n",
       "      <td>33</td>\n",
       "      <td>1</td>\n",
       "      <td>C</td>\n",
       "    </tr>\n",
       "  </tbody>\n",
       "</table>\n",
       "</div>"
      ],
      "text/plain": [
       "   Number_pregnant  Glucose_concentration  Blood_pressure   Triceps   Insulin  \\\n",
       "0         0.352941               0.743719        0.590164  0.353535  0.000000   \n",
       "1         0.058824               0.427136        0.540984  0.292929  0.000000   \n",
       "2         0.470588               0.919598        0.524590  0.000000  0.000000   \n",
       "3         0.058824               0.447236        0.540984  0.232323  0.111111   \n",
       "4         0.000000               0.688442        0.327869  0.353535  0.198582   \n",
       "\n",
       "        BMI  Pedigree  Age  Class Group  \n",
       "0  0.500745  0.234415   50      1     B  \n",
       "1  0.396423  0.116567   31      0     C  \n",
       "2  0.347243  0.253629   32      1     B  \n",
       "3  0.418778  0.038002   21      0     B  \n",
       "4  0.642325  0.943638   33      1     C  "
      ]
     },
     "execution_count": 7,
     "metadata": {},
     "output_type": "execute_result"
    }
   ],
   "source": [
    "diabetes.head()"
   ]
  },
  {
   "cell_type": "markdown",
   "metadata": {},
   "source": [
    "### OneHotEncode Age and Group\n",
    "\n",
    "> Age should be encoded because we want our model to treat all ages unbiased.\n",
    "\n",
    "> However, we do not want to use **one hot encoding** for all age numbers. So we just bin them"
   ]
  },
  {
   "cell_type": "markdown",
   "metadata": {},
   "source": [
    "**Bin the age**"
   ]
  },
  {
   "cell_type": "code",
   "execution_count": 8,
   "metadata": {},
   "outputs": [
    {
     "data": {
      "text/plain": [
       "<matplotlib.axes._subplots.AxesSubplot at 0x7fa35ec96940>"
      ]
     },
     "execution_count": 8,
     "metadata": {},
     "output_type": "execute_result"
    },
    {
     "data": {
      "image/png": "[encoded data removed]",
      "text/plain": [
       "<Figure size 432x288 with 1 Axes>"
      ]
     },
     "metadata": {
      "needs_background": "light"
     },
     "output_type": "display_data"
    }
   ],
   "source": [
    "diabetes[\"Age\"].hist(bins=20)"
   ]
  },
  {
   "cell_type": "code",
   "execution_count": 9,
   "metadata": {},
   "outputs": [
    {
     "data": {
      "text/plain": [
       "array([50, 35, 35, 30, 35, 30, 30, 30, 60, 60, 30, 35, 60, 60, 60, 35, 35,\n",
       "       35, 35, 35], dtype=object)"
      ]
     },
     "execution_count": 9,
     "metadata": {},
     "output_type": "execute_result"
    }
   ],
   "source": [
    "cols = diabetes.columns\n",
    "arr = diabetes.values\n",
    "\n",
    "age = arr[:,7]\n",
    "age_categories = [10,20,25,30,35,40,45,50,60,70,80,90,100]\n",
    "bins = [(0,10),(11,20),(21,25),(25,30),(31,35),(36,40),(41,45),(46,50),(51,60),(61,70),(71,80),(81,90),(91,100)]\n",
    "for b in bins:\n",
    "    #cannot use 'and'. The format of logical and inside np.where is important \n",
    "    age = np.where((age>=b[0])&(age<=b[1]),b[1],age)\n",
    "age[:20]"
   ]
  },
  {
   "cell_type": "code",
   "execution_count": 10,
   "metadata": {},
   "outputs": [
    {
     "data": {
      "text/html": [
       "<div>\n",
       "<style scoped>\n",
       "    .dataframe tbody tr th:only-of-type {\n",
       "        vertical-align: middle;\n",
       "    }\n",
       "\n",
       "    .dataframe tbody tr th {\n",
       "        vertical-align: top;\n",
       "    }\n",
       "\n",
       "    .dataframe thead th {\n",
       "        text-align: right;\n",
       "    }\n",
       "</style>\n",
       "<table border=\"1\" class=\"dataframe\">\n",
       "  <thead>\n",
       "    <tr style=\"text-align: right;\">\n",
       "      <th></th>\n",
       "      <th>Number_pregnant</th>\n",
       "      <th>Glucose_concentration</th>\n",
       "      <th>Blood_pressure</th>\n",
       "      <th>Triceps</th>\n",
       "      <th>Insulin</th>\n",
       "      <th>BMI</th>\n",
       "      <th>Pedigree</th>\n",
       "      <th>Age</th>\n",
       "      <th>Class</th>\n",
       "      <th>Group</th>\n",
       "    </tr>\n",
       "  </thead>\n",
       "  <tbody>\n",
       "    <tr>\n",
       "      <th>0</th>\n",
       "      <td>0.352941</td>\n",
       "      <td>0.743719</td>\n",
       "      <td>0.590164</td>\n",
       "      <td>0.353535</td>\n",
       "      <td>0</td>\n",
       "      <td>0.500745</td>\n",
       "      <td>0.234415</td>\n",
       "      <td>50</td>\n",
       "      <td>1</td>\n",
       "      <td>B</td>\n",
       "    </tr>\n",
       "    <tr>\n",
       "      <th>1</th>\n",
       "      <td>0.0588235</td>\n",
       "      <td>0.427136</td>\n",
       "      <td>0.540984</td>\n",
       "      <td>0.292929</td>\n",
       "      <td>0</td>\n",
       "      <td>0.396423</td>\n",
       "      <td>0.116567</td>\n",
       "      <td>35</td>\n",
       "      <td>0</td>\n",
       "      <td>C</td>\n",
       "    </tr>\n",
       "    <tr>\n",
       "      <th>2</th>\n",
       "      <td>0.470588</td>\n",
       "      <td>0.919598</td>\n",
       "      <td>0.52459</td>\n",
       "      <td>0</td>\n",
       "      <td>0</td>\n",
       "      <td>0.347243</td>\n",
       "      <td>0.253629</td>\n",
       "      <td>35</td>\n",
       "      <td>1</td>\n",
       "      <td>B</td>\n",
       "    </tr>\n",
       "    <tr>\n",
       "      <th>3</th>\n",
       "      <td>0.0588235</td>\n",
       "      <td>0.447236</td>\n",
       "      <td>0.540984</td>\n",
       "      <td>0.232323</td>\n",
       "      <td>0.111111</td>\n",
       "      <td>0.418778</td>\n",
       "      <td>0.0380017</td>\n",
       "      <td>30</td>\n",
       "      <td>0</td>\n",
       "      <td>B</td>\n",
       "    </tr>\n",
       "    <tr>\n",
       "      <th>4</th>\n",
       "      <td>0</td>\n",
       "      <td>0.688442</td>\n",
       "      <td>0.327869</td>\n",
       "      <td>0.353535</td>\n",
       "      <td>0.198582</td>\n",
       "      <td>0.642325</td>\n",
       "      <td>0.943638</td>\n",
       "      <td>35</td>\n",
       "      <td>1</td>\n",
       "      <td>C</td>\n",
       "    </tr>\n",
       "  </tbody>\n",
       "</table>\n",
       "</div>"
      ],
      "text/plain": [
       "  Number_pregnant Glucose_concentration Blood_pressure   Triceps   Insulin  \\\n",
       "0        0.352941              0.743719       0.590164  0.353535         0   \n",
       "1       0.0588235              0.427136       0.540984  0.292929         0   \n",
       "2        0.470588              0.919598        0.52459         0         0   \n",
       "3       0.0588235              0.447236       0.540984  0.232323  0.111111   \n",
       "4               0              0.688442       0.327869  0.353535  0.198582   \n",
       "\n",
       "        BMI   Pedigree Age Class Group  \n",
       "0  0.500745   0.234415  50     1     B  \n",
       "1  0.396423   0.116567  35     0     C  \n",
       "2  0.347243   0.253629  35     1     B  \n",
       "3  0.418778  0.0380017  30     0     B  \n",
       "4  0.642325   0.943638  35     1     C  "
      ]
     },
     "execution_count": 10,
     "metadata": {},
     "output_type": "execute_result"
    }
   ],
   "source": [
    "arr[:,7] = age\n",
    "pd.DataFrame(arr,columns=cols).head()"
   ]
  },
  {
   "cell_type": "markdown",
   "metadata": {},
   "source": [
    "**Encode**"
   ]
  },
  {
   "cell_type": "code",
   "execution_count": 11,
   "metadata": {},
   "outputs": [],
   "source": [
    "from sklearn.preprocessing import OneHotEncoder\n",
    "from sklearn.compose import ColumnTransformer"
   ]
  },
  {
   "cell_type": "markdown",
   "metadata": {},
   "source": [
    "See **Refresher_sklearn** for details"
   ]
  },
  {
   "cell_type": "code",
   "execution_count": 13,
   "metadata": {},
   "outputs": [
    {
     "data": {
      "text/plain": [
       "array(['1__x0_A', '1__x0_B', '1__x0_C', '1__x0_D', '2__x0_10', '2__x0_20',\n",
       "       '2__x0_25', '2__x0_30', '2__x0_35', '2__x0_40', '2__x0_45',\n",
       "       '2__x0_50', '2__x0_60', '2__x0_70', '2__x0_80', '2__x0_90',\n",
       "       '2__x0_100'], dtype='<U9')"
      ]
     },
     "execution_count": 13,
     "metadata": {},
     "output_type": "execute_result"
    }
   ],
   "source": [
    "colT = ColumnTransformer([(\"1\",OneHotEncoder(),[9]),(\"2\",OneHotEncoder(categories=[age_categories]),[7])])\n",
    "colT_fit = colT.fit(arr)\n",
    "np.array(colT_fit.get_feature_names())"
   ]
  },
  {
   "cell_type": "code",
   "execution_count": 19,
   "metadata": {},
   "outputs": [
    {
     "name": "stdout",
     "output_type": "stream",
     "text": [
      "(768, 17) (768, 10)\n",
      "(768, 24)\n",
      "(768,)\n"
     ]
    }
   ],
   "source": [
    "tr = colT_fit.transform(arr).toarray() #Returns just the transformed cols\n",
    "print(tr.shape, arr.shape)\n",
    "features = np.concatenate((arr[:,[0,1,2,3,4,5,6]],tr),axis=1) #specify all columns excetp 7 and 9\n",
    "labels = arr[:,8]\n",
    "print(features.shape)\n",
    "print(labels.shape)"
   ]
  },
  {
   "cell_type": "code",
   "execution_count": 15,
   "metadata": {},
   "outputs": [
    {
     "data": {
      "text/html": [
       "<div>\n",
       "<style scoped>\n",
       "    .dataframe tbody tr th:only-of-type {\n",
       "        vertical-align: middle;\n",
       "    }\n",
       "\n",
       "    .dataframe tbody tr th {\n",
       "        vertical-align: top;\n",
       "    }\n",
       "\n",
       "    .dataframe thead th {\n",
       "        text-align: right;\n",
       "    }\n",
       "</style>\n",
       "<table border=\"1\" class=\"dataframe\">\n",
       "  <thead>\n",
       "    <tr style=\"text-align: right;\">\n",
       "      <th></th>\n",
       "      <th>0</th>\n",
       "      <th>1</th>\n",
       "      <th>2</th>\n",
       "      <th>3</th>\n",
       "      <th>4</th>\n",
       "      <th>5</th>\n",
       "      <th>6</th>\n",
       "      <th>7</th>\n",
       "      <th>8</th>\n",
       "      <th>9</th>\n",
       "      <th>...</th>\n",
       "      <th>15</th>\n",
       "      <th>16</th>\n",
       "      <th>17</th>\n",
       "      <th>18</th>\n",
       "      <th>19</th>\n",
       "      <th>20</th>\n",
       "      <th>21</th>\n",
       "      <th>22</th>\n",
       "      <th>23</th>\n",
       "      <th>24</th>\n",
       "    </tr>\n",
       "  </thead>\n",
       "  <tbody>\n",
       "    <tr>\n",
       "      <th>0</th>\n",
       "      <td>0.352941</td>\n",
       "      <td>0.743719</td>\n",
       "      <td>0.590164</td>\n",
       "      <td>0.353535</td>\n",
       "      <td>0</td>\n",
       "      <td>0.500745</td>\n",
       "      <td>0.234415</td>\n",
       "      <td>1</td>\n",
       "      <td>0</td>\n",
       "      <td>1</td>\n",
       "      <td>...</td>\n",
       "      <td>0</td>\n",
       "      <td>0</td>\n",
       "      <td>0</td>\n",
       "      <td>0</td>\n",
       "      <td>1</td>\n",
       "      <td>0</td>\n",
       "      <td>0</td>\n",
       "      <td>0</td>\n",
       "      <td>0</td>\n",
       "      <td>0</td>\n",
       "    </tr>\n",
       "    <tr>\n",
       "      <th>1</th>\n",
       "      <td>0.0588235</td>\n",
       "      <td>0.427136</td>\n",
       "      <td>0.540984</td>\n",
       "      <td>0.292929</td>\n",
       "      <td>0</td>\n",
       "      <td>0.396423</td>\n",
       "      <td>0.116567</td>\n",
       "      <td>0</td>\n",
       "      <td>0</td>\n",
       "      <td>0</td>\n",
       "      <td>...</td>\n",
       "      <td>0</td>\n",
       "      <td>1</td>\n",
       "      <td>0</td>\n",
       "      <td>0</td>\n",
       "      <td>0</td>\n",
       "      <td>0</td>\n",
       "      <td>0</td>\n",
       "      <td>0</td>\n",
       "      <td>0</td>\n",
       "      <td>0</td>\n",
       "    </tr>\n",
       "    <tr>\n",
       "      <th>2</th>\n",
       "      <td>0.470588</td>\n",
       "      <td>0.919598</td>\n",
       "      <td>0.52459</td>\n",
       "      <td>0</td>\n",
       "      <td>0</td>\n",
       "      <td>0.347243</td>\n",
       "      <td>0.253629</td>\n",
       "      <td>1</td>\n",
       "      <td>0</td>\n",
       "      <td>1</td>\n",
       "      <td>...</td>\n",
       "      <td>0</td>\n",
       "      <td>1</td>\n",
       "      <td>0</td>\n",
       "      <td>0</td>\n",
       "      <td>0</td>\n",
       "      <td>0</td>\n",
       "      <td>0</td>\n",
       "      <td>0</td>\n",
       "      <td>0</td>\n",
       "      <td>0</td>\n",
       "    </tr>\n",
       "    <tr>\n",
       "      <th>3</th>\n",
       "      <td>0.0588235</td>\n",
       "      <td>0.447236</td>\n",
       "      <td>0.540984</td>\n",
       "      <td>0.232323</td>\n",
       "      <td>0.111111</td>\n",
       "      <td>0.418778</td>\n",
       "      <td>0.0380017</td>\n",
       "      <td>0</td>\n",
       "      <td>0</td>\n",
       "      <td>1</td>\n",
       "      <td>...</td>\n",
       "      <td>1</td>\n",
       "      <td>0</td>\n",
       "      <td>0</td>\n",
       "      <td>0</td>\n",
       "      <td>0</td>\n",
       "      <td>0</td>\n",
       "      <td>0</td>\n",
       "      <td>0</td>\n",
       "      <td>0</td>\n",
       "      <td>0</td>\n",
       "    </tr>\n",
       "    <tr>\n",
       "      <th>4</th>\n",
       "      <td>0</td>\n",
       "      <td>0.688442</td>\n",
       "      <td>0.327869</td>\n",
       "      <td>0.353535</td>\n",
       "      <td>0.198582</td>\n",
       "      <td>0.642325</td>\n",
       "      <td>0.943638</td>\n",
       "      <td>1</td>\n",
       "      <td>0</td>\n",
       "      <td>0</td>\n",
       "      <td>...</td>\n",
       "      <td>0</td>\n",
       "      <td>1</td>\n",
       "      <td>0</td>\n",
       "      <td>0</td>\n",
       "      <td>0</td>\n",
       "      <td>0</td>\n",
       "      <td>0</td>\n",
       "      <td>0</td>\n",
       "      <td>0</td>\n",
       "      <td>0</td>\n",
       "    </tr>\n",
       "  </tbody>\n",
       "</table>\n",
       "<p>5 rows × 25 columns</p>\n",
       "</div>"
      ],
      "text/plain": [
       "          0         1         2         3         4         5          6  7   \\\n",
       "0   0.352941  0.743719  0.590164  0.353535         0  0.500745   0.234415  1   \n",
       "1  0.0588235  0.427136  0.540984  0.292929         0  0.396423   0.116567  0   \n",
       "2   0.470588  0.919598   0.52459         0         0  0.347243   0.253629  1   \n",
       "3  0.0588235  0.447236  0.540984  0.232323  0.111111  0.418778  0.0380017  0   \n",
       "4          0  0.688442  0.327869  0.353535  0.198582  0.642325   0.943638  1   \n",
       "\n",
       "  8  9  ... 15 16 17 18 19 20 21 22 23 24  \n",
       "0  0  1 ...  0  0  0  0  1  0  0  0  0  0  \n",
       "1  0  0 ...  0  1  0  0  0  0  0  0  0  0  \n",
       "2  0  1 ...  0  1  0  0  0  0  0  0  0  0  \n",
       "3  0  1 ...  1  0  0  0  0  0  0  0  0  0  \n",
       "4  0  0 ...  0  1  0  0  0  0  0  0  0  0  \n",
       "\n",
       "[5 rows x 25 columns]"
      ]
     },
     "execution_count": 15,
     "metadata": {},
     "output_type": "execute_result"
    }
   ],
   "source": [
    "pd.DataFrame(features).head()"
   ]
  },
  {
   "cell_type": "markdown",
   "metadata": {},
   "source": [
    "### Reduce dimwith PCA and Visualize "
   ]
  },
  {
   "cell_type": "markdown",
   "metadata": {},
   "source": [
    "We need to find two dimensions that correspond to maximum variance\n",
    "\n",
    "> **Step 1:** Compute the mean of every column and subtract the mean from every row entry (to make mean=0)\n",
    "\n",
    "> **Step 2:** Compute Covariance matrix **S = (1/768)xfeatures.Txfeatures** (resultinf dim is 24x24)\n",
    "\n",
    "> **Step 3:** Compute eigen values(u) and eigen vecs(v) of S\n",
    "\n",
    "> **Step 4:** Pick the eigen vecs corresponding to top 2 eigen values\n",
    "\n",
    "> **Step 5:** transformed = features.dot(v[:2])"
   ]
  },
  {
   "cell_type": "code",
   "execution_count": 341,
   "metadata": {},
   "outputs": [
    {
     "data": {
      "text/html": [
       "<div>\n",
       "<style scoped>\n",
       "    .dataframe tbody tr th:only-of-type {\n",
       "        vertical-align: middle;\n",
       "    }\n",
       "\n",
       "    .dataframe tbody tr th {\n",
       "        vertical-align: top;\n",
       "    }\n",
       "\n",
       "    .dataframe thead th {\n",
       "        text-align: right;\n",
       "    }\n",
       "</style>\n",
       "<table border=\"1\" class=\"dataframe\">\n",
       "  <thead>\n",
       "    <tr style=\"text-align: right;\">\n",
       "      <th></th>\n",
       "      <th>0</th>\n",
       "      <th>1</th>\n",
       "      <th>2</th>\n",
       "      <th>3</th>\n",
       "      <th>4</th>\n",
       "      <th>5</th>\n",
       "      <th>6</th>\n",
       "      <th>7</th>\n",
       "      <th>8</th>\n",
       "      <th>9</th>\n",
       "      <th>...</th>\n",
       "      <th>14</th>\n",
       "      <th>15</th>\n",
       "      <th>16</th>\n",
       "      <th>17</th>\n",
       "      <th>18</th>\n",
       "      <th>19</th>\n",
       "      <th>20</th>\n",
       "      <th>21</th>\n",
       "      <th>22</th>\n",
       "      <th>23</th>\n",
       "    </tr>\n",
       "  </thead>\n",
       "  <tbody>\n",
       "    <tr>\n",
       "      <th>0</th>\n",
       "      <td>0.126762</td>\n",
       "      <td>0.136208</td>\n",
       "      <td>0.0237257</td>\n",
       "      <td>0.146096</td>\n",
       "      <td>-0.0943256</td>\n",
       "      <td>0.0239556</td>\n",
       "      <td>0.0662356</td>\n",
       "      <td>-0.251302</td>\n",
       "      <td>0.744792</td>\n",
       "      <td>-0.242188</td>\n",
       "      <td>...</td>\n",
       "      <td>-0.542969</td>\n",
       "      <td>-0.105469</td>\n",
       "      <td>-0.0989583</td>\n",
       "      <td>-0.0989583</td>\n",
       "      <td>0.951823</td>\n",
       "      <td>-0.0703125</td>\n",
       "      <td>-0.0325521</td>\n",
       "      <td>-0.00130208</td>\n",
       "      <td>-0.00130208</td>\n",
       "      <td>0</td>\n",
       "    </tr>\n",
       "    <tr>\n",
       "      <th>1</th>\n",
       "      <td>-0.167356</td>\n",
       "      <td>-0.180375</td>\n",
       "      <td>-0.0254547</td>\n",
       "      <td>0.0854903</td>\n",
       "      <td>-0.0943256</td>\n",
       "      <td>-0.0803663</td>\n",
       "      <td>-0.0516124</td>\n",
       "      <td>-0.251302</td>\n",
       "      <td>-0.255208</td>\n",
       "      <td>0.757812</td>\n",
       "      <td>...</td>\n",
       "      <td>-0.542969</td>\n",
       "      <td>0.894531</td>\n",
       "      <td>-0.0989583</td>\n",
       "      <td>-0.0989583</td>\n",
       "      <td>-0.0481771</td>\n",
       "      <td>-0.0703125</td>\n",
       "      <td>-0.0325521</td>\n",
       "      <td>-0.00130208</td>\n",
       "      <td>-0.00130208</td>\n",
       "      <td>0</td>\n",
       "    </tr>\n",
       "    <tr>\n",
       "      <th>2</th>\n",
       "      <td>0.244409</td>\n",
       "      <td>0.312088</td>\n",
       "      <td>-0.0418481</td>\n",
       "      <td>-0.207439</td>\n",
       "      <td>-0.0943256</td>\n",
       "      <td>-0.129547</td>\n",
       "      <td>0.0854499</td>\n",
       "      <td>-0.251302</td>\n",
       "      <td>0.744792</td>\n",
       "      <td>-0.242188</td>\n",
       "      <td>...</td>\n",
       "      <td>-0.542969</td>\n",
       "      <td>0.894531</td>\n",
       "      <td>-0.0989583</td>\n",
       "      <td>-0.0989583</td>\n",
       "      <td>-0.0481771</td>\n",
       "      <td>-0.0703125</td>\n",
       "      <td>-0.0325521</td>\n",
       "      <td>-0.00130208</td>\n",
       "      <td>-0.00130208</td>\n",
       "      <td>0</td>\n",
       "    </tr>\n",
       "    <tr>\n",
       "      <th>3</th>\n",
       "      <td>-0.167356</td>\n",
       "      <td>-0.160274</td>\n",
       "      <td>-0.0254547</td>\n",
       "      <td>0.0248843</td>\n",
       "      <td>0.0167855</td>\n",
       "      <td>-0.0580116</td>\n",
       "      <td>-0.130178</td>\n",
       "      <td>-0.251302</td>\n",
       "      <td>0.744792</td>\n",
       "      <td>-0.242188</td>\n",
       "      <td>...</td>\n",
       "      <td>0.457031</td>\n",
       "      <td>-0.105469</td>\n",
       "      <td>-0.0989583</td>\n",
       "      <td>-0.0989583</td>\n",
       "      <td>-0.0481771</td>\n",
       "      <td>-0.0703125</td>\n",
       "      <td>-0.0325521</td>\n",
       "      <td>-0.00130208</td>\n",
       "      <td>-0.00130208</td>\n",
       "      <td>0</td>\n",
       "    </tr>\n",
       "    <tr>\n",
       "      <th>4</th>\n",
       "      <td>-0.22618</td>\n",
       "      <td>0.080932</td>\n",
       "      <td>-0.238569</td>\n",
       "      <td>0.146096</td>\n",
       "      <td>0.104256</td>\n",
       "      <td>0.165535</td>\n",
       "      <td>0.775458</td>\n",
       "      <td>-0.251302</td>\n",
       "      <td>-0.255208</td>\n",
       "      <td>0.757812</td>\n",
       "      <td>...</td>\n",
       "      <td>-0.542969</td>\n",
       "      <td>0.894531</td>\n",
       "      <td>-0.0989583</td>\n",
       "      <td>-0.0989583</td>\n",
       "      <td>-0.0481771</td>\n",
       "      <td>-0.0703125</td>\n",
       "      <td>-0.0325521</td>\n",
       "      <td>-0.00130208</td>\n",
       "      <td>-0.00130208</td>\n",
       "      <td>0</td>\n",
       "    </tr>\n",
       "  </tbody>\n",
       "</table>\n",
       "<p>5 rows × 24 columns</p>\n",
       "</div>"
      ],
      "text/plain": [
       "         0         1          2          3          4          5          6   \\\n",
       "0  0.126762  0.136208  0.0237257   0.146096 -0.0943256  0.0239556  0.0662356   \n",
       "1 -0.167356 -0.180375 -0.0254547  0.0854903 -0.0943256 -0.0803663 -0.0516124   \n",
       "2  0.244409  0.312088 -0.0418481  -0.207439 -0.0943256  -0.129547  0.0854499   \n",
       "3 -0.167356 -0.160274 -0.0254547  0.0248843  0.0167855 -0.0580116  -0.130178   \n",
       "4  -0.22618  0.080932  -0.238569   0.146096   0.104256   0.165535   0.775458   \n",
       "\n",
       "         7         8         9  ...        14        15         16         17  \\\n",
       "0 -0.251302  0.744792 -0.242188 ... -0.542969 -0.105469 -0.0989583 -0.0989583   \n",
       "1 -0.251302 -0.255208  0.757812 ... -0.542969  0.894531 -0.0989583 -0.0989583   \n",
       "2 -0.251302  0.744792 -0.242188 ... -0.542969  0.894531 -0.0989583 -0.0989583   \n",
       "3 -0.251302  0.744792 -0.242188 ...  0.457031 -0.105469 -0.0989583 -0.0989583   \n",
       "4 -0.251302 -0.255208  0.757812 ... -0.542969  0.894531 -0.0989583 -0.0989583   \n",
       "\n",
       "          18         19         20          21          22 23  \n",
       "0   0.951823 -0.0703125 -0.0325521 -0.00130208 -0.00130208  0  \n",
       "1 -0.0481771 -0.0703125 -0.0325521 -0.00130208 -0.00130208  0  \n",
       "2 -0.0481771 -0.0703125 -0.0325521 -0.00130208 -0.00130208  0  \n",
       "3 -0.0481771 -0.0703125 -0.0325521 -0.00130208 -0.00130208  0  \n",
       "4 -0.0481771 -0.0703125 -0.0325521 -0.00130208 -0.00130208  0  \n",
       "\n",
       "[5 rows x 24 columns]"
      ]
     },
     "execution_count": 341,
     "metadata": {},
     "output_type": "execute_result"
    }
   ],
   "source": [
    "fd = pd.DataFrame(features)\n",
    "fd = fd.sub(fd.mean(axis=0),axis=1)\n",
    "fd.head()"
   ]
  },
  {
   "cell_type": "code",
   "execution_count": 335,
   "metadata": {},
   "outputs": [
    {
     "data": {
      "text/plain": [
       "(24, 24)"
      ]
     },
     "execution_count": 335,
     "metadata": {},
     "output_type": "execute_result"
    }
   ],
   "source": [
    "fd_mat = fd.values.astype(np.float32)\n",
    "sigma = np.matmul(fd_mat.T,fd_mat)*(1/768.)\n",
    "sigma.shape"
   ]
  },
  {
   "cell_type": "code",
   "execution_count": 342,
   "metadata": {},
   "outputs": [
    {
     "data": {
      "text/plain": [
       "((24,), (24, 24))"
      ]
     },
     "execution_count": 342,
     "metadata": {},
     "output_type": "execute_result"
    }
   ],
   "source": [
    "s,v = np.linalg.eig(sigma)\n",
    "s.shape,v.shape"
   ]
  },
  {
   "cell_type": "code",
   "execution_count": 337,
   "metadata": {},
   "outputs": [
    {
     "data": {
      "text/plain": [
       "array([ 3.23803663e-01,  2.52550215e-01,  2.46000439e-01,  2.43827581e-01,\n",
       "        1.04877636e-01,  9.85683203e-02,  7.83989355e-02,  5.36751635e-02,\n",
       "        4.36354019e-02,  3.58486213e-02,  2.35608369e-02,  2.15911418e-02,\n",
       "        1.97195131e-02,  1.66409109e-02,  1.08830947e-02,  7.96141941e-03,\n",
       "        1.27117056e-03,  1.63565518e-03, -4.38208296e-08, -1.22288967e-07,\n",
       "        0.00000000e+00,  0.00000000e+00,  0.00000000e+00,  0.00000000e+00],\n",
       "      dtype=float32)"
      ]
     },
     "execution_count": 337,
     "metadata": {},
     "output_type": "execute_result"
    }
   ],
   "source": [
    "s #already sorted"
   ]
  },
  {
   "cell_type": "code",
   "execution_count": 338,
   "metadata": {},
   "outputs": [
    {
     "data": {
      "text/plain": [
       "array([[ 0.773845  , -0.26131323],\n",
       "       [ 0.5247501 ,  0.0613456 ],\n",
       "       [ 0.94188464, -0.23481803],\n",
       "       [-0.21943702, -0.25583187],\n",
       "       [ 0.53408265,  0.05825566]], dtype=float32)"
      ]
     },
     "execution_count": 338,
     "metadata": {},
     "output_type": "execute_result"
    }
   ],
   "source": [
    "v = v[:,:2]\n",
    "transformed = fd_mat.dot(v)\n",
    "transformed[:5]"
   ]
  },
  {
   "cell_type": "code",
   "execution_count": 339,
   "metadata": {},
   "outputs": [
    {
     "data": {
      "text/plain": [
       "<matplotlib.collections.PathCollection at 0x7fa22b064940>"
      ]
     },
     "execution_count": 339,
     "metadata": {},
     "output_type": "execute_result"
    },
    {
     "data": {
      "image/png": "[encoded data removed]",
      "text/plain": [
       "<Figure size 432x288 with 1 Axes>"
      ]
     },
     "metadata": {
      "needs_background": "light"
     },
     "output_type": "display_data"
    }
   ],
   "source": [
    "plt.scatter(transformed[:,0],transformed[:,1],c=labels)"
   ]
  },
  {
   "cell_type": "markdown",
   "metadata": {},
   "source": [
    "### Build Neural network"
   ]
  },
  {
   "cell_type": "code",
   "execution_count": 240,
   "metadata": {},
   "outputs": [],
   "source": [
    "tf.reset_default_graph()\n",
    "batch_size = 10\n",
    "inp = tf.placeholder(tf.float32,(batch_size,24))\n",
    "target = tf.placeholder(tf.float32,(batch_size,))"
   ]
  },
  {
   "cell_type": "code",
   "execution_count": 241,
   "metadata": {},
   "outputs": [],
   "source": [
    "W1 = tf.Variable(tf.random_normal((24,20),dtype=tf.float32))\n",
    "tf.add_to_collection('l2',W1)\n",
    "B1 = tf.Variable(tf.ones((20),dtype=tf.float32))\n",
    "H1 = tf.add(tf.matmul(inp,W1), B1) #(b,24)x(24,20) + (20,)\n",
    "Z1 = tf.nn.relu(H1)"
   ]
  },
  {
   "cell_type": "code",
   "execution_count": 242,
   "metadata": {},
   "outputs": [],
   "source": [
    "W2 = tf.Variable(tf.random_normal((20,10),dtype=tf.float32))\n",
    "tf.add_to_collection('l2',W2)\n",
    "B2 = tf.Variable(tf.ones((10),dtype=tf.float32))\n",
    "H2 = tf.add(tf.matmul(Z1,W2), B2) #(b,20)x(20,10) + (10,)\n",
    "Z2 = tf.nn.relu(H2)"
   ]
  },
  {
   "cell_type": "code",
   "execution_count": 243,
   "metadata": {},
   "outputs": [],
   "source": [
    "W3 = tf.Variable(tf.random_normal((10,1),dtype=tf.float32))\n",
    "tf.add_to_collection('l2',W3)\n",
    "B3 = tf.Variable(1.0)\n",
    "H3 = tf.add(tf.matmul(Z2,W3), B3) #(b,10)x(10,1) + (1,)\n",
    "output = tf.sigmoid(H3)"
   ]
  },
  {
   "cell_type": "code",
   "execution_count": 244,
   "metadata": {},
   "outputs": [
    {
     "name": "stdout",
     "output_type": "stream",
     "text": [
      "[[9.8454154e-01]\n",
      " [6.3882275e-03]\n",
      " [9.3811923e-01]\n",
      " [9.0619869e-04]\n",
      " [9.9988139e-01]\n",
      " [9.5650649e-01]\n",
      " [9.9973220e-01]\n",
      " [9.7148919e-01]\n",
      " [9.8423034e-01]\n",
      " [1.0000000e+00]]\n"
     ]
    }
   ],
   "source": [
    "init = tf.global_variables_initializer()\n",
    "with tf.Session() as sess:\n",
    "    sess.run(init)\n",
    "    rand_int = np.random.randint(0,len(features),size=batch_size)\n",
    "    o = sess.run(output,feed_dict={inp:features[rand_int],target:labels[rand_int]})\n",
    "    print(o)\n",
    "    "
   ]
  },
  {
   "cell_type": "markdown",
   "metadata": {},
   "source": [
    "**Binary cross entropy loss function**:\n",
    "\n",
    "> Beware of log 0\n",
    "\n",
    "> Add L2 regularizer"
   ]
  },
  {
   "cell_type": "code",
   "execution_count": 245,
   "metadata": {},
   "outputs": [],
   "source": [
    "delta=1e-8 #TO get rid of the log 0 problem\n",
    "binary_cross_entropy = -(target*tf.math.log(output+delta) + ((1.-target)*tf.math.log(1.-output+delta)))\n",
    "#Add L2 regularizer\n",
    "l2_reg = 0.\n",
    "for w in tf.get_collection('l2'):\n",
    "    l2_reg += tf.reduce_sum(tf.square(w)) \n",
    "l2_reg = 0.01*l2_reg\n",
    "loss = tf.reduce_mean(binary_cross_entropy) + l2_reg"
   ]
  },
  {
   "cell_type": "code",
   "execution_count": 246,
   "metadata": {},
   "outputs": [
    {
     "name": "stdout",
     "output_type": "stream",
     "text": [
      "10.810688\n"
     ]
    }
   ],
   "source": [
    "init = tf.global_variables_initializer()\n",
    "with tf.Session() as sess:\n",
    "    sess.run(init)\n",
    "    rand_int = np.random.randint(0,len(features),size=batch_size)\n",
    "    o = sess.run(loss,feed_dict={inp:features[rand_int],target:labels[rand_int]})\n",
    "    print(o)"
   ]
  },
  {
   "cell_type": "markdown",
   "metadata": {},
   "source": [
    "**Optimizer**"
   ]
  },
  {
   "cell_type": "code",
   "execution_count": 247,
   "metadata": {},
   "outputs": [],
   "source": [
    "optimizer = tf.train.GradientDescentOptimizer(0.01)\n",
    "grads = optimizer.compute_gradients(loss)"
   ]
  },
  {
   "cell_type": "code",
   "execution_count": 248,
   "metadata": {},
   "outputs": [
    {
     "data": {
      "text/plain": [
       "[(<tf.Tensor 'gradients/AddN_3:0' shape=(24, 20) dtype=float32>,\n",
       "  <tf.Variable 'Variable:0' shape=(24, 20) dtype=float32_ref>),\n",
       " (<tf.Tensor 'gradients/Add_grad/tuple/control_dependency_1:0' shape=(20,) dtype=float32>,\n",
       "  <tf.Variable 'Variable_1:0' shape=(20,) dtype=float32_ref>),\n",
       " (<tf.Tensor 'gradients/AddN_2:0' shape=(20, 10) dtype=float32>,\n",
       "  <tf.Variable 'Variable_2:0' shape=(20, 10) dtype=float32_ref>),\n",
       " (<tf.Tensor 'gradients/Add_1_grad/tuple/control_dependency_1:0' shape=(10,) dtype=float32>,\n",
       "  <tf.Variable 'Variable_3:0' shape=(10,) dtype=float32_ref>),\n",
       " (<tf.Tensor 'gradients/AddN_1:0' shape=(10, 1) dtype=float32>,\n",
       "  <tf.Variable 'Variable_4:0' shape=(10, 1) dtype=float32_ref>),\n",
       " (<tf.Tensor 'gradients/Add_2_grad/tuple/control_dependency_1:0' shape=() dtype=float32>,\n",
       "  <tf.Variable 'Variable_5:0' shape=() dtype=float32_ref>)]"
      ]
     },
     "execution_count": 248,
     "metadata": {},
     "output_type": "execute_result"
    }
   ],
   "source": [
    "grads"
   ]
  },
  {
   "cell_type": "code",
   "execution_count": 250,
   "metadata": {},
   "outputs": [],
   "source": [
    "train = optimizer.apply_gradients(grads)"
   ]
  },
  {
   "cell_type": "code",
   "execution_count": 251,
   "metadata": {},
   "outputs": [
    {
     "name": "stdout",
     "output_type": "stream",
     "text": [
      "8.555622\n",
      "5.077383\n",
      "3.6301415\n",
      "2.6503031\n",
      "1.8849335\n",
      "1.6051619\n",
      "1.2165829\n",
      "1.2359965\n",
      "0.9495561\n",
      "0.8000469\n"
     ]
    }
   ],
   "source": [
    "init = tf.global_variables_initializer()\n",
    "with tf.Session() as sess:\n",
    "    sess.run(init)\n",
    "    \n",
    "    for i in range(10000):\n",
    "        rand_ind = np.random.randint(0,len(features),size=batch_size)\n",
    "        feed = {inp:features[rand_ind],target:labels[rand_ind]}\n",
    "        _,l = sess.run([train,loss],feed_dict=feed)\n",
    "        if i%1000 == 0:\n",
    "            print(l)"
   ]
  },
  {
   "cell_type": "code",
   "execution_count": null,
   "metadata": {},
   "outputs": [],
   "source": []
  }
 ],
 "metadata": {
  "kernelspec": {
   "display_name": "Python 3",
   "language": "python",
   "name": "python3"
  },
  "language_info": {
   "codemirror_mode": {
    "name": "ipython",
    "version": 3
   },
   "file_extension": ".py",
   "mimetype": "text/x-python",
   "name": "python",
   "nbconvert_exporter": "python",
   "pygments_lexer": "ipython3",
   "version": "3.5.2"
  }
 },
 "nbformat": 4,
 "nbformat_minor": 2
}
