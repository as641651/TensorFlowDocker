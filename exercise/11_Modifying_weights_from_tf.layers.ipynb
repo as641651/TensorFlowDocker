{
 "cells": [
  {
   "cell_type": "markdown",
   "metadata": {},
   "source": [
    "## Getting,modifying,custom initializing variables"
   ]
  },
  {
   "cell_type": "code",
   "execution_count": 39,
   "metadata": {},
   "outputs": [],
   "source": [
    "import tensorflow as tf\n",
    "import numpy as np"
   ]
  },
  {
   "cell_type": "code",
   "execution_count": 127,
   "metadata": {},
   "outputs": [],
   "source": [
    "tf.reset_default_graph()\n",
    "tf.set_random_seed(101)"
   ]
  },
  {
   "cell_type": "code",
   "execution_count": 129,
   "metadata": {},
   "outputs": [],
   "source": [
    "a = tf.ones((1,5))\n",
    "x = tf.layers.dense(a,5)"
   ]
  },
  {
   "cell_type": "markdown",
   "metadata": {},
   "source": [
    "### Getting the weights belonging to a layer"
   ]
  },
  {
   "cell_type": "code",
   "execution_count": 131,
   "metadata": {},
   "outputs": [
    {
     "data": {
      "text/plain": [
       "[<tf.Variable 'dense/kernel:0' shape=(5, 5) dtype=float32_ref>,\n",
       " <tf.Variable 'dense/bias:0' shape=(5,) dtype=float32_ref>]"
      ]
     },
     "execution_count": 131,
     "metadata": {},
     "output_type": "execute_result"
    }
   ],
   "source": [
    "tf.get_collection(tf.GraphKeys.GLOBAL_VARIABLES,scope=x.name.split('/')[0])"
   ]
  },
  {
   "cell_type": "markdown",
   "metadata": {},
   "source": [
    "**Getting W**"
   ]
  },
  {
   "cell_type": "code",
   "execution_count": 132,
   "metadata": {},
   "outputs": [
    {
     "data": {
      "text/plain": [
       "<tf.Variable 'dense/kernel:0' shape=(5, 5) dtype=float32_ref>"
      ]
     },
     "execution_count": 132,
     "metadata": {},
     "output_type": "execute_result"
    }
   ],
   "source": [
    "dense_W = tf.get_collection(tf.GraphKeys.GLOBAL_VARIABLES,scope= x.name.split('/')[0] + '/kernel:0')[0]\n",
    "dense_W"
   ]
  },
  {
   "cell_type": "markdown",
   "metadata": {},
   "source": [
    "**Getting the variable as tensor**\n",
    "\n",
    ">Equivalent to\n",
    "```bash\n",
    "dense_W.values()\n",
    "```"
   ]
  },
  {
   "cell_type": "code",
   "execution_count": 133,
   "metadata": {},
   "outputs": [
    {
     "data": {
      "text/plain": [
       "<tf.Tensor 'dense/kernel:0' shape=(5, 5) dtype=float32_ref>"
      ]
     },
     "execution_count": 133,
     "metadata": {},
     "output_type": "execute_result"
    }
   ],
   "source": [
    "tf.get_default_graph().get_tensor_by_name(x.name.split('/')[0] + '/kernel:0')"
   ]
  },
  {
   "cell_type": "code",
   "execution_count": 134,
   "metadata": {},
   "outputs": [],
   "source": [
    "with tf.Session() as sess:\n",
    "    sess.run(tf.global_variables_initializer())\n",
    "    w = sess.run(dense_W)"
   ]
  },
  {
   "cell_type": "code",
   "execution_count": 135,
   "metadata": {},
   "outputs": [
    {
     "data": {
      "text/plain": [
       "array([[-0.4783678 , -0.47883928, -0.67987746,  0.12508851,  0.21986353],\n",
       "       [-0.6352771 ,  0.08145899,  0.17867547,  0.15549004,  0.03497177],\n",
       "       [ 0.7717041 , -0.6796187 , -0.6153394 , -0.01366824,  0.22456986],\n",
       "       [ 0.46102703,  0.38562346,  0.1560592 , -0.7276155 , -0.6331084 ],\n",
       "       [ 0.3180946 , -0.3253305 , -0.24750745,  0.11823857,  0.6152173 ]],\n",
       "      dtype=float32)"
      ]
     },
     "execution_count": 135,
     "metadata": {},
     "output_type": "execute_result"
    }
   ],
   "source": [
    "w"
   ]
  },
  {
   "cell_type": "markdown",
   "metadata": {},
   "source": [
    "### Modifying the weights\n",
    "\n",
    "Make sure that the shape of the new tensor is compatable"
   ]
  },
  {
   "cell_type": "code",
   "execution_count": 145,
   "metadata": {},
   "outputs": [
    {
     "data": {
      "text/plain": [
       "<tf.Tensor 'Assign_2:0' shape=(5, 5) dtype=float32_ref>"
      ]
     },
     "execution_count": 145,
     "metadata": {},
     "output_type": "execute_result"
    }
   ],
   "source": [
    "new_val = dense_W+1.0\n",
    "op = dense_W.assign(new_val)\n",
    "op #this has to be run to carry out the assign op. "
   ]
  },
  {
   "cell_type": "code",
   "execution_count": 146,
   "metadata": {},
   "outputs": [],
   "source": [
    "with tf.Session() as sess:\n",
    "    sess.run(tf.global_variables_initializer())\n",
    "    sess.run(op) #this has to be run to carry out the assign op. \n",
    "    w = sess.run(dense_W) #This will change the value of the variable"
   ]
  },
  {
   "cell_type": "code",
   "execution_count": 147,
   "metadata": {},
   "outputs": [
    {
     "data": {
      "text/plain": [
       "array([[0.5216322 , 0.5211607 , 0.32012254, 1.1250885 , 1.2198635 ],\n",
       "       [0.3647229 , 1.081459  , 1.1786754 , 1.15549   , 1.0349717 ],\n",
       "       [1.7717041 , 0.32038128, 0.3846606 , 0.98633176, 1.2245698 ],\n",
       "       [1.461027  , 1.3856235 , 1.1560593 , 0.27238452, 0.36689162],\n",
       "       [1.3180946 , 0.6746695 , 0.75249255, 1.1182386 , 1.6152173 ]],\n",
       "      dtype=float32)"
      ]
     },
     "execution_count": 147,
     "metadata": {},
     "output_type": "execute_result"
    }
   ],
   "source": [
    "w"
   ]
  },
  {
   "cell_type": "markdown",
   "metadata": {},
   "source": [
    "### Initializing custom layer weights"
   ]
  },
  {
   "cell_type": "code",
   "execution_count": 153,
   "metadata": {},
   "outputs": [],
   "source": [
    "kernel_init = tf.initializers.constant(np.ones((5,5))) #Cannot pass tensors to initializer\n",
    "y = tf.layers.dense(a,5,kernel_initializer=kernel_init)"
   ]
  },
  {
   "cell_type": "code",
   "execution_count": 154,
   "metadata": {},
   "outputs": [],
   "source": [
    "with tf.Session() as sess:\n",
    "    sess.run(tf.global_variables_initializer())\n",
    "    w = sess.run(tf.get_collection(tf.GraphKeys.GLOBAL_VARIABLES,scope= y.name.split('/')[0] + '/kernel:0')[0])"
   ]
  },
  {
   "cell_type": "code",
   "execution_count": 155,
   "metadata": {},
   "outputs": [
    {
     "data": {
      "text/plain": [
       "array([[1., 1., 1., 1., 1.],\n",
       "       [1., 1., 1., 1., 1.],\n",
       "       [1., 1., 1., 1., 1.],\n",
       "       [1., 1., 1., 1., 1.],\n",
       "       [1., 1., 1., 1., 1.]], dtype=float32)"
      ]
     },
     "execution_count": 155,
     "metadata": {},
     "output_type": "execute_result"
    }
   ],
   "source": [
    "w"
   ]
  },
  {
   "cell_type": "code",
   "execution_count": null,
   "metadata": {},
   "outputs": [],
   "source": []
  }
 ],
 "metadata": {
  "kernelspec": {
   "display_name": "Python 3",
   "language": "python",
   "name": "python3"
  },
  "language_info": {
   "codemirror_mode": {
    "name": "ipython",
    "version": 3
   },
   "file_extension": ".py",
   "mimetype": "text/x-python",
   "name": "python",
   "nbconvert_exporter": "python",
   "pygments_lexer": "ipython3",
   "version": "3.5.2"
  }
 },
 "nbformat": 4,
 "nbformat_minor": 2
}
