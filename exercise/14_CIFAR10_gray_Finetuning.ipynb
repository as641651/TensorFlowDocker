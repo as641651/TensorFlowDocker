{
 "cells": [
  {
   "cell_type": "markdown",
   "metadata": {},
   "source": [
    "## CIFAR 10 Gray Finetuning\n"
   ]
  },
  {
   "cell_type": "code",
   "execution_count": 1,
   "metadata": {},
   "outputs": [],
   "source": [
    "import tensorflow as tf\n",
    "import numpy as np\n",
    "from PIL import Image\n",
    "import matplotlib.pyplot as plt\n",
    "import glob\n",
    "from pathlib import Path\n",
    "%matplotlib inline"
   ]
  },
  {
   "cell_type": "code",
   "execution_count": 2,
   "metadata": {},
   "outputs": [
    {
     "name": "stdout",
     "output_type": "stream",
     "text": [
      "batches.meta.txt  data_batch_2.bin  data_batch_4.bin  readme.html\r\n",
      "data_batch_1.bin  data_batch_3.bin  data_batch_5.bin  test_batch.bin\r\n"
     ]
    }
   ],
   "source": [
    "ls datasets/cifar-10-batches-bin/"
   ]
  },
  {
   "cell_type": "code",
   "execution_count": 3,
   "metadata": {},
   "outputs": [
    {
     "data": {
      "text/plain": [
       "['datasets/cifar-10-batches-bin/data_batch_1.bin',\n",
       " 'datasets/cifar-10-batches-bin/data_batch_5.bin',\n",
       " 'datasets/cifar-10-batches-bin/data_batch_3.bin',\n",
       " 'datasets/cifar-10-batches-bin/data_batch_2.bin',\n",
       " 'datasets/cifar-10-batches-bin/data_batch_4.bin']"
      ]
     },
     "execution_count": 3,
     "metadata": {},
     "output_type": "execute_result"
    }
   ],
   "source": [
    "file_path = \"datasets/cifar-10-batches-bin/data_batch_*\"\n",
    "train_bins = glob.glob(file_path)\n",
    "train_bins"
   ]
  },
  {
   "cell_type": "markdown",
   "metadata": {},
   "source": [
    "### CIFAR binary format\n",
    "\n",
    "```bash\n",
    "<1 byte x label><3*32*32 bytes x pixel>\n",
    "...\n",
    "<1 byte x label><3*32*32 bytes x pixel>\n",
    "```\n",
    "Each image is represented in **(C,H,W)** format"
   ]
  },
  {
   "cell_type": "code",
   "execution_count": 4,
   "metadata": {},
   "outputs": [
    {
     "name": "stdout",
     "output_type": "stream",
     "text": [
      "[6]\n",
      "(32, 32, 3)\n"
     ]
    }
   ],
   "source": [
    "ft = Path(train_bins[0]).open('rb')\n",
    "lbl = np.frombuffer(ft.read(1),np.dtype('u1'))\n",
    "print(lbl)\n",
    "img = np.frombuffer(ft.read(3*32*32),np.dtype('u1')).reshape(3,32,32)\n",
    "img = np.transpose(img,(1,2,0))\n",
    "print(img.shape)"
   ]
  },
  {
   "cell_type": "code",
   "execution_count": 5,
   "metadata": {},
   "outputs": [
    {
     "data": {
      "image/png": "[encoded data removed]",
      "text/plain": [
       "<PIL.Image.Image image mode=RGB size=32x32 at 0x7FC46C339AC8>"
      ]
     },
     "execution_count": 5,
     "metadata": {},
     "output_type": "execute_result"
    }
   ],
   "source": [
    "Image.fromarray(img)"
   ]
  },
  {
   "cell_type": "code",
   "execution_count": 6,
   "metadata": {},
   "outputs": [
    {
     "name": "stdout",
     "output_type": "stream",
     "text": [
      "[9]\n"
     ]
    },
    {
     "data": {
      "image/png": "[encoded data removed]",
      "text/plain": [
       "<PIL.Image.Image image mode=RGB size=32x32 at 0x7FC5018C1860>"
      ]
     },
     "execution_count": 6,
     "metadata": {},
     "output_type": "execute_result"
    }
   ],
   "source": [
    "lbl = np.frombuffer(ft.read(1),np.dtype('u1'))\n",
    "img = np.frombuffer(ft.read(32*32*3),np.dtype('u1')).reshape(3,32,32)\n",
    "img = np.transpose(img,(1,2,0))\n",
    "print(lbl)\n",
    "Image.fromarray(img)"
   ]
  },
  {
   "cell_type": "markdown",
   "metadata": {},
   "source": [
    "### CIFAR 10 dataset pipeline"
   ]
  },
  {
   "cell_type": "code",
   "execution_count": 7,
   "metadata": {},
   "outputs": [],
   "source": [
    "def cifar_dataset(files_list:list) -> tf.data.Dataset:\n",
    "\n",
    "    data = tf.data.FixedLengthRecordDataset(files_list,1+3*32*32)\n",
    "    data = data.map(lambda x: tf.decode_raw(x,tf.uint8),num_parallel_calls=4)\n",
    "    data = data.map(lambda x: (x[1:],tf.expand_dims(x[0],0)),num_parallel_calls=4) #To match with MNIST\n",
    "    data = data.map(lambda x,y: (tf.reshape(x,(3,32,32)),y),num_parallel_calls=4)\n",
    "    data = data.map(lambda x,y: (tf.transpose(x,(1,2,0)),y),num_parallel_calls=4)\n",
    "    data = data.map(lambda x,y: (tf.image.rgb_to_grayscale(x),y),num_parallel_calls=4)\n",
    "    data = data.map(lambda x,y: (tf.image.convert_image_dtype(x,tf.float32),y),num_parallel_calls=4)\n",
    "        \n",
    "    return data"
   ]
  },
  {
   "cell_type": "code",
   "execution_count": 8,
   "metadata": {},
   "outputs": [],
   "source": [
    "with tf.device('/cpu:0'):\n",
    "    train_dataset = cifar_dataset(train_bins)\n",
    "    train_dataset = train_dataset.shuffle(20000)\n",
    "    train_dataset = train_dataset.repeat(20)\n",
    "    train_dataset = train_dataset.batch(10)\n",
    "    train_dataset = train_dataset.prefetch(2)"
   ]
  },
  {
   "cell_type": "code",
   "execution_count": 9,
   "metadata": {},
   "outputs": [
    {
     "data": {
      "text/plain": [
       "((TensorShape([Dimension(None), Dimension(32), Dimension(32), Dimension(1)]),\n",
       "  TensorShape([Dimension(None), Dimension(1)])),\n",
       " (tf.float32, tf.uint8))"
      ]
     },
     "execution_count": 9,
     "metadata": {},
     "output_type": "execute_result"
    }
   ],
   "source": [
    "train_dataset.output_shapes, train_dataset.output_types"
   ]
  },
  {
   "cell_type": "code",
   "execution_count": 10,
   "metadata": {},
   "outputs": [],
   "source": [
    "train_iterator = train_dataset.make_initializable_iterator()"
   ]
  },
  {
   "cell_type": "markdown",
   "metadata": {},
   "source": [
    "**Check** (Restart kernel and dont call this check before training)"
   ]
  },
  {
   "cell_type": "code",
   "execution_count": 12,
   "metadata": {},
   "outputs": [],
   "source": [
    "im,l = train_iterator.get_next()\n",
    "\n",
    "with tf.Session() as sess:\n",
    "    sess.run(train_iterator.initializer)\n",
    "    imr,lr = sess.run([im,l])"
   ]
  },
  {
   "cell_type": "code",
   "execution_count": 13,
   "metadata": {},
   "outputs": [
    {
     "data": {
      "text/plain": [
       "array([[4],\n",
       "       [8],\n",
       "       [1],\n",
       "       [6],\n",
       "       [1],\n",
       "       [5],\n",
       "       [6],\n",
       "       [3],\n",
       "       [8],\n",
       "       [4]], dtype=uint8)"
      ]
     },
     "execution_count": 13,
     "metadata": {},
     "output_type": "execute_result"
    }
   ],
   "source": [
    "lr"
   ]
  },
  {
   "cell_type": "code",
   "execution_count": 13,
   "metadata": {},
   "outputs": [
    {
     "data": {
      "text/plain": [
       "(10, 32, 32, 1)"
      ]
     },
     "execution_count": 13,
     "metadata": {},
     "output_type": "execute_result"
    }
   ],
   "source": [
    "imr.shape"
   ]
  },
  {
   "cell_type": "code",
   "execution_count": 14,
   "metadata": {},
   "outputs": [
    {
     "data": {
      "text/plain": [
       "<matplotlib.image.AxesImage at 0x7f5ef4018ac8>"
      ]
     },
     "execution_count": 14,
     "metadata": {},
     "output_type": "execute_result"
    },
    {
     "data": {
      "image/png": "[encoded data removed]",
      "text/plain": [
       "<Figure size 432x288 with 1 Axes>"
      ]
     },
     "metadata": {
      "needs_background": "light"
     },
     "output_type": "display_data"
    }
   ],
   "source": [
    "plt.imshow(imr[0].reshape(32,32),cmap='gray')"
   ]
  },
  {
   "cell_type": "markdown",
   "metadata": {},
   "source": [
    "### Inspect model file"
   ]
  },
  {
   "cell_type": "code",
   "execution_count": 11,
   "metadata": {},
   "outputs": [],
   "source": [
    "from tensorflow.python.tools import inspect_checkpoint as chkp"
   ]
  },
  {
   "cell_type": "code",
   "execution_count": 12,
   "metadata": {
    "scrolled": true
   },
   "outputs": [
    {
     "name": "stdout",
     "output_type": "stream",
     "text": [
      "tensor_name:  Conv1/bias\n",
      "tensor_name:  Conv1/kernel\n",
      "tensor_name:  Conv2/bias\n",
      "tensor_name:  Conv2/kernel\n",
      "tensor_name:  Conv3/bias\n",
      "tensor_name:  Conv3/kernel\n",
      "tensor_name:  Dense_10/bias\n",
      "tensor_name:  Dense_10/kernel\n",
      "tensor_name:  Dense_84/bias\n",
      "tensor_name:  Dense_84/kernel\n"
     ]
    }
   ],
   "source": [
    "chkp.print_tensors_in_checkpoint_file('models/MNIST_CNN/mnist_model.ckpt',tensor_name='', all_tensors=False,all_tensor_names=True)"
   ]
  },
  {
   "cell_type": "markdown",
   "metadata": {},
   "source": [
    "### Load graph\n",
    "\n",
    "> Calling **import_meta_data** adds all the variables to the default graph"
   ]
  },
  {
   "cell_type": "code",
   "execution_count": 13,
   "metadata": {},
   "outputs": [
    {
     "data": {
      "text/plain": [
       "[]"
      ]
     },
     "execution_count": 13,
     "metadata": {},
     "output_type": "execute_result"
    }
   ],
   "source": [
    "tf.get_collection(tf.GraphKeys.GLOBAL_VARIABLES)"
   ]
  },
  {
   "cell_type": "code",
   "execution_count": 14,
   "metadata": {},
   "outputs": [],
   "source": [
    "saver = tf.train.import_meta_graph('models/MNIST_CNN/mnist_model.ckpt.meta')"
   ]
  },
  {
   "cell_type": "code",
   "execution_count": 15,
   "metadata": {},
   "outputs": [
    {
     "data": {
      "text/plain": [
       "[<tf.Variable 'Conv1/kernel:0' shape=(5, 5, 1, 6) dtype=float32_ref>,\n",
       " <tf.Variable 'Conv1/bias:0' shape=(6,) dtype=float32_ref>,\n",
       " <tf.Variable 'Conv2/kernel:0' shape=(5, 5, 6, 16) dtype=float32_ref>,\n",
       " <tf.Variable 'Conv2/bias:0' shape=(16,) dtype=float32_ref>,\n",
       " <tf.Variable 'Conv3/kernel:0' shape=(5, 5, 16, 120) dtype=float32_ref>,\n",
       " <tf.Variable 'Conv3/bias:0' shape=(120,) dtype=float32_ref>,\n",
       " <tf.Variable 'Dense_84/kernel:0' shape=(120, 84) dtype=float32_ref>,\n",
       " <tf.Variable 'Dense_84/bias:0' shape=(84,) dtype=float32_ref>,\n",
       " <tf.Variable 'Dense_10/kernel:0' shape=(84, 10) dtype=float32_ref>,\n",
       " <tf.Variable 'Dense_10/bias:0' shape=(10,) dtype=float32_ref>]"
      ]
     },
     "execution_count": 15,
     "metadata": {},
     "output_type": "execute_result"
    }
   ],
   "source": [
    "tf.get_collection(tf.GraphKeys.GLOBAL_VARIABLES)"
   ]
  },
  {
   "cell_type": "markdown",
   "metadata": {},
   "source": [
    "**Check**"
   ]
  },
  {
   "cell_type": "code",
   "execution_count": 16,
   "metadata": {},
   "outputs": [
    {
     "name": "stdout",
     "output_type": "stream",
     "text": [
      "['classifier', 'model_input', 'loss', 'variables', 'data_handle', 'target', 'train', 'train_op', 'trainable_variables', 'iterators']\n",
      "[<tf.Tensor 'Dense_10/BiasAdd:0' shape=(?, 10) dtype=float32>]\n",
      "[<tf.Tensor 'Placeholder:0' shape=() dtype=string>]\n"
     ]
    }
   ],
   "source": [
    "with tf.Session() as sess:\n",
    "    #saver.restore(sess,tf.train.latest_checkpoint('models/MNIST_CNN/'))\n",
    "    print(sess.graph.get_all_collection_keys())\n",
    "    print(sess.graph.get_collection('classifier'))\n",
    "    print(sess.graph.get_collection('data_handle'))    "
   ]
  },
  {
   "cell_type": "markdown",
   "metadata": {},
   "source": [
    "**Check loading** "
   ]
  },
  {
   "cell_type": "code",
   "execution_count": 17,
   "metadata": {},
   "outputs": [
    {
     "name": "stdout",
     "output_type": "stream",
     "text": [
      "INFO:tensorflow:Restoring parameters from models/MNIST_CNN/mnist_model.ckpt\n"
     ]
    }
   ],
   "source": [
    "with tf.Session() as sess:\n",
    "    saver.restore(sess,tf.train.latest_checkpoint('models/MNIST_CNN/'))\n",
    "    sess.run(train_iterator.initializer)\n",
    "    hdl = sess.run(train_iterator.string_handle())\n",
    "    out = sess.run(sess.graph.get_collection('classifier')[0],{sess.graph.get_collection('data_handle')[0]:hdl})"
   ]
  },
  {
   "cell_type": "code",
   "execution_count": 18,
   "metadata": {},
   "outputs": [
    {
     "data": {
      "text/plain": [
       "array([[  2.0189478 ,  -4.2664776 ,   3.5971777 ,   1.1141664 ,\n",
       "         -2.367669  ,  -5.1707683 ,  -0.50807637,  -5.4258213 ,\n",
       "         10.6410055 ,   1.9788061 ],\n",
       "       [  2.525255  ,  -4.3408823 ,  -0.8567331 ,   1.416412  ,\n",
       "         -5.978265  ,   5.3786383 ,   1.6240177 ,  -9.845654  ,\n",
       "          6.0208855 ,   1.4002415 ],\n",
       "       [  2.4485016 ,  -5.0073833 ,  -1.1253401 ,   2.2328122 ,\n",
       "         -2.3208823 ,  -0.5262407 ,  -0.8510316 ,  -9.240399  ,\n",
       "         11.391828  ,   2.8907218 ],\n",
       "       [  0.2218481 ,  -3.2344196 ,   0.5811044 ,  -1.1239905 ,\n",
       "         -0.5756186 ,   2.7580996 ,   7.7709365 , -13.409174  ,\n",
       "          7.724094  ,  -2.4644518 ],\n",
       "       [  7.118596  ,  -4.057072  ,   5.0432315 ,   0.60894734,\n",
       "         -3.9047565 ,  -0.9013839 ,   1.5265572 ,  -7.388623  ,\n",
       "          6.8964763 ,  -3.3079648 ],\n",
       "       [  4.3943677 ,  -4.572311  ,   1.7764732 ,   0.7551139 ,\n",
       "         -2.4600933 ,  -1.2062032 ,   2.5403178 , -10.603845  ,\n",
       "          9.449195  ,  -0.40938628],\n",
       "       [  3.9695783 ,  -4.149047  ,   1.471693  ,   0.78778034,\n",
       "         -2.3480775 ,  -0.3207467 ,   1.7691698 ,  -9.603303  ,\n",
       "         11.303334  ,  -0.811905  ],\n",
       "       [  3.000004  ,  -6.433831  ,   1.4901146 ,   3.6873097 ,\n",
       "         -3.8305905 ,  -3.9146023 ,  -1.7598982 ,  -3.4191327 ,\n",
       "          8.739144  ,   4.8652678 ],\n",
       "       [  1.7872187 ,  -4.7190895 ,   1.866745  ,   0.999911  ,\n",
       "         -0.89687085,  -1.7305975 ,   1.0281992 , -10.019808  ,\n",
       "         11.108979  ,   1.2143904 ],\n",
       "       [  5.610061  ,  -6.761235  ,   3.006925  ,  -2.38273   ,\n",
       "         -0.10269532,  -4.806787  ,  -0.02791733,  -3.3184783 ,\n",
       "          9.467517  ,   2.4297931 ]], dtype=float32)"
      ]
     },
     "execution_count": 18,
     "metadata": {},
     "output_type": "execute_result"
    }
   ],
   "source": [
    "out"
   ]
  },
  {
   "cell_type": "markdown",
   "metadata": {},
   "source": [
    "### Finetune"
   ]
  },
  {
   "cell_type": "code",
   "execution_count": 19,
   "metadata": {},
   "outputs": [],
   "source": [
    "!rm models/CIFAR10_grey/*"
   ]
  },
  {
   "cell_type": "code",
   "execution_count": 20,
   "metadata": {},
   "outputs": [
    {
     "name": "stdout",
     "output_type": "stream",
     "text": [
      "INFO:tensorflow:Restoring parameters from models/MNIST_CNN/mnist_model.ckpt\n",
      "Batch:  5000 2.0001802\n",
      "Batch:  10000 1.7430707\n",
      "Batch:  15000 1.6396687\n",
      "Batch:  20000 1.5670671\n",
      "Batch:  25000 1.5099636\n",
      "Batch:  30000 1.462484\n",
      "Batch:  35000 1.4191142\n",
      "Batch:  40000 1.3841664\n",
      "Batch:  45000 1.3517032\n",
      "Batch:  50000 1.3213867\n",
      "Batch:  55000 1.2926822\n",
      "Batch:  60000 1.2687166\n",
      "Batch:  65000 1.2451665\n",
      "Batch:  70000 1.2203715\n",
      "Batch:  75000 1.1963223\n",
      "Batch:  80000 1.1746683\n",
      "Batch:  85000 1.1517882\n",
      "Batch:  90000 1.1321872\n",
      "Batch:  95000 1.1118125\n",
      "Batch:  100000 1.0920491\n",
      "Elapsed time :  129.30929350852966  s\n"
     ]
    }
   ],
   "source": [
    "import time\n",
    "\n",
    "#Its better to use new saver, esp when you have created new tensors in this code\n",
    "saver_train = tf.train.Saver()\n",
    "\n",
    "with tf.Session() as sess:\n",
    "    saver.restore(sess,tf.train.latest_checkpoint('models/MNIST_CNN/'))\n",
    "    sess.run(train_iterator.initializer)\n",
    "    hdl = sess.run(train_iterator.string_handle())\n",
    "    \n",
    "    loss = sess.graph.get_collection('loss')[0]\n",
    "    train = sess.graph.get_collection('train')[0]\n",
    "    handle = sess.graph.get_collection('data_handle')[0]\n",
    "\n",
    "\n",
    "    start = time.time()\n",
    "    try:\n",
    "        i = 1\n",
    "        tmp = []\n",
    "        while True:\n",
    "            i = i+1\n",
    "            l,_ = sess.run([loss,train],{handle:hdl})\n",
    "            tmp.append(l)\n",
    "            if i%5000 == 0:\n",
    "                avg_loss = np.array(tmp).mean()\n",
    "                print(\"Batch: \",i,avg_loss)\n",
    "                tmp = []\n",
    "                \n",
    "    except tf.errors.OutOfRangeError:\n",
    "        pass\n",
    "    \n",
    "    end = time.time()\n",
    "    elapsed = end-start\n",
    "    print(\"Elapsed time : \", elapsed, \" s\")\n",
    "    \n",
    "    \n",
    "    saver_train.save(sess,'models/CIFAR10_grey/cifar_model.ckpt')"
   ]
  },
  {
   "cell_type": "markdown",
   "metadata": {},
   "source": [
    "### Evaluate"
   ]
  },
  {
   "cell_type": "code",
   "execution_count": 21,
   "metadata": {},
   "outputs": [],
   "source": [
    "with tf.device('/cpu:0'):\n",
    "    test_dataset = cifar_dataset(['datasets/cifar-10-batches-bin/test_batch.bin'])\n",
    "    test_dataset = test_dataset.batch(10)\n",
    "    test_dataset = test_dataset.prefetch(2)\n",
    "    \n",
    "test_iterator = test_dataset.make_initializable_iterator()"
   ]
  },
  {
   "cell_type": "code",
   "execution_count": 22,
   "metadata": {},
   "outputs": [
    {
     "name": "stdout",
     "output_type": "stream",
     "text": [
      "INFO:tensorflow:Restoring parameters from models/CIFAR10_grey/cifar_model.ckpt\n",
      "100 Mean Acc :  0.53099996\n",
      "200 Mean Acc :  0.535\n",
      "300 Mean Acc :  0.51500005\n",
      "400 Mean Acc :  0.536\n",
      "500 Mean Acc :  0.546\n",
      "600 Mean Acc :  0.55\n",
      "700 Mean Acc :  0.525\n",
      "800 Mean Acc :  0.53400004\n",
      "900 Mean Acc :  0.50499994\n",
      "1000 Mean Acc :  0.523\n"
     ]
    }
   ],
   "source": [
    "def get_accuracy(predict:'eg: [2,4,1,...]',true: 'eg: [2,4,1,...]') -> int:\n",
    "    correct_pred = tf.equal(predict,true)\n",
    "    #We have to cast [True,False,True,...] --> [1,0,1...]\n",
    "    acc = tf.reduce_mean(tf.cast(correct_pred,tf.float32))\n",
    "    return acc\n",
    "\n",
    "\n",
    "with tf.Session() as sess:\n",
    "\n",
    "    saver_train.restore(sess,'models/CIFAR10_grey/cifar_model.ckpt')\n",
    "    sess.run(test_iterator.initializer)\n",
    "    hdl = sess.run(test_iterator.string_handle())\n",
    "\n",
    "    \n",
    "    label = sess.graph.get_collection('target')[0]\n",
    "    classifier = sess.graph.get_collection('classifier')[0]\n",
    "    handle = sess.graph.get_collection('data_handle')[0]\n",
    "    \n",
    "    #IMPORTANT:\n",
    "    #Dont place this code inside the loop! This will slow down everything\n",
    "    acc = get_accuracy(tf.argmax(classifier,axis=1),tf.transpose(tf.argmax(tf.one_hot(label,10),axis=2)))\n",
    "    \n",
    "    try:\n",
    "        i = 0\n",
    "        acc_list = []\n",
    "        while True:\n",
    "            i = i+1\n",
    "            a = sess.run(acc,{handle:hdl})\n",
    "            acc_list.append(a)\n",
    "            if i%100 == 0:\n",
    "                print(i, \"Mean Acc : \", np.array(acc_list).mean())\n",
    "                acc_list = []\n",
    "                           \n",
    "    except tf.errors.OutOfRangeError:\n",
    "        pass    "
   ]
  },
  {
   "cell_type": "markdown",
   "metadata": {},
   "source": [
    "### Training LeNET from scratch (Not much difference)\n",
    "\n",
    "> Just add **tf.global_variable_initializer** to the previous code"
   ]
  },
  {
   "cell_type": "code",
   "execution_count": 23,
   "metadata": {},
   "outputs": [],
   "source": [
    "!rm models/CIFAR10_grey/*"
   ]
  },
  {
   "cell_type": "code",
   "execution_count": 26,
   "metadata": {},
   "outputs": [
    {
     "name": "stdout",
     "output_type": "stream",
     "text": [
      "INFO:tensorflow:Restoring parameters from models/MNIST_CNN/mnist_model.ckpt\n",
      "Batch:  5000 2.0937455\n",
      "Batch:  10000 1.8949004\n",
      "Batch:  15000 1.7356673\n",
      "Batch:  20000 1.648246\n",
      "Batch:  25000 1.5810332\n",
      "Batch:  30000 1.5213076\n",
      "Batch:  35000 1.4676836\n",
      "Batch:  40000 1.4214152\n",
      "Batch:  45000 1.3797578\n",
      "Batch:  50000 1.3418465\n",
      "Batch:  55000 1.3089824\n",
      "Batch:  60000 1.2737926\n",
      "Batch:  65000 1.2469199\n",
      "Batch:  70000 1.2171801\n",
      "Batch:  75000 1.1889061\n",
      "Batch:  80000 1.1639483\n",
      "Batch:  85000 1.1366851\n",
      "Batch:  90000 1.1154944\n",
      "Batch:  95000 1.0912582\n",
      "Batch:  100000 1.0679497\n",
      "Elapsed time :  131.02445888519287  s\n"
     ]
    }
   ],
   "source": [
    "import time\n",
    "#saver = tf.train.import_meta_graph('models/MNIST_CNN/mnist_model.ckpt.meta')\n",
    "\n",
    "\n",
    "with tf.Session() as sess:\n",
    "    saver.restore(sess,tf.train.latest_checkpoint('models/MNIST_CNN/'))\n",
    "    sess.run(tf.global_variables_initializer()) \n",
    "    sess.run(train_iterator.initializer)\n",
    "    hdl = sess.run(train_iterator.string_handle())\n",
    "    \n",
    "    loss = sess.graph.get_collection('loss')[0]\n",
    "    train = sess.graph.get_collection('train')[0]\n",
    "    handle = sess.graph.get_collection('data_handle')[0]\n",
    "\n",
    "\n",
    "    start = time.time()\n",
    "    try:\n",
    "        i = 1\n",
    "        tmp = []\n",
    "        while True:\n",
    "            i = i+1\n",
    "            l,_ = sess.run([loss,train],{handle:hdl})\n",
    "            tmp.append(l)\n",
    "            if i%5000 == 0:\n",
    "                avg_loss = np.array(tmp).mean()\n",
    "                print(\"Batch: \",i,avg_loss)\n",
    "                tmp = []\n",
    "                \n",
    "    except tf.errors.OutOfRangeError:\n",
    "        pass\n",
    "    \n",
    "    end = time.time()\n",
    "    elapsed = end-start\n",
    "    print(\"Elapsed time : \", elapsed, \" s\")\n",
    "    \n",
    "    \n",
    "    saver.save(sess,'models/CIFAR10_grey/cifar_model.ckpt')"
   ]
  },
  {
   "cell_type": "markdown",
   "metadata": {},
   "source": [
    "### Evaluate"
   ]
  },
  {
   "cell_type": "code",
   "execution_count": 27,
   "metadata": {},
   "outputs": [
    {
     "name": "stdout",
     "output_type": "stream",
     "text": [
      "INFO:tensorflow:Restoring parameters from models/CIFAR10_grey/cifar_model.ckpt\n",
      "100 Mean Acc :  0.543\n",
      "200 Mean Acc :  0.523\n",
      "300 Mean Acc :  0.53199995\n",
      "400 Mean Acc :  0.536\n",
      "500 Mean Acc :  0.56399995\n",
      "600 Mean Acc :  0.515\n",
      "700 Mean Acc :  0.49300003\n",
      "800 Mean Acc :  0.53999996\n",
      "900 Mean Acc :  0.51\n",
      "1000 Mean Acc :  0.52900004\n"
     ]
    }
   ],
   "source": [
    "with tf.Session() as sess:\n",
    "    saver.restore(sess,'models/CIFAR10_grey/cifar_model.ckpt')\n",
    "    #sess.run(tf.global_variables_initializer()) #0.01 acc for non trained model\n",
    "    sess.run(test_iterator.initializer)\n",
    "    hdl = sess.run(test_iterator.string_handle())\n",
    "    \n",
    "    label = sess.graph.get_collection('target')[0]\n",
    "    classifier = sess.graph.get_collection('classifier')[0]\n",
    "    \n",
    "    #IMPORTANT:\n",
    "    #Dont place this code inside the loop! This will slow down everything\n",
    "    acc = get_accuracy(tf.argmax(classifier,axis=1),tf.transpose(tf.argmax(tf.one_hot(label,10),axis=2)))\n",
    "    \n",
    "    try:\n",
    "        i = 0\n",
    "        acc_list = []\n",
    "        while True:\n",
    "            i = i+1\n",
    "            a = sess.run(acc,{handle:hdl})\n",
    "            acc_list.append(a)\n",
    "            if i%100 == 0:\n",
    "                print(i, \"Mean Acc : \", np.array(acc_list).mean())\n",
    "                acc_list = []\n",
    "                           \n",
    "    except tf.errors.OutOfRangeError:\n",
    "        pass    "
   ]
  },
  {
   "cell_type": "markdown",
   "metadata": {},
   "source": [
    "## Summary\n",
    "\n",
    "**IMPORTANT**: \n",
    "\n",
    "> 1) Do not call **get_next** of any child iterators, when using **feedable iterators**. Make sure they are not called before taining\n",
    "\n",
    "> 2) Calling **import_meta_data** adds all the variables to the default graph"
   ]
  },
  {
   "cell_type": "code",
   "execution_count": null,
   "metadata": {},
   "outputs": [],
   "source": []
  }
 ],
 "metadata": {
  "kernelspec": {
   "display_name": "Python 3",
   "language": "python",
   "name": "python3"
  },
  "language_info": {
   "codemirror_mode": {
    "name": "ipython",
    "version": 3
   },
   "file_extension": ".py",
   "mimetype": "text/x-python",
   "name": "python",
   "nbconvert_exporter": "python",
   "pygments_lexer": "ipython3",
   "version": "3.5.2"
  }
 },
 "nbformat": 4,
 "nbformat_minor": 2
}
