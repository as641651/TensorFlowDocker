{
 "cells": [
  {
   "cell_type": "markdown",
   "metadata": {},
   "source": [
    "## Tensorflow - Numpy Equivalence\n",
    "\n",
    "Exercises in **Refresher_numpy** are repeated for **tensorflow** version"
   ]
  },
  {
   "cell_type": "code",
   "execution_count": 1,
   "metadata": {},
   "outputs": [],
   "source": [
    "import tensorflow as tf\n",
    "import numpy as np"
   ]
  },
  {
   "cell_type": "code",
   "execution_count": 2,
   "metadata": {},
   "outputs": [],
   "source": [
    "sess = tf.Session()"
   ]
  },
  {
   "cell_type": "code",
   "execution_count": 4,
   "metadata": {},
   "outputs": [
    {
     "data": {
      "text/plain": [
       "10"
      ]
     },
     "execution_count": 4,
     "metadata": {},
     "output_type": "execute_result"
    }
   ],
   "source": [
    "const = tf.constant(10)\n",
    "sess.run(const)"
   ]
  },
  {
   "cell_type": "markdown",
   "metadata": {},
   "source": [
    "### Generating sequence"
   ]
  },
  {
   "cell_type": "code",
   "execution_count": 7,
   "metadata": {},
   "outputs": [
    {
     "name": "stdout",
     "output_type": "stream",
     "text": [
      "Tensor(\"range_2:0\", shape=(10,), dtype=int32)\n",
      "name: \"range_2\"\n",
      "op: \"Range\"\n",
      "input: \"range_2/start\"\n",
      "input: \"range_2/limit\"\n",
      "input: \"range_2/delta\"\n",
      "attr {\n",
      "  key: \"Tidx\"\n",
      "  value {\n",
      "    type: DT_INT32\n",
      "  }\n",
      "}\n",
      "\n"
     ]
    }
   ],
   "source": [
    "arange = tf.range(0,10,1)\n",
    "print(arange)\n",
    "print(arange.op)"
   ]
  },
  {
   "cell_type": "code",
   "execution_count": 8,
   "metadata": {},
   "outputs": [
    {
     "data": {
      "text/plain": [
       "array([0, 1, 2, 3, 4, 5, 6, 7, 8, 9], dtype=int32)"
      ]
     },
     "execution_count": 8,
     "metadata": {},
     "output_type": "execute_result"
    }
   ],
   "source": [
    "sess.run(arange)"
   ]
  },
  {
   "cell_type": "code",
   "execution_count": 11,
   "metadata": {},
   "outputs": [
    {
     "name": "stdout",
     "output_type": "stream",
     "text": [
      "name: \"LinSpace_2\"\n",
      "op: \"LinSpace\"\n",
      "input: \"LinSpace_2/start\"\n",
      "input: \"LinSpace_2/stop\"\n",
      "input: \"LinSpace_2/num\"\n",
      "attr {\n",
      "  key: \"T\"\n",
      "  value {\n",
      "    type: DT_FLOAT\n",
      "  }\n",
      "}\n",
      "attr {\n",
      "  key: \"Tidx\"\n",
      "  value {\n",
      "    type: DT_INT32\n",
      "  }\n",
      "}\n",
      "\n"
     ]
    }
   ],
   "source": [
    "linspace = tf.linspace(0.,10.,10) #start stop must be float\n",
    "print(linspace.op)"
   ]
  },
  {
   "cell_type": "code",
   "execution_count": 13,
   "metadata": {},
   "outputs": [
    {
     "data": {
      "text/plain": [
       "array([ 0.       ,  1.1111112,  2.2222223,  3.3333335,  4.4444447,\n",
       "        5.555556 ,  6.666667 ,  7.777778 ,  8.888889 , 10.       ],\n",
       "      dtype=float32)"
      ]
     },
     "execution_count": 13,
     "metadata": {},
     "output_type": "execute_result"
    }
   ],
   "source": [
    "sess.run(linspace)"
   ]
  },
  {
   "cell_type": "markdown",
   "metadata": {},
   "source": [
    "### Tensor creation"
   ]
  },
  {
   "cell_type": "code",
   "execution_count": 14,
   "metadata": {},
   "outputs": [
    {
     "name": "stdout",
     "output_type": "stream",
     "text": [
      "name: \"zeros\"\n",
      "op: \"Const\"\n",
      "attr {\n",
      "  key: \"dtype\"\n",
      "  value {\n",
      "    type: DT_FLOAT\n",
      "  }\n",
      "}\n",
      "attr {\n",
      "  key: \"value\"\n",
      "  value {\n",
      "    tensor {\n",
      "      dtype: DT_FLOAT\n",
      "      tensor_shape {\n",
      "        dim {\n",
      "          size: 3\n",
      "        }\n",
      "        dim {\n",
      "          size: 5\n",
      "        }\n",
      "      }\n",
      "      float_val: 0.0\n",
      "    }\n",
      "  }\n",
      "}\n",
      "\n"
     ]
    }
   ],
   "source": [
    "zeros = tf.zeros((3,5)) #or tf.ones\n",
    "print(zeros.op)"
   ]
  },
  {
   "cell_type": "code",
   "execution_count": 15,
   "metadata": {},
   "outputs": [
    {
     "data": {
      "text/plain": [
       "array([[0., 0., 0., 0., 0.],\n",
       "       [0., 0., 0., 0., 0.],\n",
       "       [0., 0., 0., 0., 0.]], dtype=float32)"
      ]
     },
     "execution_count": 15,
     "metadata": {},
     "output_type": "execute_result"
    }
   ],
   "source": [
    "sess.run(zeros)"
   ]
  },
  {
   "cell_type": "code",
   "execution_count": 26,
   "metadata": {},
   "outputs": [
    {
     "name": "stdout",
     "output_type": "stream",
     "text": [
      "name: \"Fill_2\"\n",
      "op: \"Fill\"\n",
      "input: \"Fill_2/dims\"\n",
      "input: \"Fill_2/value\"\n",
      "attr {\n",
      "  key: \"T\"\n",
      "  value {\n",
      "    type: DT_INT32\n",
      "  }\n",
      "}\n",
      "attr {\n",
      "  key: \"index_type\"\n",
      "  value {\n",
      "    type: DT_INT32\n",
      "  }\n",
      "}\n",
      "\n"
     ]
    },
    {
     "data": {
      "text/plain": [
       "array([[4, 4, 4, 4, 4],\n",
       "       [4, 4, 4, 4, 4],\n",
       "       [4, 4, 4, 4, 4]], dtype=int32)"
      ]
     },
     "execution_count": 26,
     "metadata": {},
     "output_type": "execute_result"
    }
   ],
   "source": [
    "fill = tf.fill((3,5),4)\n",
    "print(fill.op)\n",
    "sess.run(fill)"
   ]
  },
  {
   "cell_type": "code",
   "execution_count": 27,
   "metadata": {},
   "outputs": [
    {
     "name": "stdout",
     "output_type": "stream",
     "text": [
      "name: \"Const_2\"\n",
      "op: \"Const\"\n",
      "attr {\n",
      "  key: \"dtype\"\n",
      "  value {\n",
      "    type: DT_INT32\n",
      "  }\n",
      "}\n",
      "attr {\n",
      "  key: \"value\"\n",
      "  value {\n",
      "    tensor {\n",
      "      dtype: DT_INT32\n",
      "      tensor_shape {\n",
      "        dim {\n",
      "          size: 3\n",
      "        }\n",
      "        dim {\n",
      "          size: 5\n",
      "        }\n",
      "      }\n",
      "      int_val: 4\n",
      "    }\n",
      "  }\n",
      "}\n",
      "\n"
     ]
    },
    {
     "data": {
      "text/plain": [
       "array([[4, 4, 4, 4, 4],\n",
       "       [4, 4, 4, 4, 4],\n",
       "       [4, 4, 4, 4, 4]], dtype=int32)"
      ]
     },
     "execution_count": 27,
     "metadata": {},
     "output_type": "execute_result"
    }
   ],
   "source": [
    "fill_const = tf.constant(4,shape=(3,5))\n",
    "print(fill_const.op)\n",
    "sess.run(fill_const)"
   ]
  },
  {
   "cell_type": "code",
   "execution_count": 16,
   "metadata": {},
   "outputs": [
    {
     "name": "stdout",
     "output_type": "stream",
     "text": [
      "name: \"random_normal\"\n",
      "op: \"Add\"\n",
      "input: \"random_normal/mul\"\n",
      "input: \"random_normal/mean\"\n",
      "attr {\n",
      "  key: \"T\"\n",
      "  value {\n",
      "    type: DT_FLOAT\n",
      "  }\n",
      "}\n",
      "\n"
     ]
    }
   ],
   "source": [
    "rnd_normal = tf.random_normal((3,5),1,0.01)\n",
    "print(rnd_normal.op)"
   ]
  },
  {
   "cell_type": "code",
   "execution_count": 17,
   "metadata": {},
   "outputs": [
    {
     "data": {
      "text/plain": [
       "array([[0.9995551 , 0.99447954, 0.98896337, 1.0143579 , 1.004673  ],\n",
       "       [0.9862911 , 1.003186  , 1.0032037 , 0.9918547 , 1.0023279 ],\n",
       "       [1.0119741 , 1.0049429 , 1.0007715 , 0.99658316, 0.99718565]],\n",
       "      dtype=float32)"
      ]
     },
     "execution_count": 17,
     "metadata": {},
     "output_type": "execute_result"
    }
   ],
   "source": [
    "sess.run(rnd_normal)"
   ]
  },
  {
   "cell_type": "markdown",
   "metadata": {},
   "source": [
    "**Using random seed**"
   ]
  },
  {
   "cell_type": "code",
   "execution_count": 89,
   "metadata": {},
   "outputs": [],
   "source": [
    "tf.set_random_seed(99)"
   ]
  },
  {
   "cell_type": "code",
   "execution_count": 40,
   "metadata": {},
   "outputs": [
    {
     "data": {
      "text/plain": [
       "array([[3, 5, 1, 3, 3],\n",
       "       [0, 6, 8, 4, 1],\n",
       "       [2, 4, 7, 9, 5]], dtype=int32)"
      ]
     },
     "execution_count": 40,
     "metadata": {},
     "output_type": "execute_result"
    }
   ],
   "source": [
    "rnd_int = tf.random_uniform((3,5),0,10,dtype=tf.int32,seed=101)\n",
    "sess.run(rnd_int)"
   ]
  },
  {
   "cell_type": "markdown",
   "metadata": {},
   "source": [
    "### Reshaping\n",
    "\n",
    "Everything works same as numpy"
   ]
  },
  {
   "cell_type": "code",
   "execution_count": 43,
   "metadata": {},
   "outputs": [
    {
     "data": {
      "text/plain": [
       "array([ 0,  1,  2,  3,  4,  5,  6,  7,  8,  9, 10, 11, 12, 13, 14],\n",
       "      dtype=int32)"
      ]
     },
     "execution_count": 43,
     "metadata": {},
     "output_type": "execute_result"
    }
   ],
   "source": [
    "const = tf.range(0,15,1)\n",
    "sess.run(const)"
   ]
  },
  {
   "cell_type": "code",
   "execution_count": 46,
   "metadata": {},
   "outputs": [
    {
     "name": "stdout",
     "output_type": "stream",
     "text": [
      "Tensor(\"Reshape_7:0\", shape=(3, 5), dtype=int32)\n"
     ]
    },
    {
     "data": {
      "text/plain": [
       "array([[ 0,  1,  2,  3,  4],\n",
       "       [ 5,  6,  7,  8,  9],\n",
       "       [10, 11, 12, 13, 14]], dtype=int32)"
      ]
     },
     "execution_count": 46,
     "metadata": {},
     "output_type": "execute_result"
    }
   ],
   "source": [
    "reshape = tf.reshape(const,(3,5)) \n",
    "print(reshape)\n",
    "sess.run(reshape)"
   ]
  },
  {
   "cell_type": "code",
   "execution_count": 47,
   "metadata": {},
   "outputs": [
    {
     "name": "stdout",
     "output_type": "stream",
     "text": [
      "Tensor(\"Reshape_8:0\", shape=(15,), dtype=int32)\n"
     ]
    },
    {
     "data": {
      "text/plain": [
       "array([ 0,  1,  2,  3,  4,  5,  6,  7,  8,  9, 10, 11, 12, 13, 14],\n",
       "      dtype=int32)"
      ]
     },
     "execution_count": 47,
     "metadata": {},
     "output_type": "execute_result"
    }
   ],
   "source": [
    "reshape = tf.reshape(reshape,(-1,)) #dont miss the comma\n",
    "print(reshape)\n",
    "sess.run(reshape)"
   ]
  },
  {
   "cell_type": "code",
   "execution_count": 48,
   "metadata": {},
   "outputs": [
    {
     "name": "stdout",
     "output_type": "stream",
     "text": [
      "Tensor(\"Reshape_9:0\", shape=(5, 3), dtype=int32)\n"
     ]
    },
    {
     "data": {
      "text/plain": [
       "array([[ 0,  1,  2],\n",
       "       [ 3,  4,  5],\n",
       "       [ 6,  7,  8],\n",
       "       [ 9, 10, 11],\n",
       "       [12, 13, 14]], dtype=int32)"
      ]
     },
     "execution_count": 48,
     "metadata": {},
     "output_type": "execute_result"
    }
   ],
   "source": [
    "reshape = tf.reshape(reshape,(5,-1))\n",
    "print(reshape)\n",
    "sess.run(reshape)"
   ]
  },
  {
   "cell_type": "markdown",
   "metadata": {},
   "source": [
    "Reshape leaving the batch axis"
   ]
  },
  {
   "cell_type": "code",
   "execution_count": 4,
   "metadata": {},
   "outputs": [
    {
     "name": "stdout",
     "output_type": "stream",
     "text": [
      "Tensor(\"ones_1:0\", shape=(5, 5, 5), dtype=float32)\n",
      "Tensor(\"Reshape:0\", shape=(5, 25), dtype=float32)\n"
     ]
    }
   ],
   "source": [
    "ones = tf.ones((5,5,5))\n",
    "print(ones)\n",
    "reshape = tf.reshape(ones,(-1,25))\n",
    "print(reshape)"
   ]
  },
  {
   "cell_type": "markdown",
   "metadata": {},
   "source": [
    "### Tensor operations"
   ]
  },
  {
   "cell_type": "code",
   "execution_count": 52,
   "metadata": {},
   "outputs": [
    {
     "data": {
      "text/plain": [
       "14"
      ]
     },
     "execution_count": 52,
     "metadata": {},
     "output_type": "execute_result"
    }
   ],
   "source": [
    "max_v = tf.reduce_max(const)\n",
    "sess.run(max_v)"
   ]
  },
  {
   "cell_type": "code",
   "execution_count": 53,
   "metadata": {},
   "outputs": [
    {
     "data": {
      "text/plain": [
       "0"
      ]
     },
     "execution_count": 53,
     "metadata": {},
     "output_type": "execute_result"
    }
   ],
   "source": [
    "min_v = tf.reduce_min(const)\n",
    "sess.run(min_v)"
   ]
  },
  {
   "cell_type": "code",
   "execution_count": 54,
   "metadata": {},
   "outputs": [
    {
     "data": {
      "text/plain": [
       "7"
      ]
     },
     "execution_count": 54,
     "metadata": {},
     "output_type": "execute_result"
    }
   ],
   "source": [
    "mean_v = tf.reduce_mean(const)\n",
    "sess.run(mean_v)"
   ]
  },
  {
   "cell_type": "code",
   "execution_count": 56,
   "metadata": {},
   "outputs": [
    {
     "data": {
      "text/plain": [
       "14"
      ]
     },
     "execution_count": 56,
     "metadata": {},
     "output_type": "execute_result"
    }
   ],
   "source": [
    "#Index location of max value\n",
    "argmax_v = tf.argmax(const)\n",
    "sess.run(argmax_v)"
   ]
  },
  {
   "cell_type": "markdown",
   "metadata": {},
   "source": [
    "### Slicing\n",
    "\n",
    "Everything including syntax works same as numpy\n",
    "\n",
    "To grab specific columns or rows, use **tf.nn.embedding_lookup**"
   ]
  },
  {
   "cell_type": "code",
   "execution_count": 24,
   "metadata": {},
   "outputs": [
    {
     "data": {
      "text/plain": [
       "array([[ 0,  1,  2,  3,  4,  5,  6,  7,  8,  9],\n",
       "       [10, 11, 12, 13, 14, 15, 16, 17, 18, 19],\n",
       "       [20, 21, 22, 23, 24, 25, 26, 27, 28, 29],\n",
       "       [30, 31, 32, 33, 34, 35, 36, 37, 38, 39],\n",
       "       [40, 41, 42, 43, 44, 45, 46, 47, 48, 49],\n",
       "       [50, 51, 52, 53, 54, 55, 56, 57, 58, 59],\n",
       "       [60, 61, 62, 63, 64, 65, 66, 67, 68, 69],\n",
       "       [70, 71, 72, 73, 74, 75, 76, 77, 78, 79],\n",
       "       [80, 81, 82, 83, 84, 85, 86, 87, 88, 89],\n",
       "       [90, 91, 92, 93, 94, 95, 96, 97, 98, 99]], dtype=int32)"
      ]
     },
     "execution_count": 24,
     "metadata": {},
     "output_type": "execute_result"
    }
   ],
   "source": [
    "mat = tf.reshape(tf.range(0,100,1),(10,10))\n",
    "sess.run(mat)"
   ]
  },
  {
   "cell_type": "code",
   "execution_count": 25,
   "metadata": {},
   "outputs": [
    {
     "data": {
      "text/plain": [
       "array([0, 1, 2, 3, 4, 5, 6, 7, 8, 9], dtype=int32)"
      ]
     },
     "execution_count": 25,
     "metadata": {},
     "output_type": "execute_result"
    }
   ],
   "source": [
    "sess.run(mat[0,:])#First row"
   ]
  },
  {
   "cell_type": "code",
   "execution_count": 27,
   "metadata": {},
   "outputs": [
    {
     "data": {
      "text/plain": [
       "array([[ 0,  1,  2,  3,  4,  5,  6,  7,  8,  9],\n",
       "       [20, 21, 22, 23, 24, 25, 26, 27, 28, 29]], dtype=int32)"
      ]
     },
     "execution_count": 27,
     "metadata": {},
     "output_type": "execute_result"
    }
   ],
   "source": [
    "sess.run(tf.nn.embedding_lookup(mat,[0,2]))  #First and third row"
   ]
  },
  {
   "cell_type": "code",
   "execution_count": 59,
   "metadata": {},
   "outputs": [
    {
     "data": {
      "text/plain": [
       "array([ 0, 10, 20, 30, 40, 50, 60, 70, 80, 90], dtype=int32)"
      ]
     },
     "execution_count": 59,
     "metadata": {},
     "output_type": "execute_result"
    }
   ],
   "source": [
    "sess.run(mat[:,0])#First column"
   ]
  },
  {
   "cell_type": "code",
   "execution_count": 30,
   "metadata": {},
   "outputs": [
    {
     "data": {
      "text/plain": [
       "array([[ 0, 10, 20, 30, 40, 50, 60, 70, 80, 90],\n",
       "       [ 2, 12, 22, 32, 42, 52, 62, 72, 82, 92]], dtype=int32)"
      ]
     },
     "execution_count": 30,
     "metadata": {},
     "output_type": "execute_result"
    }
   ],
   "source": [
    "sess.run(tf.nn.embedding_lookup(tf.transpose(mat),[0,2]))  #First and third column"
   ]
  },
  {
   "cell_type": "code",
   "execution_count": 60,
   "metadata": {},
   "outputs": [
    {
     "data": {
      "text/plain": [
       "array([[ 0,  1,  2],\n",
       "       [10, 11, 12]], dtype=int32)"
      ]
     },
     "execution_count": 60,
     "metadata": {},
     "output_type": "execute_result"
    }
   ],
   "source": [
    "sess.run(mat[:2,:3]) #slice first 2 rows and 3 columns"
   ]
  },
  {
   "cell_type": "code",
   "execution_count": 62,
   "metadata": {},
   "outputs": [
    {
     "data": {
      "text/plain": [
       "array([[25, 26, 27],\n",
       "       [35, 36, 37]], dtype=int32)"
      ]
     },
     "execution_count": 62,
     "metadata": {},
     "output_type": "execute_result"
    }
   ],
   "source": [
    "sess.run(mat[2:4,5:-2]) #slice from 2nd until 4th row, from 5th until last second column"
   ]
  },
  {
   "cell_type": "code",
   "execution_count": 63,
   "metadata": {},
   "outputs": [
    {
     "data": {
      "text/plain": [
       "array([[ 0,  2,  4],\n",
       "       [20, 22, 24],\n",
       "       [40, 42, 44]], dtype=int32)"
      ]
     },
     "execution_count": 63,
     "metadata": {},
     "output_type": "execute_result"
    }
   ],
   "source": [
    "sess.run(mat[:5:2,:5:2]) #slice every 2nd element from first 5 rows and column "
   ]
  },
  {
   "cell_type": "code",
   "execution_count": 65,
   "metadata": {},
   "outputs": [
    {
     "data": {
      "text/plain": [
       "array([[ 0,  2,  4,  6,  8],\n",
       "       [20, 22, 24, 26, 28],\n",
       "       [40, 42, 44, 46, 48],\n",
       "       [60, 62, 64, 66, 68],\n",
       "       [80, 82, 84, 86, 88]], dtype=int32)"
      ]
     },
     "execution_count": 65,
     "metadata": {},
     "output_type": "execute_result"
    }
   ],
   "source": [
    "sess.run(mat[::2,::2])#slice every 2nd element in whole matrix"
   ]
  },
  {
   "cell_type": "code",
   "execution_count": 66,
   "metadata": {},
   "outputs": [
    {
     "data": {
      "text/plain": [
       "array([[23, 25, 27, 29],\n",
       "       [43, 45, 47, 49],\n",
       "       [63, 65, 67, 69],\n",
       "       [83, 85, 87, 89]], dtype=int32)"
      ]
     },
     "execution_count": 66,
     "metadata": {},
     "output_type": "execute_result"
    }
   ],
   "source": [
    "sess.run(mat[2::2,3::2]) #every 2nd element starting from index 2 of row and index 3 of column"
   ]
  },
  {
   "cell_type": "code",
   "execution_count": 67,
   "metadata": {},
   "outputs": [
    {
     "data": {
      "text/plain": [
       "array([[99, 98, 97, 96, 95, 94, 93, 92, 91, 90],\n",
       "       [89, 88, 87, 86, 85, 84, 83, 82, 81, 80],\n",
       "       [79, 78, 77, 76, 75, 74, 73, 72, 71, 70],\n",
       "       [69, 68, 67, 66, 65, 64, 63, 62, 61, 60],\n",
       "       [59, 58, 57, 56, 55, 54, 53, 52, 51, 50],\n",
       "       [49, 48, 47, 46, 45, 44, 43, 42, 41, 40],\n",
       "       [39, 38, 37, 36, 35, 34, 33, 32, 31, 30],\n",
       "       [29, 28, 27, 26, 25, 24, 23, 22, 21, 20],\n",
       "       [19, 18, 17, 16, 15, 14, 13, 12, 11, 10],\n",
       "       [ 9,  8,  7,  6,  5,  4,  3,  2,  1,  0]], dtype=int32)"
      ]
     },
     "execution_count": 67,
     "metadata": {},
     "output_type": "execute_result"
    }
   ],
   "source": [
    "sess.run(mat[::-1,::-1]) #reverse the entire matrix"
   ]
  },
  {
   "cell_type": "code",
   "execution_count": 68,
   "metadata": {},
   "outputs": [
    {
     "data": {
      "text/plain": [
       "array([[33, 32, 31, 30],\n",
       "       [23, 22, 21, 20],\n",
       "       [13, 12, 11, 10],\n",
       "       [ 3,  2,  1,  0]], dtype=int32)"
      ]
     },
     "execution_count": 68,
     "metadata": {},
     "output_type": "execute_result"
    }
   ],
   "source": [
    "sess.run(mat[3::-1,3::-1]) #pick up the first 3 rows and column and reverse them"
   ]
  },
  {
   "cell_type": "markdown",
   "metadata": {},
   "source": [
    "### Masking\n",
    "\n",
    "**tf.boolean_mask** should be used"
   ]
  },
  {
   "cell_type": "code",
   "execution_count": 70,
   "metadata": {},
   "outputs": [
    {
     "name": "stdout",
     "output_type": "stream",
     "text": [
      "Tensor(\"Greater_1:0\", shape=(10, 10), dtype=bool)\n"
     ]
    },
    {
     "data": {
      "text/plain": [
       "array([[False, False, False, False, False, False, False, False, False,\n",
       "        False],\n",
       "       [False, False, False, False, False, False, False, False, False,\n",
       "        False],\n",
       "       [False, False, False, False, False, False, False, False, False,\n",
       "        False],\n",
       "       [False, False, False, False, False, False, False, False, False,\n",
       "        False],\n",
       "       [False, False, False, False, False, False, False, False, False,\n",
       "        False],\n",
       "       [False,  True,  True,  True,  True,  True,  True,  True,  True,\n",
       "         True],\n",
       "       [ True,  True,  True,  True,  True,  True,  True,  True,  True,\n",
       "         True],\n",
       "       [ True,  True,  True,  True,  True,  True,  True,  True,  True,\n",
       "         True],\n",
       "       [ True,  True,  True,  True,  True,  True,  True,  True,  True,\n",
       "         True],\n",
       "       [ True,  True,  True,  True,  True,  True,  True,  True,  True,\n",
       "         True]])"
      ]
     },
     "execution_count": 70,
     "metadata": {},
     "output_type": "execute_result"
    }
   ],
   "source": [
    "my_filter = mat > 50\n",
    "print(my_filter)\n",
    "sess.run(my_filter)"
   ]
  },
  {
   "cell_type": "code",
   "execution_count": 75,
   "metadata": {},
   "outputs": [
    {
     "data": {
      "text/plain": [
       "array([51, 52, 53, 54, 55, 56, 57, 58, 59, 60, 61, 62, 63, 64, 65, 66, 67,\n",
       "       68, 69, 70, 71, 72, 73, 74, 75, 76, 77, 78, 79, 80, 81, 82, 83, 84,\n",
       "       85, 86, 87, 88, 89, 90, 91, 92, 93, 94, 95, 96, 97, 98, 99],\n",
       "      dtype=int32)"
      ]
     },
     "execution_count": 75,
     "metadata": {},
     "output_type": "execute_result"
    }
   ],
   "source": [
    "sess.run(tf.boolean_mask(mat,mat>50)) #Equivalent to mat[mat>50] ==> mat[my_filter]"
   ]
  },
  {
   "cell_type": "markdown",
   "metadata": {},
   "source": [
    "### Apply operations to elements that satisfy certain condition\n",
    "\n",
    "> **Reassignment** to same tensor **does not work** in tensorflow"
   ]
  },
  {
   "cell_type": "code",
   "execution_count": 73,
   "metadata": {},
   "outputs": [
    {
     "data": {
      "text/plain": [
       "array([[   0,    1,    2,    3,    4,    5,    6,    7,    8,    9],\n",
       "       [  10,   11,   12,   13,   14,   15,   16,   17,   18,   19],\n",
       "       [  20,   21,   22,   23,   24,   25,   26,   27,   28,   29],\n",
       "       [  30,   31,   32,   33,   34,   35,   36,   37,   38,   39],\n",
       "       [  40,   41,   42,   43,   44,   45,   46,   47,   48,   49],\n",
       "       [  50, -510, -520, -530, -540, -550, -560, -570, -580, -590],\n",
       "       [-600, -610, -620, -630, -640, -650, -660, -670, -680, -690],\n",
       "       [-700, -710, -720, -730, -740, -750, -760, -770, -780, -790],\n",
       "       [-800, -810, -820, -830, -840, -850, -860, -870, -880, -890],\n",
       "       [-900, -910, -920, -930, -940, -950, -960, -970, -980, -990]],\n",
       "      dtype=int32)"
      ]
     },
     "execution_count": 73,
     "metadata": {},
     "output_type": "execute_result"
    }
   ],
   "source": [
    "sess.run(tf.where(mat>50,mat*-10,mat)) #prefer tf.less instead of <\n",
    "#sess.run(tf.where(mat>50,-10,mat)) #Does not work. Both results should confirm to tensor dim. use mat*0-10"
   ]
  },
  {
   "cell_type": "markdown",
   "metadata": {},
   "source": [
    "### Get indices of masked elements"
   ]
  },
  {
   "cell_type": "code",
   "execution_count": 106,
   "metadata": {},
   "outputs": [
    {
     "data": {
      "text/plain": [
       "array([[0, 0],\n",
       "       [0, 2],\n",
       "       [0, 4],\n",
       "       [0, 6],\n",
       "       [0, 8],\n",
       "       [1, 0],\n",
       "       [1, 2],\n",
       "       [1, 4],\n",
       "       [1, 6],\n",
       "       [1, 8],\n",
       "       [2, 0],\n",
       "       [2, 2],\n",
       "       [2, 4],\n",
       "       [2, 6],\n",
       "       [2, 8],\n",
       "       [3, 0],\n",
       "       [3, 2],\n",
       "       [3, 4],\n",
       "       [3, 6],\n",
       "       [3, 8],\n",
       "       [4, 0],\n",
       "       [4, 2],\n",
       "       [4, 4],\n",
       "       [4, 6],\n",
       "       [4, 8],\n",
       "       [5, 0],\n",
       "       [5, 2],\n",
       "       [5, 4],\n",
       "       [5, 6],\n",
       "       [5, 8],\n",
       "       [6, 0],\n",
       "       [6, 2],\n",
       "       [6, 4],\n",
       "       [6, 6],\n",
       "       [6, 8],\n",
       "       [7, 0],\n",
       "       [7, 2],\n",
       "       [7, 4],\n",
       "       [7, 6],\n",
       "       [7, 8],\n",
       "       [8, 0],\n",
       "       [8, 2],\n",
       "       [8, 4],\n",
       "       [8, 6],\n",
       "       [8, 8],\n",
       "       [9, 0],\n",
       "       [9, 2],\n",
       "       [9, 4],\n",
       "       [9, 6],\n",
       "       [9, 8]])"
      ]
     },
     "execution_count": 106,
     "metadata": {},
     "output_type": "execute_result"
    }
   ],
   "source": [
    "sess.run(tf.where(tf.equal(mat%2,0)))\n",
    "#sess.run(tf.where(mat%2 == 0)) #does not work"
   ]
  },
  {
   "cell_type": "markdown",
   "metadata": {},
   "source": [
    "To get elements corresponding to indices, flatten the tensor and use **tf.nn.embedding_lookup**"
   ]
  },
  {
   "cell_type": "code",
   "execution_count": 117,
   "metadata": {},
   "outputs": [
    {
     "data": {
      "text/plain": [
       "array([[ 0],\n",
       "       [ 2],\n",
       "       [ 4],\n",
       "       [ 6],\n",
       "       [ 8],\n",
       "       [10],\n",
       "       [12],\n",
       "       [14],\n",
       "       [16],\n",
       "       [18],\n",
       "       [20],\n",
       "       [22],\n",
       "       [24],\n",
       "       [26],\n",
       "       [28],\n",
       "       [30],\n",
       "       [32],\n",
       "       [34],\n",
       "       [36],\n",
       "       [38],\n",
       "       [40],\n",
       "       [42],\n",
       "       [44],\n",
       "       [46],\n",
       "       [48],\n",
       "       [50],\n",
       "       [52],\n",
       "       [54],\n",
       "       [56],\n",
       "       [58],\n",
       "       [60],\n",
       "       [62],\n",
       "       [64],\n",
       "       [66],\n",
       "       [68],\n",
       "       [70],\n",
       "       [72],\n",
       "       [74],\n",
       "       [76],\n",
       "       [78],\n",
       "       [80],\n",
       "       [82],\n",
       "       [84],\n",
       "       [86],\n",
       "       [88],\n",
       "       [90],\n",
       "       [92],\n",
       "       [94],\n",
       "       [96],\n",
       "       [98]], dtype=int32)"
      ]
     },
     "execution_count": 117,
     "metadata": {},
     "output_type": "execute_result"
    }
   ],
   "source": [
    "mat_flat = tf.reshape(mat,(-1,))\n",
    "idx = tf.where(tf.equal(mat_flat%2,0))\n",
    "elx = tf.nn.embedding_lookup(mat_flat,idx)\n",
    "sess.run(elx)"
   ]
  },
  {
   "cell_type": "markdown",
   "metadata": {},
   "source": [
    "### Applying operation/function to specific indices\n",
    "\n",
    "> This is done using **tf.scatter**. See **Sampling** section for examples"
   ]
  },
  {
   "cell_type": "markdown",
   "metadata": {},
   "source": [
    "### Applying function\n",
    "\n",
    "This cannot be done in the numpy way as reassignment to tensors is not allowed. \n",
    "\n",
    "We **cant use**\n",
    "```bash\n",
    "mat[idx] = func(mat[idx])\n",
    "```\n",
    "We can manipulate whole column or rows as follows"
   ]
  },
  {
   "cell_type": "code",
   "execution_count": 83,
   "metadata": {},
   "outputs": [
    {
     "data": {
      "text/plain": [
       "array([[ 0,  1,  2],\n",
       "       [ 3,  4,  5],\n",
       "       [ 6,  7,  8],\n",
       "       [ 9, 10, 11],\n",
       "       [12, 13, 14]], dtype=int32)"
      ]
     },
     "execution_count": 83,
     "metadata": {},
     "output_type": "execute_result"
    }
   ],
   "source": [
    "a = tf.reshape(tf.range(0,15),(5,3))\n",
    "sess.run(a)"
   ]
  },
  {
   "cell_type": "markdown",
   "metadata": {},
   "source": [
    "**Normalizing all columns**"
   ]
  },
  {
   "cell_type": "code",
   "execution_count": 104,
   "metadata": {},
   "outputs": [
    {
     "data": {
      "text/plain": [
       "array([[0.  , 0.  , 0.  ],\n",
       "       [0.25, 0.25, 0.25],\n",
       "       [0.5 , 0.5 , 0.5 ],\n",
       "       [0.75, 0.75, 0.75],\n",
       "       [1.  , 1.  , 1.  ]])"
      ]
     },
     "execution_count": 104,
     "metadata": {},
     "output_type": "execute_result"
    }
   ],
   "source": [
    "def normalize(a): #can be any function\n",
    "    #see broadcasting to understand this computation\n",
    "    b = (a - tf.reduce_min(a))/(tf.reduce_max(a)-tf.reduce_min(a))\n",
    "    return b\n",
    "\n",
    "l = []\n",
    "for i in range(a.shape[1]):\n",
    "    b = tf.expand_dims(normalize(a[:,i]),axis=1) #concat requires more than 1D\n",
    "    l.append(b)\n",
    "c = tf.concat(l,axis=1)\n",
    "    \n",
    "sess.run(c)"
   ]
  },
  {
   "cell_type": "markdown",
   "metadata": {},
   "source": [
    "**Normalizing all rows**"
   ]
  },
  {
   "cell_type": "code",
   "execution_count": 105,
   "metadata": {},
   "outputs": [
    {
     "data": {
      "text/plain": [
       "array([[0. , 0.5, 1. ],\n",
       "       [0. , 0.5, 1. ],\n",
       "       [0. , 0.5, 1. ],\n",
       "       [0. , 0.5, 1. ],\n",
       "       [0. , 0.5, 1. ]])"
      ]
     },
     "execution_count": 105,
     "metadata": {},
     "output_type": "execute_result"
    }
   ],
   "source": [
    "l = []\n",
    "for i in range(a.shape[0]):\n",
    "    b = tf.expand_dims(normalize(a[i,:]),axis=0) #concat requires more than 1D\n",
    "    l.append(b)\n",
    "c = tf.concat(l,axis=0)\n",
    "    \n",
    "sess.run(c)"
   ]
  },
  {
   "cell_type": "markdown",
   "metadata": {},
   "source": [
    "### Broadcasting\n",
    "\n",
    "Works same as numpy"
   ]
  },
  {
   "cell_type": "code",
   "execution_count": 76,
   "metadata": {},
   "outputs": [
    {
     "data": {
      "text/plain": [
       "array([[1., 1., 1., 1.],\n",
       "       [1., 1., 1., 1.],\n",
       "       [1., 1., 1., 1.],\n",
       "       [1., 1., 1., 1.],\n",
       "       [1., 1., 1., 1.]], dtype=float32)"
      ]
     },
     "execution_count": 76,
     "metadata": {},
     "output_type": "execute_result"
    }
   ],
   "source": [
    "arr = tf.ones((5,4))\n",
    "sess.run(arr)"
   ]
  },
  {
   "cell_type": "code",
   "execution_count": 77,
   "metadata": {},
   "outputs": [
    {
     "data": {
      "text/plain": [
       "array([[2., 2., 2., 2.],\n",
       "       [2., 2., 2., 2.],\n",
       "       [2., 2., 2., 2.],\n",
       "       [2., 2., 2., 2.],\n",
       "       [2., 2., 2., 2.]], dtype=float32)"
      ]
     },
     "execution_count": 77,
     "metadata": {},
     "output_type": "execute_result"
    }
   ],
   "source": [
    "sess.run(arr + 1) #(5,4) + (1,)"
   ]
  },
  {
   "cell_type": "code",
   "execution_count": 78,
   "metadata": {},
   "outputs": [
    {
     "data": {
      "text/plain": [
       "array([[2., 3., 4., 5.],\n",
       "       [2., 3., 4., 5.],\n",
       "       [2., 3., 4., 5.],\n",
       "       [2., 3., 4., 5.],\n",
       "       [2., 3., 4., 5.]], dtype=float32)"
      ]
     },
     "execution_count": 78,
     "metadata": {},
     "output_type": "execute_result"
    }
   ],
   "source": [
    "sess.run(arr + [1,2,3,4]) #(5,4) + (4,)"
   ]
  },
  {
   "cell_type": "code",
   "execution_count": 82,
   "metadata": {},
   "outputs": [
    {
     "data": {
      "text/plain": [
       "array([[2., 2., 2., 2.],\n",
       "       [3., 3., 3., 3.],\n",
       "       [4., 4., 4., 4.],\n",
       "       [5., 5., 5., 5.],\n",
       "       [6., 6., 6., 6.]], dtype=float32)"
      ]
     },
     "execution_count": 82,
     "metadata": {},
     "output_type": "execute_result"
    }
   ],
   "source": [
    "sess.run(arr + tf.reshape(tf.constant([1.,2.,3.,4.,5.]),(5,1)))#(5,4) + (5,1)"
   ]
  },
  {
   "cell_type": "markdown",
   "metadata": {},
   "source": [
    "### Concatenation"
   ]
  },
  {
   "cell_type": "code",
   "execution_count": 86,
   "metadata": {},
   "outputs": [
    {
     "name": "stdout",
     "output_type": "stream",
     "text": [
      "Tensor(\"random_uniform_10:0\", shape=(10, 3), dtype=int32)\n",
      "Tensor(\"random_uniform_11:0\", shape=(10, 1), dtype=int32)\n"
     ]
    }
   ],
   "source": [
    "features = tf.random_uniform((10,3),0,101,dtype=tf.int32)\n",
    "labels = tf.random_uniform((10,1),0,2,dtype=tf.int32)\n",
    "print(features)\n",
    "print(labels)"
   ]
  },
  {
   "cell_type": "code",
   "execution_count": 87,
   "metadata": {},
   "outputs": [
    {
     "data": {
      "text/plain": [
       "array([[ 0, 35, 82,  0],\n",
       "       [65, 26,  5,  0],\n",
       "       [51, 19, 87,  0],\n",
       "       [94, 75, 41,  1],\n",
       "       [ 4, 18, 60,  0],\n",
       "       [82, 16, 14,  0],\n",
       "       [97, 51, 67,  0],\n",
       "       [11, 82, 85,  1],\n",
       "       [ 4, 30, 76,  0],\n",
       "       [16, 86, 82,  1]], dtype=int32)"
      ]
     },
     "execution_count": 87,
     "metadata": {},
     "output_type": "execute_result"
    }
   ],
   "source": [
    "sess.run(tf.concat([features,labels],axis=1)) #same syntax as numpy"
   ]
  },
  {
   "cell_type": "markdown",
   "metadata": {},
   "source": [
    "### Sampling"
   ]
  },
  {
   "cell_type": "code",
   "execution_count": 4,
   "metadata": {},
   "outputs": [
    {
     "name": "stdout",
     "output_type": "stream",
     "text": [
      "Tensor(\"LinSpace_1:0\", shape=(1000,), dtype=float32)\n"
     ]
    }
   ],
   "source": [
    "x = tf.lin_space(0.,10.,1000)\n",
    "print(x)"
   ]
  },
  {
   "cell_type": "code",
   "execution_count": 22,
   "metadata": {},
   "outputs": [
    {
     "data": {
      "text/plain": [
       "array([315, 240, 544, 521, 391, 751, 741, 146, 206, 216], dtype=int32)"
      ]
     },
     "execution_count": 22,
     "metadata": {},
     "output_type": "execute_result"
    }
   ],
   "source": [
    "sample_size = 10\n",
    "rand_ind = tf.random_uniform((sample_size,),0,x.shape[0],dtype=tf.int32)\n",
    "sess.run(rand_ind)"
   ]
  },
  {
   "cell_type": "code",
   "execution_count": 20,
   "metadata": {},
   "outputs": [
    {
     "name": "stdout",
     "output_type": "stream",
     "text": [
      "Tensor(\"embedding_lookup_1/Identity:0\", shape=(10,), dtype=float32)\n"
     ]
    }
   ],
   "source": [
    "sample_x = tf.nn.embedding_lookup(x,rand_ind)\n",
    "print(sample_x)"
   ]
  },
  {
   "cell_type": "code",
   "execution_count": 23,
   "metadata": {},
   "outputs": [
    {
     "data": {
      "text/plain": [
       "array([3.4934933, 1.6016016, 3.093093 , 8.698698 , 9.469469 , 2.9929929,\n",
       "       2.7227225, 5.175175 , 5.7457457, 8.788789 ], dtype=float32)"
      ]
     },
     "execution_count": 23,
     "metadata": {},
     "output_type": "execute_result"
    }
   ],
   "source": [
    "sess.run(sample_x)"
   ]
  },
  {
   "cell_type": "markdown",
   "metadata": {},
   "source": [
    "**Another example**\n",
    "> Add a delta to the sampled points \n",
    "\n",
    "> **tf.scatter_add** illustration"
   ]
  },
  {
   "cell_type": "code",
   "execution_count": 43,
   "metadata": {},
   "outputs": [
    {
     "data": {
      "text/plain": [
       "array([50., 51., 52., 53., 54., 55., 56., 57., 58., 59., 60., 61., 62.,\n",
       "       63., 64., 65., 66., 67., 68., 69., 70., 71., 72., 73., 74.],\n",
       "      dtype=float32)"
      ]
     },
     "execution_count": 43,
     "metadata": {},
     "output_type": "execute_result"
    }
   ],
   "source": [
    "x = tf.range(50,75,dtype=tf.float32)\n",
    "sess.run(x)"
   ]
  },
  {
   "cell_type": "code",
   "execution_count": 44,
   "metadata": {},
   "outputs": [
    {
     "data": {
      "text/plain": [
       "array([ 9,  6,  0,  4, 11], dtype=int32)"
      ]
     },
     "execution_count": 44,
     "metadata": {},
     "output_type": "execute_result"
    }
   ],
   "source": [
    "sample_size = 5\n",
    "rand_ind = tf.random_uniform((sample_size,),0,x.shape[0],dtype=tf.int32)\n",
    "sess.run(rand_ind)"
   ]
  },
  {
   "cell_type": "code",
   "execution_count": 62,
   "metadata": {},
   "outputs": [],
   "source": [
    "#tf.scatter needs a variable\n",
    "x_var = tf.Variable(x)\n",
    "#Update should be of size 1 or of size rand_ind\n",
    "x_delta = tf.scatter_add(x_var,rand_ind,0.33)\n",
    "#x_delta = tf.scatter_add(x_var,rand_ind,tf.constant([1.3,2.3,3.3,4.3,5.3]))"
   ]
  },
  {
   "cell_type": "code",
   "execution_count": 63,
   "metadata": {},
   "outputs": [
    {
     "data": {
      "text/plain": [
       "array([50.  , 51.  , 52.33, 53.  , 54.33, 55.33, 56.  , 57.  , 58.  ,\n",
       "       59.  , 60.  , 61.  , 62.33, 63.  , 64.  , 65.  , 66.  , 67.  ,\n",
       "       68.  , 69.  , 70.  , 71.33, 72.  , 73.  , 74.  ], dtype=float32)"
      ]
     },
     "execution_count": 63,
     "metadata": {},
     "output_type": "execute_result"
    }
   ],
   "source": [
    "sess.run(tf.global_variables_initializer())\n",
    "sess.run(x_delta)"
   ]
  },
  {
   "cell_type": "markdown",
   "metadata": {},
   "source": [
    "> **Apply arbitary function to the sampled points**\n",
    "\n",
    "> **tf.scatter_update** illustration"
   ]
  },
  {
   "cell_type": "code",
   "execution_count": 66,
   "metadata": {},
   "outputs": [],
   "source": [
    "#Makes the elements 33% of its original value\n",
    "def func(X,ind):\n",
    "    t = tf.nn.embedding_lookup(X,ind)\n",
    "    t = t*0.33 \n",
    "    return t\n",
    "    \n",
    "x_var = tf.Variable(x)\n",
    "t = func(x,rand_ind)\n",
    "x_delta = tf.scatter_update(x_var,rand_ind,func(x,rand_ind))"
   ]
  },
  {
   "cell_type": "code",
   "execution_count": 67,
   "metadata": {},
   "outputs": [
    {
     "data": {
      "text/plain": [
       "[array([50.      , 51.      , 52.      , 53.      , 54.      , 55.      ,\n",
       "        56.      , 18.810001, 58.      , 19.470001, 60.      , 61.      ,\n",
       "        62.      , 63.      , 64.      , 65.      , 66.      , 67.      ,\n",
       "        68.      , 22.77    , 23.1     , 23.43    , 72.      , 73.      ,\n",
       "        74.      ], dtype=float32),\n",
       " array([ 7, 20,  9, 19, 21], dtype=int32),\n",
       " array([18.810001, 23.1     , 19.470001, 22.77    , 23.43    ],\n",
       "       dtype=float32)]"
      ]
     },
     "execution_count": 67,
     "metadata": {},
     "output_type": "execute_result"
    }
   ],
   "source": [
    "sess.run(tf.global_variables_initializer())\n",
    "sess.run([x_delta,rand_ind,t])"
   ]
  },
  {
   "cell_type": "code",
   "execution_count": 68,
   "metadata": {},
   "outputs": [],
   "source": [
    "sess.close()"
   ]
  },
  {
   "cell_type": "code",
   "execution_count": null,
   "metadata": {},
   "outputs": [],
   "source": []
  }
 ],
 "metadata": {
  "kernelspec": {
   "display_name": "Python 3",
   "language": "python",
   "name": "python3"
  },
  "language_info": {
   "codemirror_mode": {
    "name": "ipython",
    "version": 3
   },
   "file_extension": ".py",
   "mimetype": "text/x-python",
   "name": "python",
   "nbconvert_exporter": "python",
   "pygments_lexer": "ipython3",
   "version": "3.5.2"
  }
 },
 "nbformat": 4,
 "nbformat_minor": 2
}
