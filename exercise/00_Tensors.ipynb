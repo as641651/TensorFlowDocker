{
 "cells": [
  {
   "cell_type": "markdown",
   "metadata": {},
   "source": [
    "## Tensors"
   ]
  },
  {
   "cell_type": "markdown",
   "metadata": {},
   "source": [
    "**Main Defining Characteristics**\n",
    "\n",
    "> **Shape**: Size of each dimension <br>\n",
    "> **Datatype** : Type of the elements in tensor <br>"
   ]
  },
  {
   "cell_type": "code",
   "execution_count": 1,
   "metadata": {},
   "outputs": [],
   "source": [
    "import tensorflow as tf"
   ]
  },
  {
   "cell_type": "markdown",
   "metadata": {},
   "source": [
    "### Initializing Constant tensor"
   ]
  },
  {
   "cell_type": "code",
   "execution_count": 27,
   "metadata": {},
   "outputs": [
    {
     "name": "stdout",
     "output_type": "stream",
     "text": [
      "Tensor(\"Const:0\", shape=(7,), dtype=int32)\n",
      "Tensor(\"Const_1:0\", shape=(5, 5), dtype=float32)\n"
     ]
    }
   ],
   "source": [
    "tf.reset_default_graph()\n",
    "\n",
    "# Constant 1-D Tensor populated with value list.\n",
    "tensor = tf.constant([1, 2, 3, 4, 5, 6, 7])\n",
    "print(tensor)\n",
    "\n",
    "tensor_2 = tf.constant(1,shape=(5,5),dtype=tf.float32)\n",
    "print(tensor_2)"
   ]
  },
  {
   "cell_type": "markdown",
   "metadata": {},
   "source": [
    "**Building the graph**"
   ]
  },
  {
   "cell_type": "code",
   "execution_count": 15,
   "metadata": {},
   "outputs": [
    {
     "name": "stdout",
     "output_type": "stream",
     "text": [
      "Tensor(\"A:0\", shape=(), dtype=int32)\n",
      "Tensor(\"B:0\", shape=(), dtype=int32)\n",
      "Tensor(\"add_13:0\", shape=(), dtype=int32)\n",
      "name: \"add_13\"\n",
      "op: \"Add\"\n",
      "input: \"A\"\n",
      "input: \"B\"\n",
      "attr {\n",
      "  key: \"T\"\n",
      "  value {\n",
      "    type: DT_INT32\n",
      "  }\n",
      "}\n",
      "\n"
     ]
    }
   ],
   "source": [
    "a = tf.constant(1,name=\"A\")\n",
    "b = tf.constant(2,name=\"B\")\n",
    "c = a+b #This tensor is an operation\n",
    "print(a)\n",
    "print(b)\n",
    "print(c)\n",
    "print(c.op)"
   ]
  },
  {
   "cell_type": "markdown",
   "metadata": {},
   "source": [
    "**Important attributes**"
   ]
  },
  {
   "cell_type": "code",
   "execution_count": 26,
   "metadata": {},
   "outputs": [
    {
     "name": "stdout",
     "output_type": "stream",
     "text": [
      "shape (5, 5)\n",
      "data type <dtype: 'float32'>\n",
      "name Const_1:0\n",
      "op name: \"Const_1\"\n",
      "op: \"Const\"\n",
      "attr {\n",
      "  key: \"dtype\"\n",
      "  value {\n",
      "    type: DT_FLOAT\n",
      "  }\n",
      "}\n",
      "attr {\n",
      "  key: \"value\"\n",
      "  value {\n",
      "    tensor {\n",
      "      dtype: DT_FLOAT\n",
      "      tensor_shape {\n",
      "        dim {\n",
      "          size: 5\n",
      "        }\n",
      "        dim {\n",
      "          size: 5\n",
      "        }\n",
      "      }\n",
      "      float_val: 1.0\n",
      "    }\n",
      "  }\n",
      "}\n",
      "\n",
      "graph <tensorflow.python.framework.ops.Graph object at 0x7f4b1895cda0>\n"
     ]
    }
   ],
   "source": [
    "print(\"shape\", tensor_2.shape)\n",
    "print(\"data type\", tensor_2.dtype)\n",
    "print(\"name\", tensor_2.name)\n",
    "print(\"op\", tensor_2.op)\n",
    "print(\"graph\", tensor_2.graph)"
   ]
  },
  {
   "cell_type": "markdown",
   "metadata": {},
   "source": [
    "### Initializing constant string tensor"
   ]
  },
  {
   "cell_type": "code",
   "execution_count": 21,
   "metadata": {},
   "outputs": [
    {
     "name": "stdout",
     "output_type": "stream",
     "text": [
      "(3,)\n",
      "<dtype: 'string'>\n"
     ]
    }
   ],
   "source": [
    "tf.reset_default_graph()\n",
    "\n",
    "string_tensor = tf.constant(['a','b','c'])\n",
    "\n",
    "print(string_tensor.shape)\n",
    "print(string_tensor.dtype)"
   ]
  },
  {
   "cell_type": "markdown",
   "metadata": {},
   "source": [
    "### Initializing constant  tensor with numpy array"
   ]
  },
  {
   "cell_type": "code",
   "execution_count": 9,
   "metadata": {},
   "outputs": [],
   "source": [
    "import numpy as np"
   ]
  },
  {
   "cell_type": "code",
   "execution_count": 22,
   "metadata": {},
   "outputs": [
    {
     "name": "stdout",
     "output_type": "stream",
     "text": [
      "Tensor(\"Const:0\", shape=(128, 128, 3), dtype=int64)\n",
      "Tensor(\"Const_1:0\", shape=(128, 128, 3), dtype=int64)\n"
     ]
    }
   ],
   "source": [
    "tf.reset_default_graph()\n",
    "\n",
    "random_image = np.random.randint(0,256,(128,128,3))\n",
    "\n",
    "image_tensor = tf.constant(random_image)\n",
    "print(image_tensor)\n",
    "\n",
    "#Appears to do the same job\n",
    "#But useful when you have pandas dataframe\n",
    "imgage_tensor_2 = tf.convert_to_tensor(random_image)\n",
    "print(imgage_tensor_2)"
   ]
  },
  {
   "cell_type": "markdown",
   "metadata": {},
   "source": [
    "### Reduce operation\n",
    "\n",
    "Operation that is carried out on **every element in the tensor**"
   ]
  },
  {
   "cell_type": "code",
   "execution_count": 36,
   "metadata": {},
   "outputs": [
    {
     "name": "stdout",
     "output_type": "stream",
     "text": [
      "Tensor(\"Sum:0\", shape=(), dtype=int32)\n",
      "Reduce sum  28\n",
      "Reduce product  5040\n"
     ]
    }
   ],
   "source": [
    "tf.reset_default_graph()\n",
    "\n",
    "tensor = tf.constant([1, 2, 3, 4, 5, 6, 7],name=\"reduce_this_tensor\")\n",
    "sum_t = tf.reduce_sum(tensor)\n",
    "print(sum_t)\n",
    "\n",
    "sess = tf.Session()\n",
    "print(\"Reduce sum \" , sess.run(sum_t))\n",
    "print(\"Reduce product \" , sess.run(tf.reduce_prod(tensor)))\n",
    "\n"
   ]
  },
  {
   "cell_type": "code",
   "execution_count": 37,
   "metadata": {},
   "outputs": [],
   "source": [
    "!rm tensorboard_logs/*"
   ]
  },
  {
   "cell_type": "code",
   "execution_count": 38,
   "metadata": {},
   "outputs": [],
   "source": [
    "writer = tf.summary.FileWriter('./tensorboard_logs',sess.graph)\n",
    "writer.close()\n",
    "sess.close()"
   ]
  },
  {
   "cell_type": "code",
   "execution_count": 39,
   "metadata": {},
   "outputs": [
    {
     "name": "stdout",
     "output_type": "stream",
     "text": [
      "TensorBoard 1.12.0 at http://0f5261ab9fe2:6006 (Press CTRL+C to quit)\n",
      "^C\n"
     ]
    }
   ],
   "source": [
    "!tensorboard --logdir=tensorboard_logs/"
   ]
  },
  {
   "cell_type": "markdown",
   "metadata": {},
   "source": [
    "<img src=\"pics/graph2.png\" width=300px />"
   ]
  },
  {
   "cell_type": "code",
   "execution_count": null,
   "metadata": {},
   "outputs": [],
   "source": []
  }
 ],
 "metadata": {
  "kernelspec": {
   "display_name": "Python 3",
   "language": "python",
   "name": "python3"
  },
  "language_info": {
   "codemirror_mode": {
    "name": "ipython",
    "version": 3
   },
   "file_extension": ".py",
   "mimetype": "text/x-python",
   "name": "python",
   "nbconvert_exporter": "python",
   "pygments_lexer": "ipython3",
   "version": "3.5.2"
  }
 },
 "nbformat": 4,
 "nbformat_minor": 2
}
