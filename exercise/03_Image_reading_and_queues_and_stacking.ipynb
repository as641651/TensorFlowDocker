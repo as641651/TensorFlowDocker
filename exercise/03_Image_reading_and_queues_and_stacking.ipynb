{
 "cells": [
  {
   "cell_type": "markdown",
   "metadata": {},
   "source": [
    "## Imgae Reading and Queues and Stacking"
   ]
  },
  {
   "cell_type": "markdown",
   "metadata": {},
   "source": [
    "> Common representation **shape** of **image tensor**\n",
    "```bash\n",
    "(IDX,HEIGHT,WIDTH,CHANNEL)\n",
    "```\n",
    ">> **Grey scale**:\n",
    "```bash\n",
    "(IDX,HEIGHT,WIDTH,1)\n",
    "```\n",
    ">> **RGB**:\n",
    "```bash\n",
    "(IDX,HEIGHT,WIDTH,3)\n",
    "```\n",
    ">> **CMYK**:(Cyan, Magenta,Yellow and Key)\n",
    "```bash\n",
    "(IDX,HEIGHT,WIDTH,4)\n",
    "```\n",
    "\n",
    "> **uint** pixels are in range **0-255**\n",
    "\n",
    ">**float** pixels are in range **0-1**"
   ]
  },
  {
   "cell_type": "markdown",
   "metadata": {},
   "source": [
    "### Reading image file names into a string"
   ]
  },
  {
   "cell_type": "code",
   "execution_count": 1,
   "metadata": {},
   "outputs": [],
   "source": [
    "import glob"
   ]
  },
  {
   "cell_type": "code",
   "execution_count": 2,
   "metadata": {},
   "outputs": [
    {
     "name": "stdout",
     "output_type": "stream",
     "text": [
      "['pics/computational_graph_regression.png', 'pics/graph3.png', 'pics/graph2.png', 'pics/graph_run=.png']\n"
     ]
    }
   ],
   "source": [
    "files_path = 'pics/*.png'\n",
    "filenames = glob.glob(files_path)\n",
    "print(filenames)"
   ]
  },
  {
   "cell_type": "markdown",
   "metadata": {},
   "source": [
    "### Opening image using PIL.Image"
   ]
  },
  {
   "cell_type": "code",
   "execution_count": 3,
   "metadata": {},
   "outputs": [],
   "source": [
    "from PIL import Image"
   ]
  },
  {
   "cell_type": "code",
   "execution_count": 50,
   "metadata": {},
   "outputs": [
    {
     "name": "stdout",
     "output_type": "stream",
     "text": [
      "<PIL.PngImagePlugin.PngImageFile image mode=RGBA size=302x266 at 0x7F0D840CB3C8>\n"
     ]
    },
    {
     "data": {
      "image/png": "[encoded data removed]",
      "text/plain": [
       "<PIL.PngImagePlugin.PngImageFile image mode=RGBA size=302x266 at 0x7F0D840CB3C8>"
      ]
     },
     "execution_count": 50,
     "metadata": {},
     "output_type": "execute_result"
    }
   ],
   "source": [
    "image = Image.open(filenames[2])\n",
    "print(image)\n",
    "image # This is a PIL Object"
   ]
  },
  {
   "cell_type": "markdown",
   "metadata": {},
   "source": [
    "### Get the image into a numpy array"
   ]
  },
  {
   "cell_type": "code",
   "execution_count": 5,
   "metadata": {},
   "outputs": [],
   "source": [
    "import numpy as np"
   ]
  },
  {
   "cell_type": "code",
   "execution_count": 51,
   "metadata": {},
   "outputs": [
    {
     "name": "stdout",
     "output_type": "stream",
     "text": [
      "(266, 302, 4)\n"
     ]
    }
   ],
   "source": [
    "image_array = np.asarray(image)\n",
    "print(image_array.shape)"
   ]
  },
  {
   "cell_type": "markdown",
   "metadata": {},
   "source": [
    "### Display a numpy array image"
   ]
  },
  {
   "cell_type": "code",
   "execution_count": 7,
   "metadata": {},
   "outputs": [
    {
     "data": {
      "image/png": "[encoded data removed]",
      "text/plain": [
       "<PIL.Image.Image image mode=RGBA size=302x266 at 0x7F0E513F9080>"
      ]
     },
     "execution_count": 7,
     "metadata": {},
     "output_type": "execute_result"
    }
   ],
   "source": [
    "Image.fromarray(image_array,'RGBA') #Here, Image mode should be same as image.mode "
   ]
  },
  {
   "cell_type": "markdown",
   "metadata": {},
   "source": [
    "### Adding images to tensorboard"
   ]
  },
  {
   "cell_type": "code",
   "execution_count": 8,
   "metadata": {},
   "outputs": [],
   "source": [
    "import tensorflow as tf"
   ]
  },
  {
   "cell_type": "code",
   "execution_count": 9,
   "metadata": {},
   "outputs": [],
   "source": [
    "!rm tensorboard_logs/*"
   ]
  },
  {
   "cell_type": "code",
   "execution_count": 56,
   "metadata": {},
   "outputs": [
    {
     "name": "stdout",
     "output_type": "stream",
     "text": [
      "Tensor(\"Const:0\", shape=(266, 302, 4), dtype=uint8)\n",
      "Tensor(\"ExpandDims:0\", shape=(1, 266, 302, 4), dtype=uint8)\n"
     ]
    }
   ],
   "source": [
    "tf.reset_default_graph()\n",
    "image_tensor = tf.convert_to_tensor(image_array) #returns dtype = unit8\n",
    "#image_tensor = tf.convert_to_tensor(image) #Same as above. Works on both numpy and PIL objects\n",
    "\n",
    "print(image_tensor)\n",
    "\n",
    "#Make it 4D tensor. 4D tensor is required for summary\n",
    "image_tensor = tf.expand_dims(image_tensor,0)\n",
    "print(image_tensor)\n",
    "\n",
    "#Without allow_growth set to true, this program will block the entire gou resource\n",
    "config = tf.ConfigProto()\n",
    "config.gpu_options.allow_growth=True\n",
    "\n",
    "with tf.Session(config=config) as sess:\n",
    "    writer = tf.summary.FileWriter('./tensorboard_logs/',sess.graph)\n",
    "    #Get image summary string and add it to writer\n",
    "    summary_str = sess.run(tf.summary.image(\"image_name\",image_tensor))\n",
    "    writer.add_summary(summary_str)\n",
    "    writer.close()"
   ]
  },
  {
   "cell_type": "code",
   "execution_count": 11,
   "metadata": {},
   "outputs": [
    {
     "name": "stdout",
     "output_type": "stream",
     "text": [
      "TensorBoard 1.12.0 at http://c7bb3c6ee95f:6006 (Press CTRL+C to quit)\n",
      "^C\n"
     ]
    }
   ],
   "source": [
    "!tensorboard --logdir=tensorboard_logs/"
   ]
  },
  {
   "cell_type": "markdown",
   "metadata": {},
   "source": [
    "## Using filename_queue and coordinators for reading image\n",
    "\n",
    "> Reading image files can be **slow** in python. \n",
    "\n",
    "> For efficient reading of media files, which is critical for machine learning applilcations, we use **coordinators**"
   ]
  },
  {
   "cell_type": "markdown",
   "metadata": {},
   "source": [
    "**Get the list of image names**"
   ]
  },
  {
   "cell_type": "code",
   "execution_count": 11,
   "metadata": {},
   "outputs": [
    {
     "name": "stdout",
     "output_type": "stream",
     "text": [
      "['pics/computational_graph_regression.png', 'pics/graph3.png', 'pics/graph2.png', 'pics/graph_run=.png']\n"
     ]
    }
   ],
   "source": [
    "files_path = 'pics/*.png'\n",
    "filenames = glob.glob(files_path)\n",
    "print(filenames)"
   ]
  },
  {
   "cell_type": "markdown",
   "metadata": {},
   "source": [
    "**Create queue with image name list**"
   ]
  },
  {
   "cell_type": "code",
   "execution_count": 27,
   "metadata": {},
   "outputs": [
    {
     "name": "stdout",
     "output_type": "stream",
     "text": [
      "<tensorflow.python.ops.data_flow_ops.FIFOQueue object at 0x7f0e6a87a828>\n"
     ]
    }
   ],
   "source": [
    "tf.reset_default_graph()\n",
    "filename_queue = tf.train.string_input_producer(filenames,seed=0)\n",
    "print(filename_queue)"
   ]
  },
  {
   "cell_type": "markdown",
   "metadata": {},
   "source": [
    "```bash\n",
    "WARNING:tensorflow:From <ipython-input-12-4ee5c4b25f12>:2: string_input_producer (from tensorflow.python.training.input) is deprecated and will be removed in a future version.\n",
    "Instructions for updating:\n",
    "Queue-based input pipelines have been replaced by `tf.data`. Use `tf.data.Dataset.from_tensor_slices(string_tensor).shuffle(tf.shape(input_tensor, out_type=tf.int64)[0]).repeat(num_epochs)`. If `shuffle=False`, omit the `.shuffle(...)`.\n",
    "```"
   ]
  },
  {
   "cell_type": "markdown",
   "metadata": {},
   "source": [
    "**Create reader with filename_queue**"
   ]
  },
  {
   "cell_type": "code",
   "execution_count": 28,
   "metadata": {},
   "outputs": [
    {
     "name": "stdout",
     "output_type": "stream",
     "text": [
      "Tensor(\"ReaderReadV2:0\", shape=(), dtype=string) Tensor(\"ReaderReadV2:1\", shape=(), dtype=string)\n"
     ]
    }
   ],
   "source": [
    "reader = tf.WholeFileReader()\n",
    "key,value = reader.read(filename_queue) #Gets the images in the queue one by one\n",
    "print(key,value)"
   ]
  },
  {
   "cell_type": "markdown",
   "metadata": {},
   "source": [
    "```bash\n",
    "WARNING:tensorflow:From <ipython-input-53-9f6a10a31bd1>:1: WholeFileReader.__init__ (from tensorflow.python.ops.io_ops) is deprecated and will be removed in a future version.\n",
    "Instructions for updating:\n",
    "Queue-based input pipelines have been replaced by `tf.data`. Use `tf.data.Dataset.map(tf.read_file)`.\n",
    "```"
   ]
  },
  {
   "cell_type": "markdown",
   "metadata": {},
   "source": [
    "**Decode the image**\n",
    "\n",
    "> Can handle BMP, GIF, JPEG, or PNG"
   ]
  },
  {
   "cell_type": "code",
   "execution_count": 29,
   "metadata": {},
   "outputs": [
    {
     "name": "stdout",
     "output_type": "stream",
     "text": [
      "Tensor(\"DecodePng:0\", shape=(?, ?, ?), dtype=uint8)\n"
     ]
    }
   ],
   "source": [
    "image_tensor = tf.image.decode_png(value)\n",
    "print(image_tensor)"
   ]
  },
  {
   "cell_type": "markdown",
   "metadata": {},
   "source": [
    "**Run threads**\n",
    "\n",
    "> **Note**: \n",
    "\n",
    ">> Running the **image_tensor** every time, under a session will pull the next image in queue"
   ]
  },
  {
   "cell_type": "code",
   "execution_count": 42,
   "metadata": {},
   "outputs": [],
   "source": [
    "!rm tensorboard_logs/*"
   ]
  },
  {
   "cell_type": "code",
   "execution_count": 43,
   "metadata": {},
   "outputs": [
    {
     "name": "stdout",
     "output_type": "stream",
     "text": [
      "(887, 524, 4)\n",
      "(266, 302, 4)\n",
      "(745, 592, 4)\n",
      "(274, 720, 4)\n"
     ]
    }
   ],
   "source": [
    "#Without allow_growth set to true, this program will block the entire gou resource\n",
    "config = tf.ConfigProto()\n",
    "config.gpu_options.allow_growth=True\n",
    "\n",
    "with tf.Session(config=config) as sess:\n",
    "    writer = tf.summary.FileWriter('./tensorboard_logs/',sess.graph)\n",
    "    \n",
    "    coord = tf.train.Coordinator()\n",
    "    threads = tf.train.start_queue_runners(sess=sess,coord=coord)\n",
    "   \n",
    "    for i in range(len(filenames)):\n",
    "        \n",
    "        image_array,summary_str = sess.run([image_tensor,tf.summary.image(\"image_\" + str(i) ,tf.expand_dims(image_tensor,0))])\n",
    "        print(image_array.shape)\n",
    "        \n",
    "        #NOTE: Running this line separately will pull the next image in queue\n",
    "        #summary_str = sess.run(tf.summary.image(\"image_\" + str(i) ,tf.expand_dims(image_tensor,0)))\n",
    "        writer.add_summary(summary_str)\n",
    "        \n",
    "    writer.close()\n",
    "    coord.request_stop()\n",
    "    coord.join(threads)"
   ]
  },
  {
   "cell_type": "code",
   "execution_count": 40,
   "metadata": {},
   "outputs": [
    {
     "name": "stdout",
     "output_type": "stream",
     "text": [
      "TensorBoard 1.12.0 at http://c7bb3c6ee95f:6006 (Press CTRL+C to quit)\n",
      "^C\n"
     ]
    }
   ],
   "source": [
    "!tensorboard --logdir=tensorboard_logs/"
   ]
  },
  {
   "cell_type": "markdown",
   "metadata": {},
   "source": [
    "```bash\n",
    "WARNING:tensorflow:From <ipython-input-57-bae544162e8f>:3: start_queue_runners (from tensorflow.python.training.queue_runner_impl) is deprecated and will be removed in a future version.\n",
    "Instructions for updating:\n",
    "To construct input pipelines, use the `tf.data` module.\n",
    "```"
   ]
  },
  {
   "cell_type": "markdown",
   "metadata": {},
   "source": [
    "**Wrong way to work with queues**"
   ]
  },
  {
   "cell_type": "code",
   "execution_count": 44,
   "metadata": {},
   "outputs": [],
   "source": [
    "def run_tf(x):\n",
    "    #Without allow_growth set to true, this program will block the entire gou resource\n",
    "    config = tf.ConfigProto()\n",
    "    config.gpu_options.allow_growth=True\n",
    "    \n",
    "    with tf.Session(config=config) as sess:\n",
    "        coord = tf.train.Coordinator()\n",
    "        threads = tf.train.start_queue_runners(sess=sess,coord=coord)\n",
    "        out = sess.run(x)\n",
    "        coord.request_stop()\n",
    "        coord.join(threads)\n",
    "        \n",
    "        return out      "
   ]
  },
  {
   "cell_type": "markdown",
   "metadata": {},
   "source": [
    "**Running** the image_tensor in **different sessions** will result in the **same image** being pulled!"
   ]
  },
  {
   "cell_type": "code",
   "execution_count": 47,
   "metadata": {},
   "outputs": [
    {
     "name": "stdout",
     "output_type": "stream",
     "text": [
      "(887, 524, 4)\n",
      "(887, 524, 4)\n",
      "(887, 524, 4)\n"
     ]
    }
   ],
   "source": [
    "image_array = run_tf(image_tensor)\n",
    "print(image_array.shape)\n",
    "\n",
    "image_array = run_tf(image_tensor)\n",
    "print(image_array.shape)\n",
    "\n",
    "image_array = run_tf(image_tensor)\n",
    "print(image_array.shape)\n",
    "\n",
    "##Keeps pulling the same image because the scope of tf.Session is new for every run"
   ]
  },
  {
   "cell_type": "markdown",
   "metadata": {},
   "source": [
    "### Stacking images\n",
    "\n",
    "> To convert a **list** of (H,W,C) images to a **4D tensor**, use **tf.stack**\n",
    "```bash\n",
    "[(H,W,C), (H,W,C), ...] >> [N,H,W,C]\n",
    "```\n",
    "> Used to pass **tensors** in **batch**. tf.summary.image can also handle batch of images "
   ]
  },
  {
   "cell_type": "code",
   "execution_count": 57,
   "metadata": {},
   "outputs": [
    {
     "data": {
      "text/plain": [
       "<tf.Tensor 'stack:0' shape=(4, 2) dtype=float32>"
      ]
     },
     "execution_count": 57,
     "metadata": {},
     "output_type": "execute_result"
    }
   ],
   "source": [
    "l = [[1,2],[2,3],[3,4],[4.1,5]]\n",
    "tf.stack(l)"
   ]
  },
  {
   "cell_type": "code",
   "execution_count": null,
   "metadata": {},
   "outputs": [],
   "source": []
  }
 ],
 "metadata": {
  "kernelspec": {
   "display_name": "Python 3",
   "language": "python",
   "name": "python3"
  },
  "language_info": {
   "codemirror_mode": {
    "name": "ipython",
    "version": 3
   },
   "file_extension": ".py",
   "mimetype": "text/x-python",
   "name": "python",
   "nbconvert_exporter": "python",
   "pygments_lexer": "ipython3",
   "version": "3.5.2"
  }
 },
 "nbformat": 4,
 "nbformat_minor": 2
}
