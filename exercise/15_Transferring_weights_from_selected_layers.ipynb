{
 "cells": [
  {
   "cell_type": "markdown",
   "metadata": {},
   "source": [
    "## Transfering weights from selected layers\n",
    "\n",
    "> Previously, we had trained CIFAR for gray scale images. Now we want to reuse that model for **RBG**. That is, we want to **reuse the weights from 2nd CNN layer**"
   ]
  },
  {
   "cell_type": "code",
   "execution_count": 1,
   "metadata": {},
   "outputs": [],
   "source": [
    "import tensorflow as tf\n",
    "import numpy as np"
   ]
  },
  {
   "cell_type": "markdown",
   "metadata": {},
   "source": [
    "### Create a data pipeline"
   ]
  },
  {
   "cell_type": "markdown",
   "metadata": {},
   "source": [
    "The output shape and datatypes have to be fixed"
   ]
  },
  {
   "cell_type": "code",
   "execution_count": 2,
   "metadata": {},
   "outputs": [
    {
     "data": {
      "text/plain": [
       "(TensorShape([Dimension(None), Dimension(32), Dimension(32), Dimension(3)]),\n",
       " TensorShape([Dimension(None), Dimension(1)]))"
      ]
     },
     "execution_count": 2,
     "metadata": {},
     "output_type": "execute_result"
    }
   ],
   "source": [
    "tf.TensorShape((None,32,32,3)),tf.TensorShape((None,1))"
   ]
  },
  {
   "cell_type": "markdown",
   "metadata": {},
   "source": [
    "**Create a feedable iterator**"
   ]
  },
  {
   "cell_type": "code",
   "execution_count": 3,
   "metadata": {},
   "outputs": [],
   "source": [
    "handle = tf.placeholder(tf.string, shape=[])\n",
    "iterator = tf.data.Iterator.from_string_handle(handle,\n",
    "                                               (tf.float32,tf.uint8),\n",
    "                                               (tf.TensorShape((None,32,32,3)),tf.TensorShape((None,1))))\n",
    "\n",
    "model_input,label = iterator.get_next()"
   ]
  },
  {
   "cell_type": "markdown",
   "metadata": {},
   "source": [
    "### Loading model and viewing it on tensorboard"
   ]
  },
  {
   "cell_type": "code",
   "execution_count": 4,
   "metadata": {},
   "outputs": [],
   "source": [
    "!rm tensorboard_logs/*"
   ]
  },
  {
   "cell_type": "markdown",
   "metadata": {},
   "source": [
    "Load the model in a separate graph so that it does not interfere with current graph"
   ]
  },
  {
   "cell_type": "code",
   "execution_count": 5,
   "metadata": {},
   "outputs": [
    {
     "name": "stdout",
     "output_type": "stream",
     "text": [
      "INFO:tensorflow:Restoring parameters from models/CIFAR10_grey/cifar_model.ckpt\n"
     ]
    }
   ],
   "source": [
    "g = tf.Graph()\n",
    "with g.as_default():\n",
    "    saver = tf.train.import_meta_graph('models/CIFAR10_grey/cifar_model.ckpt.meta')\n",
    "    with tf.Session() as sess:\n",
    "        saver.restore(sess,tf.train.latest_checkpoint('models/CIFAR10_grey/'))\n",
    "        writer = tf.summary.FileWriter('./tensorboard_logs', sess.graph)\n",
    "        writer.close()"
   ]
  },
  {
   "cell_type": "code",
   "execution_count": 6,
   "metadata": {},
   "outputs": [
    {
     "name": "stdout",
     "output_type": "stream",
     "text": [
      "TensorBoard 1.12.0 at http://a7d515f6a632:6006 (Press CTRL+C to quit)\n",
      "^C\n"
     ]
    }
   ],
   "source": [
    "!tensorboard --logdir=tensorboard_logs/"
   ]
  },
  {
   "cell_type": "markdown",
   "metadata": {},
   "source": [
    "### Get variable names in each layer"
   ]
  },
  {
   "cell_type": "code",
   "execution_count": 4,
   "metadata": {},
   "outputs": [
    {
     "name": "stdout",
     "output_type": "stream",
     "text": [
      "tensor_name:  Conv1/bias\n",
      "tensor_name:  Conv1/kernel\n",
      "tensor_name:  Conv2/bias\n",
      "tensor_name:  Conv2/kernel\n",
      "tensor_name:  Conv3/bias\n",
      "tensor_name:  Conv3/kernel\n",
      "tensor_name:  Dense_10/bias\n",
      "tensor_name:  Dense_10/kernel\n",
      "tensor_name:  Dense_84/bias\n",
      "tensor_name:  Dense_84/kernel\n"
     ]
    }
   ],
   "source": [
    "from tensorflow.python.tools import inspect_checkpoint as chkp\n",
    "chkp.print_tensors_in_checkpoint_file('models/CIFAR10_grey/cifar_model.ckpt',tensor_name='', all_tensors=False,all_tensor_names=True)"
   ]
  },
  {
   "cell_type": "markdown",
   "metadata": {},
   "source": [
    "### Get weights as numpy array\n",
    "\n",
    "> This is because, **tf.initializer.constant** needs a numpy array\n",
    "\n",
    "> Get the weights and store it in a numpy array under separate graph. Thus, when we save the new model, the old graph wont interfere"
   ]
  },
  {
   "cell_type": "code",
   "execution_count": 5,
   "metadata": {},
   "outputs": [
    {
     "name": "stdout",
     "output_type": "stream",
     "text": [
      "INFO:tensorflow:Restoring parameters from models/CIFAR10_grey/cifar_model.ckpt\n",
      "[-0.14805889  0.6004731   0.14357984 -0.3337978  -0.48210445 -0.07447348\n",
      " -0.3848596  -0.07660984  0.13621555  0.2962938  -0.15078765 -0.14430566\n",
      "  0.3739807  -0.3766448   0.60352474  0.4924152 ]\n"
     ]
    }
   ],
   "source": [
    "#Get weights as numpy\n",
    "g = tf.Graph()\n",
    "with g.as_default():\n",
    "    saver = tf.train.import_meta_graph('models/CIFAR10_grey/cifar_model.ckpt.meta')\n",
    "    with tf.Session() as sess:\n",
    "        saver.restore(sess,tf.train.latest_checkpoint('models/CIFAR10_grey/'))\n",
    "\n",
    "        conv2_bias = sess.run(sess.graph.get_collection(tf.GraphKeys.GLOBAL_VARIABLES,scope = 'Conv2/bias:0')[0])\n",
    "        conv2_kernel = sess.run(sess.graph.get_collection(tf.GraphKeys.GLOBAL_VARIABLES,scope = 'Conv2/kernel:0')[0])\n",
    "\n",
    "        conv3_bias = sess.run(sess.graph.get_collection(tf.GraphKeys.GLOBAL_VARIABLES,scope = 'Conv3/bias:0')[0])\n",
    "        conv3_kernel = sess.run(sess.graph.get_collection(tf.GraphKeys.GLOBAL_VARIABLES,scope = 'Conv3/kernel:0')[0])\n",
    "\n",
    "        dense84_bias = sess.run(sess.graph.get_collection(tf.GraphKeys.GLOBAL_VARIABLES,scope = 'Dense_84/bias:0')[0])\n",
    "        dense84_kernel = sess.run(sess.graph.get_collection(tf.GraphKeys.GLOBAL_VARIABLES,scope = 'Dense_84/kernel:0')[0])\n",
    "\n",
    "        dense10_bias = sess.run(sess.graph.get_collection(tf.GraphKeys.GLOBAL_VARIABLES,scope = 'Dense_10/bias:0')[0])\n",
    "        dense10_kernel = sess.run(sess.graph.get_collection(tf.GraphKeys.GLOBAL_VARIABLES,scope = 'Dense_10/kernel:0')[0])    \n",
    "\n",
    "        print(conv2_bias)"
   ]
  },
  {
   "cell_type": "markdown",
   "metadata": {},
   "source": [
    "**Check**"
   ]
  },
  {
   "cell_type": "code",
   "execution_count": 6,
   "metadata": {},
   "outputs": [
    {
     "data": {
      "text/plain": [
       "array([-0.14805889,  0.6004731 ,  0.14357984, -0.3337978 , -0.48210445,\n",
       "       -0.07447348, -0.3848596 , -0.07660984,  0.13621555,  0.2962938 ,\n",
       "       -0.15078765, -0.14430566,  0.3739807 , -0.3766448 ,  0.60352474,\n",
       "        0.4924152 ], dtype=float32)"
      ]
     },
     "execution_count": 6,
     "metadata": {},
     "output_type": "execute_result"
    }
   ],
   "source": [
    "conv2_bias"
   ]
  },
  {
   "cell_type": "markdown",
   "metadata": {},
   "source": [
    "### Build model and set the initial weights"
   ]
  },
  {
   "cell_type": "code",
   "execution_count": 7,
   "metadata": {},
   "outputs": [],
   "source": [
    "def cnn_features(model_input):\n",
    "\n",
    "    with tf.Session() as sess:\n",
    "            \n",
    "        conv1 = tf.layers.conv2d(model_input,6,(5,5),(1,1),activation=tf.nn.tanh,name=\"Conv1\")\n",
    "        avgpool1 = tf.layers.average_pooling2d(conv1,(2,2),(2,2),name=\"AvgPool1\")\n",
    "\n",
    "        conv2 = tf.layers.conv2d(avgpool1,16,(5,5),(1,1),activation=tf.nn.tanh,name=\"Conv2\",\n",
    "                                 bias_initializer=tf.initializers.constant(conv2_bias),\n",
    "                                 kernel_initializer=tf.initializers.constant(conv2_kernel))\n",
    "        avgpool2 = tf.layers.average_pooling2d(conv2,(2,2),(2,2),name=\"AvgPool2\")\n",
    "\n",
    "        conv3 = tf.layers.conv2d(avgpool2,120,(5,5),(1,1),activation=tf.nn.tanh,name=\"Conv3\",\n",
    "                                 bias_initializer=tf.initializers.constant(conv3_bias),\n",
    "                                 kernel_initializer=tf.initializers.constant(conv3_kernel))\n",
    "\n",
    "        flatten = tf.layers.Flatten()(conv3)\n",
    "\n",
    "        features = tf.layers.dense(flatten,84,activation=tf.nn.tanh,name=\"Dense_84\",\n",
    "                                 bias_initializer=tf.initializers.constant(dense84_bias),\n",
    "                                 kernel_initializer=tf.initializers.constant(dense84_kernel))\n",
    "    \n",
    "    return features"
   ]
  },
  {
   "cell_type": "code",
   "execution_count": 8,
   "metadata": {},
   "outputs": [],
   "source": [
    "features = cnn_features(model_input)"
   ]
  },
  {
   "cell_type": "markdown",
   "metadata": {},
   "source": [
    "**Check the global variables created**"
   ]
  },
  {
   "cell_type": "code",
   "execution_count": 9,
   "metadata": {},
   "outputs": [
    {
     "data": {
      "text/plain": [
       "[<tf.Variable 'Conv1/kernel:0' shape=(5, 5, 3, 6) dtype=float32_ref>,\n",
       " <tf.Variable 'Conv1/bias:0' shape=(6,) dtype=float32_ref>,\n",
       " <tf.Variable 'Conv2/kernel:0' shape=(5, 5, 6, 16) dtype=float32_ref>,\n",
       " <tf.Variable 'Conv2/bias:0' shape=(16,) dtype=float32_ref>,\n",
       " <tf.Variable 'Conv3/kernel:0' shape=(5, 5, 16, 120) dtype=float32_ref>,\n",
       " <tf.Variable 'Conv3/bias:0' shape=(120,) dtype=float32_ref>,\n",
       " <tf.Variable 'Dense_84/kernel:0' shape=(120, 84) dtype=float32_ref>,\n",
       " <tf.Variable 'Dense_84/bias:0' shape=(84,) dtype=float32_ref>]"
      ]
     },
     "execution_count": 9,
     "metadata": {},
     "output_type": "execute_result"
    }
   ],
   "source": [
    "tf.get_collection(tf.GraphKeys.GLOBAL_VARIABLES)"
   ]
  },
  {
   "cell_type": "markdown",
   "metadata": {},
   "source": [
    "**Check if the weights were properly initialized**"
   ]
  },
  {
   "cell_type": "code",
   "execution_count": 10,
   "metadata": {},
   "outputs": [
    {
     "name": "stdout",
     "output_type": "stream",
     "text": [
      "[-0.14805889  0.6004731   0.14357984 -0.3337978  -0.48210445 -0.07447348\n",
      " -0.3848596  -0.07660984  0.13621555  0.2962938  -0.15078765 -0.14430566\n",
      "  0.3739807  -0.3766448   0.60352474  0.4924152 ]\n"
     ]
    }
   ],
   "source": [
    "with tf.Session() as sess:\n",
    "    sess.run(tf.global_variables_initializer())\n",
    "    print(sess.run(tf.get_collection(tf.GraphKeys.GLOBAL_VARIABLES,scope=\"Conv2/bias\")[0]))"
   ]
  },
  {
   "cell_type": "markdown",
   "metadata": {},
   "source": [
    "**Save model**"
   ]
  },
  {
   "cell_type": "code",
   "execution_count": 11,
   "metadata": {},
   "outputs": [],
   "source": [
    "!rm models/WT_TRANSFER/*"
   ]
  },
  {
   "cell_type": "code",
   "execution_count": 12,
   "metadata": {},
   "outputs": [],
   "source": [
    "saver = tf.train.Saver()\n",
    "with tf.Session() as sess:\n",
    "    sess.run(tf.global_variables_initializer())\n",
    "    tf.add_to_collection('handle',handle)\n",
    "    tf.add_to_collection('target',label)\n",
    "    tf.add_to_collection('model_input',model_input)\n",
    "    tf.add_to_collection('features',features)\n",
    "    saver.save(sess,'models/WT_TRANSFER/wt_transfer_eg.chpt')"
   ]
  },
  {
   "cell_type": "code",
   "execution_count": null,
   "metadata": {},
   "outputs": [],
   "source": []
  }
 ],
 "metadata": {
  "kernelspec": {
   "display_name": "Python 3",
   "language": "python",
   "name": "python3"
  },
  "language_info": {
   "codemirror_mode": {
    "name": "ipython",
    "version": 3
   },
   "file_extension": ".py",
   "mimetype": "text/x-python",
   "name": "python",
   "nbconvert_exporter": "python",
   "pygments_lexer": "ipython3",
   "version": "3.5.2"
  }
 },
 "nbformat": 4,
 "nbformat_minor": 2
}
