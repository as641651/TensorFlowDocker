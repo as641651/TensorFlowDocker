{
 "cells": [
  {
   "cell_type": "markdown",
   "metadata": {},
   "source": [
    "## Testing\n",
    "\n",
    "### Some libraries pre-installed in tensorflow docker image\n",
    "\n",
    "> Tensor flow image comes prebuilt with almost all libraries we ll need. Some of the libraries are listed below.\n",
    "\n",
    "**Python - 3.5**"
   ]
  },
  {
   "cell_type": "code",
   "execution_count": 1,
   "metadata": {},
   "outputs": [
    {
     "data": {
      "text/plain": [
       "'1.12.0'"
      ]
     },
     "execution_count": 1,
     "metadata": {},
     "output_type": "execute_result"
    }
   ],
   "source": [
    "import tensorflow as tf\n",
    "tf.__version__"
   ]
  },
  {
   "cell_type": "code",
   "execution_count": 2,
   "metadata": {},
   "outputs": [
    {
     "data": {
      "text/plain": [
       "'1.15.4'"
      ]
     },
     "execution_count": 2,
     "metadata": {},
     "output_type": "execute_result"
    }
   ],
   "source": [
    "import numpy as np\n",
    "np.__version__"
   ]
  },
  {
   "cell_type": "code",
   "execution_count": 3,
   "metadata": {},
   "outputs": [
    {
     "data": {
      "text/plain": [
       "'0.20.0'"
      ]
     },
     "execution_count": 3,
     "metadata": {},
     "output_type": "execute_result"
    }
   ],
   "source": [
    "import sklearn\n",
    "sklearn.__version__"
   ]
  },
  {
   "cell_type": "code",
   "execution_count": 4,
   "metadata": {},
   "outputs": [
    {
     "data": {
      "text/plain": [
       "'0.23.4'"
      ]
     },
     "execution_count": 4,
     "metadata": {},
     "output_type": "execute_result"
    }
   ],
   "source": [
    "import pandas\n",
    "pandas.__version__"
   ]
  },
  {
   "cell_type": "code",
   "execution_count": 5,
   "metadata": {},
   "outputs": [
    {
     "data": {
      "text/plain": [
       "'3.0.1'"
      ]
     },
     "execution_count": 5,
     "metadata": {},
     "output_type": "execute_result"
    }
   ],
   "source": [
    "import matplotlib\n",
    "matplotlib.__version__"
   ]
  },
  {
   "cell_type": "markdown",
   "metadata": {},
   "source": [
    "### Setting up computational graph\n",
    "\n",
    "> Make sure to **reset default graph** while using jupyter notebook. Otherwise, running the cell twice will result in two computational graphs.\n",
    "\n",
    "> For tensorflow gpu version, **all tensors** are placed in the **gpu** by **default**. To carry out operations in **cpu**, one should explicitly specify **with tf.device('/cpu:0')**"
   ]
  },
  {
   "cell_type": "code",
   "execution_count": 6,
   "metadata": {},
   "outputs": [],
   "source": [
    "tf.reset_default_graph()\n",
    "\n",
    "#The names are used for tagging nodes in computational graph\n",
    "a = tf.constant(6.0,name='constant_a')\n",
    "b = tf.constant(3.0,name='constant_b')\n",
    "c = tf.constant(5.5,name='constant_c')\n",
    "d = tf.constant(100.5,name='constant_d')\n",
    "\n",
    "add = tf.add(a,b,name=\"add_ab\")\n",
    "subtract = tf.subtract(b,c,name=\"subtract_bc\")\n",
    "square = tf.square(d,name='square_d')\n",
    "final_sum = tf.add_n([add,subtract,square],name=\"final_sum\")\n",
    "\n",
    "with tf.device('/cpu:0'):\n",
    "    cpu_tensor = tf.constant(10.2,name=\"constant_cpu_tensor\")"
   ]
  },
  {
   "cell_type": "markdown",
   "metadata": {},
   "source": [
    "### Executing shell commands\n",
    "\n",
    "> use the shell command prefixed by **!**\n",
    "\n",
    "> We execute the command to delete all previos tensorboard logs"
   ]
  },
  {
   "cell_type": "code",
   "execution_count": 7,
   "metadata": {},
   "outputs": [],
   "source": [
    "!rm tensorboard_logs/*"
   ]
  },
  {
   "cell_type": "markdown",
   "metadata": {},
   "source": [
    "### Start session and write the graph to disk"
   ]
  },
  {
   "cell_type": "code",
   "execution_count": 8,
   "metadata": {},
   "outputs": [],
   "source": [
    "with tf.Session() as sess:\n",
    "    writer = tf.summary.FileWriter('./tensorboard_logs', sess.graph)\n",
    "    writer.close()"
   ]
  },
  {
   "cell_type": "code",
   "execution_count": 9,
   "metadata": {},
   "outputs": [
    {
     "name": "stdout",
     "output_type": "stream",
     "text": [
      "events.out.tfevents.1542301977.3ea3f3d6bab6\r\n"
     ]
    }
   ],
   "source": [
    "!ls tensorboard_logs/"
   ]
  },
  {
   "cell_type": "markdown",
   "metadata": {},
   "source": [
    "### Using tensorboard\n",
    "\n",
    "> Make sure that **port 6006** in the **container** is **forwarded** to **all hosts**. \n",
    "```bash\n",
    "docker run -p 0.0.0.0:6005:6006 ...\n",
    "```\n",
    "> After starting tensorboard, go to your browser and\n",
    "```bash\n",
    "localhost:6005\n",
    "```\n",
    "> To **stop** tensorboard, hit the stop button in the kernel"
   ]
  },
  {
   "cell_type": "code",
   "execution_count": 10,
   "metadata": {},
   "outputs": [
    {
     "name": "stdout",
     "output_type": "stream",
     "text": [
      "TensorBoard 1.12.0 at http://3ea3f3d6bab6:6006 (Press CTRL+C to quit)\n",
      "^C\n"
     ]
    }
   ],
   "source": [
    "!tensorboard --logdir=tensorboard_logs/"
   ]
  },
  {
   "cell_type": "markdown",
   "metadata": {},
   "source": [
    "<img src=\"pics/graph_run=.png\" width=500px />"
   ]
  },
  {
   "cell_type": "markdown",
   "metadata": {},
   "source": [
    "### Run operations on computational graph"
   ]
  },
  {
   "cell_type": "code",
   "execution_count": 11,
   "metadata": {},
   "outputs": [
    {
     "name": "stdout",
     "output_type": "stream",
     "text": [
      "9.0\n",
      "-2.5\n",
      "10100.25\n",
      "10106.75\n"
     ]
    }
   ],
   "source": [
    "sess = tf.Session()\n",
    "print(sess.run(add))\n",
    "print(sess.run(subtract))\n",
    "print(sess.run(square))\n",
    "print(sess.run(final_sum))\n",
    "sess.close()"
   ]
  },
  {
   "cell_type": "markdown",
   "metadata": {},
   "source": [
    "### List devices"
   ]
  },
  {
   "cell_type": "code",
   "execution_count": 12,
   "metadata": {},
   "outputs": [
    {
     "name": "stdout",
     "output_type": "stream",
     "text": [
      "[_DeviceAttributes(/job:localhost/replica:0/task:0/device:CPU:0, CPU, 268435456, 18077401770470186509), _DeviceAttributes(/job:localhost/replica:0/task:0/device:XLA_GPU:0, XLA_GPU, 17179869184, 10727227273985801305), _DeviceAttributes(/job:localhost/replica:0/task:0/device:XLA_CPU:0, XLA_CPU, 17179869184, 1956605614279332794), _DeviceAttributes(/job:localhost/replica:0/task:0/device:GPU:0, GPU, 4985192448, 8019372778990901934)]\n"
     ]
    }
   ],
   "source": [
    "sess = tf.Session()\n",
    "print(sess.list_devices())\n",
    "sess.close()"
   ]
  },
  {
   "cell_type": "markdown",
   "metadata": {},
   "source": [
    "### Check device execution\n",
    "\n",
    "> To Check on which device the tensor is being executed, set the following config and see the console output"
   ]
  },
  {
   "cell_type": "code",
   "execution_count": 13,
   "metadata": {},
   "outputs": [
    {
     "name": "stdout",
     "output_type": "stream",
     "text": [
      "9.0\n",
      "10.2\n"
     ]
    }
   ],
   "source": [
    "sess = tf.Session(config=tf.ConfigProto(log_device_placement=True))\n",
    "print(sess.run(add))\n",
    "print(sess.run(cpu_tensor))\n",
    "sess.close()"
   ]
  },
  {
   "cell_type": "markdown",
   "metadata": {},
   "source": [
    "**terminal output :**\n",
    "\n",
    "```bash\n",
    "constant_d: (Const): /job:localhost/replica:0/task:0/device:GPU:0\n",
    "2018-11-15 16:37:54.501918: I tensorflow/core/common_runtime/placer.cc:927] constant_d: (Const)/job:localhost/replica:0/task:0/device:GPU:0\n",
    "constant_cpu_tensor: (Const): /job:localhost/replica:0/task:0/device:CPU:0\n",
    "2018-11-15 16:37:54.501935: I tensorflow/core/common_runtime/placer.cc:927] constant_cpu_tensor: (Const)/job:localhost/replica:0/task:0/device:CPU:0\n",
    "```"
   ]
  },
  {
   "cell_type": "code",
   "execution_count": null,
   "metadata": {},
   "outputs": [],
   "source": []
  }
 ],
 "metadata": {
  "kernelspec": {
   "display_name": "Python 3",
   "language": "python",
   "name": "python3"
  },
  "language_info": {
   "codemirror_mode": {
    "name": "ipython",
    "version": 3
   },
   "file_extension": ".py",
   "mimetype": "text/x-python",
   "name": "python",
   "nbconvert_exporter": "python",
   "pygments_lexer": "ipython3",
   "version": "3.5.2"
  }
 },
 "nbformat": 4,
 "nbformat_minor": 2
}
