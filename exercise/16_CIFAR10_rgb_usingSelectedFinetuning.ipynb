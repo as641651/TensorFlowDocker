{
 "cells": [
  {
   "cell_type": "markdown",
   "metadata": {},
   "source": [
    "## CIFAR 10 RGB with selected finetuning\n",
    "\n",
    "> Using **RGB improves accuracy**"
   ]
  },
  {
   "cell_type": "code",
   "execution_count": 1,
   "metadata": {},
   "outputs": [],
   "source": [
    "import tensorflow as tf\n",
    "import numpy as np\n",
    "from PIL import Image\n",
    "import matplotlib.pyplot as plt\n",
    "import glob\n",
    "from pathlib import Path\n",
    "%matplotlib inline"
   ]
  },
  {
   "cell_type": "markdown",
   "metadata": {},
   "source": [
    "### Data pipeline"
   ]
  },
  {
   "cell_type": "code",
   "execution_count": 2,
   "metadata": {},
   "outputs": [],
   "source": [
    "file_path = \"datasets/cifar-10-batches-bin/data_batch_*\"\n",
    "train_bins = glob.glob(file_path)\n",
    "\n",
    "\n",
    "def cifar_dataset(files_list:list) -> tf.data.Dataset:\n",
    "\n",
    "    data = tf.data.FixedLengthRecordDataset(files_list,1+3*32*32)\n",
    "    data = data.map(lambda x: tf.decode_raw(x,tf.uint8),num_parallel_calls=4)\n",
    "    data = data.map(lambda x: (x[1:],tf.expand_dims(x[0],0)),num_parallel_calls=4) \n",
    "    data = data.map(lambda x,y: (tf.reshape(x,(3,32,32)),y),num_parallel_calls=4)\n",
    "    data = data.map(lambda x,y: (tf.transpose(x,(1,2,0)),y),num_parallel_calls=4)\n",
    "    data = data.map(lambda x,y: (tf.image.convert_image_dtype(x,tf.float32),y),num_parallel_calls=4)\n",
    "        \n",
    "    return data"
   ]
  },
  {
   "cell_type": "code",
   "execution_count": 3,
   "metadata": {},
   "outputs": [],
   "source": [
    "with tf.device('/cpu:0'):\n",
    "    train_dataset = cifar_dataset(train_bins)\n",
    "    train_dataset = train_dataset.shuffle(20000)\n",
    "    train_dataset = train_dataset.repeat(20)\n",
    "    train_dataset = train_dataset.batch(10)\n",
    "    train_dataset = train_dataset.prefetch(2)\n",
    "\n",
    "train_iterator = train_dataset.make_one_shot_iterator()"
   ]
  },
  {
   "cell_type": "code",
   "execution_count": 4,
   "metadata": {},
   "outputs": [
    {
     "data": {
      "text/plain": [
       "((TensorShape([Dimension(None), Dimension(32), Dimension(32), Dimension(3)]),\n",
       "  TensorShape([Dimension(None), Dimension(1)])),\n",
       " (tf.float32, tf.uint8))"
      ]
     },
     "execution_count": 4,
     "metadata": {},
     "output_type": "execute_result"
    }
   ],
   "source": [
    "train_dataset.output_shapes, train_dataset.output_types"
   ]
  },
  {
   "cell_type": "markdown",
   "metadata": {},
   "source": [
    "**Check input** (Restart kernel and dont call this check before training)"
   ]
  },
  {
   "cell_type": "code",
   "execution_count": 5,
   "metadata": {},
   "outputs": [
    {
     "name": "stdout",
     "output_type": "stream",
     "text": [
      "(10, 32, 32, 3)\n",
      "[[1 5 3 3 5 5 7 0 8 1]]\n"
     ]
    },
    {
     "data": {
      "text/plain": [
       "<matplotlib.image.AxesImage at 0x7fb654060940>"
      ]
     },
     "execution_count": 5,
     "metadata": {},
     "output_type": "execute_result"
    },
    {
     "data": {
      "image/png": "[encoded data removed]",
      "text/plain": [
       "<Figure size 432x288 with 1 Axes>"
      ]
     },
     "metadata": {
      "needs_background": "light"
     },
     "output_type": "display_data"
    }
   ],
   "source": [
    "im,l = train_iterator.get_next()\n",
    "\n",
    "with tf.Session() as sess:\n",
    "    imr,lr = sess.run([im,l])\n",
    "\n",
    "print(imr.shape)\n",
    "print(lr.transpose())\n",
    "plt.imshow(imr[0])"
   ]
  },
  {
   "cell_type": "markdown",
   "metadata": {},
   "source": [
    "### Store the graph tensors"
   ]
  },
  {
   "cell_type": "code",
   "execution_count": 5,
   "metadata": {},
   "outputs": [],
   "source": [
    "saver = tf.train.import_meta_graph('models/WT_TRANSFER/wt_transfer_eg.chpt.meta')"
   ]
  },
  {
   "cell_type": "code",
   "execution_count": 6,
   "metadata": {},
   "outputs": [
    {
     "data": {
      "text/plain": [
       "(<tf.Tensor 'Dense_84/Tanh:0' shape=(?, 84) dtype=float32>,\n",
       " <tf.Tensor 'Placeholder:0' shape=() dtype=string>)"
      ]
     },
     "execution_count": 6,
     "metadata": {},
     "output_type": "execute_result"
    }
   ],
   "source": [
    "features = tf.get_collection('features')[0]\n",
    "handle = tf.get_collection('handle')[0]\n",
    "features,handle"
   ]
  },
  {
   "cell_type": "markdown",
   "metadata": {},
   "source": [
    "**Check loading**"
   ]
  },
  {
   "cell_type": "markdown",
   "metadata": {},
   "source": [
    "**NOTE:** We do not have to restore model here, Since we had encoded the weights in the initializer"
   ]
  },
  {
   "cell_type": "code",
   "execution_count": 7,
   "metadata": {},
   "outputs": [
    {
     "name": "stdout",
     "output_type": "stream",
     "text": [
      "[array([-0.14805889,  0.6004731 ,  0.14357984, -0.3337978 , -0.48210445,\n",
      "       -0.07447348, -0.3848596 , -0.07660984,  0.13621555,  0.2962938 ,\n",
      "       -0.15078765, -0.14430566,  0.3739807 , -0.3766448 ,  0.60352474,\n",
      "        0.4924152 ], dtype=float32)]\n"
     ]
    },
    {
     "data": {
      "text/plain": [
       "(10, 84)"
      ]
     },
     "execution_count": 7,
     "metadata": {},
     "output_type": "execute_result"
    }
   ],
   "source": [
    "with tf.Session() as sess:\n",
    "    #We do not have to restore model here, Since we had encoded the weights in the initializer\n",
    "    sess.run(tf.global_variables_initializer())\n",
    "    #Check if the right weights have been loaded\n",
    "    print(sess.run(tf.get_collection('variables',scope='Conv2/bias')))\n",
    "    \n",
    "    hdl = sess.run(train_iterator.string_handle())\n",
    "    out = sess.run(features,{handle:hdl})\n",
    "out.shape"
   ]
  },
  {
   "cell_type": "markdown",
   "metadata": {},
   "source": [
    "### Classifier"
   ]
  },
  {
   "cell_type": "code",
   "execution_count": 8,
   "metadata": {},
   "outputs": [],
   "source": [
    "classifier = tf.layers.dense(features,10,name=\"Dense_10\")"
   ]
  },
  {
   "cell_type": "code",
   "execution_count": 9,
   "metadata": {},
   "outputs": [
    {
     "name": "stdout",
     "output_type": "stream",
     "text": [
      "[array([-0.14805889,  0.6004731 ,  0.14357984, -0.3337978 , -0.48210445,\n",
      "       -0.07447348, -0.3848596 , -0.07660984,  0.13621555,  0.2962938 ,\n",
      "       -0.15078765, -0.14430566,  0.3739807 , -0.3766448 ,  0.60352474,\n",
      "        0.4924152 ], dtype=float32)]\n",
      "[[ 0.38436246 -0.9848181   0.43774337 -0.27235365  0.24708043  1.5685741\n",
      "   1.0640831   0.8740437   0.72520876 -0.23361507]\n",
      " [ 1.3835859  -0.03470334  0.16692173  0.3610988   1.3948796   0.9293339\n",
      "   0.66991484  1.490336    0.83381337  0.09766476]\n",
      " [ 0.9562899  -0.33107674  0.07098895  0.46104425  1.0214279   1.0215653\n",
      "   0.3315633   1.3069373   0.64763457 -0.13627063]\n",
      " [ 0.2619238  -0.92574304  0.08024698 -0.05792682  0.79913044  1.7187195\n",
      "   0.4629878   1.4401478   0.24595296 -0.41986147]\n",
      " [ 1.2477742  -0.61391795  0.1222094   0.6851812   1.1998534   1.4661864\n",
      "   0.6664487   1.5278599   0.36762285  0.08682702]\n",
      " [ 1.1335326  -1.3194598  -0.02753893  0.05693829  0.47591993  1.6372643\n",
      "   0.6378691   1.1559811   1.0294294   0.02697673]\n",
      " [ 0.61364555  0.30666167  0.34921926  0.72072005  0.4009798   1.102501\n",
      "   1.3059847   0.2634017   0.25111026 -0.28916386]\n",
      " [ 0.8388076  -0.2874924   0.6951111   0.2861063   0.98422205  1.730511\n",
      "   1.0632815   1.0304834  -0.01919633  0.5626995 ]\n",
      " [ 1.094774   -0.39939308 -0.14504522  0.5708985   0.8135154   1.3027076\n",
      "   0.97827244  0.8910431   0.7516309  -0.555431  ]\n",
      " [ 0.40113783 -0.8637371   0.2531339   0.2704951   0.63464606  1.587666\n",
      "   0.6366985   1.0711234  -0.25550646 -0.2806279 ]]\n"
     ]
    }
   ],
   "source": [
    "with tf.Session() as sess:\n",
    "    sess.run(tf.global_variables_initializer())\n",
    "    print(sess.run(tf.get_collection('variables',scope='Conv2/bias')))\n",
    "    hdl = sess.run(train_iterator.string_handle())\n",
    "    print(sess.run(classifier,{handle:hdl}))"
   ]
  },
  {
   "cell_type": "markdown",
   "metadata": {},
   "source": [
    "### Loss and optimizer"
   ]
  },
  {
   "cell_type": "code",
   "execution_count": 10,
   "metadata": {},
   "outputs": [],
   "source": [
    "label = tf.get_collection('target')[0]\n",
    "\n",
    "loss = tf.reduce_mean(tf.nn.softmax_cross_entropy_with_logits_v2(labels=tf.one_hot(label,10),logits=classifier))\n",
    "optimizer = tf.train.GradientDescentOptimizer(0.01)\n",
    "train = optimizer.minimize(loss)"
   ]
  },
  {
   "cell_type": "markdown",
   "metadata": {},
   "source": [
    "### Train\n",
    "\n",
    "**IMPORTANT**: Use a new saver and dont mix up with meta graph saver. It wont contain **classifier** and other tensors created in this graph"
   ]
  },
  {
   "cell_type": "code",
   "execution_count": 11,
   "metadata": {},
   "outputs": [
    {
     "name": "stdout",
     "output_type": "stream",
     "text": [
      "rm: cannot remove 'models/CIFAR10_rbg/*': No such file or directory\r\n"
     ]
    }
   ],
   "source": [
    "!rm models/CIFAR10_rbg/*"
   ]
  },
  {
   "cell_type": "code",
   "execution_count": 12,
   "metadata": {},
   "outputs": [
    {
     "name": "stdout",
     "output_type": "stream",
     "text": [
      "Batch:  5000 1.7028109\n",
      "Batch:  10000 1.2507287\n",
      "Batch:  15000 1.1287763\n",
      "Batch:  20000 1.0751923\n",
      "Batch:  25000 1.0378172\n",
      "Batch:  30000 1.0118082\n",
      "Batch:  35000 0.98716116\n",
      "Batch:  40000 0.96488494\n",
      "Batch:  45000 0.9459721\n",
      "Batch:  50000 0.9259637\n",
      "Batch:  55000 0.9051121\n",
      "Batch:  60000 0.8892301\n",
      "Batch:  65000 0.87168205\n",
      "Batch:  70000 0.85335153\n",
      "Batch:  75000 0.839085\n",
      "Batch:  80000 0.82521397\n",
      "Batch:  85000 0.8108206\n",
      "Batch:  90000 0.795145\n",
      "Batch:  95000 0.7795058\n",
      "Batch:  100000 0.7685578\n",
      "Elapsed time :  130.98679304122925  s\n"
     ]
    }
   ],
   "source": [
    "#We need a new saver as we have created new variables\n",
    "saver = tf.train.Saver()\n",
    "\n",
    "import time\n",
    "\n",
    "with tf.Session() as sess:\n",
    "    sess.run(tf.global_variables_initializer())\n",
    "    hdl = sess.run(train_iterator.string_handle())\n",
    "    \n",
    "    start = time.time()\n",
    "    try:\n",
    "        i = 1\n",
    "        tmp = []\n",
    "        while True:\n",
    "            i = i+1\n",
    "            l,_ = sess.run([loss,train],{handle:hdl})\n",
    "            tmp.append(l)\n",
    "            if i%5000 == 0:\n",
    "                avg_loss = np.array(tmp).mean()\n",
    "                print(\"Batch: \",i,avg_loss)\n",
    "                tmp = []\n",
    "                \n",
    "    except tf.errors.OutOfRangeError:\n",
    "        pass\n",
    "    \n",
    "    end = time.time()\n",
    "    elapsed = end-start\n",
    "    print(\"Elapsed time : \", elapsed, \" s\")\n",
    "    saver.save(sess,'models/CIFAR10_rbg/cifar_model.ckpt')\n",
    "    "
   ]
  },
  {
   "cell_type": "markdown",
   "metadata": {},
   "source": [
    "### Evaluation"
   ]
  },
  {
   "cell_type": "code",
   "execution_count": 13,
   "metadata": {},
   "outputs": [],
   "source": [
    "with tf.device('/cpu:0'):\n",
    "    test_dataset = cifar_dataset(['datasets/cifar-10-batches-bin/test_batch.bin'])\n",
    "    test_dataset = test_dataset.batch(10)\n",
    "    test_dataset = test_dataset.prefetch(2)\n",
    "    \n",
    "test_iterator = test_dataset.make_one_shot_iterator()"
   ]
  },
  {
   "cell_type": "code",
   "execution_count": 14,
   "metadata": {},
   "outputs": [
    {
     "name": "stdout",
     "output_type": "stream",
     "text": [
      "INFO:tensorflow:Restoring parameters from models/CIFAR10_rbg/cifar_model.ckpt\n",
      "100 Mean Acc :  0.565\n",
      "200 Mean Acc :  0.576\n",
      "300 Mean Acc :  0.565\n",
      "400 Mean Acc :  0.566\n",
      "500 Mean Acc :  0.594\n",
      "600 Mean Acc :  0.577\n",
      "700 Mean Acc :  0.552\n",
      "800 Mean Acc :  0.579\n",
      "900 Mean Acc :  0.574\n",
      "1000 Mean Acc :  0.564\n"
     ]
    }
   ],
   "source": [
    "def get_accuracy(predict:'eg: [2,4,1,...]',true: 'eg: [2,4,1,...]') -> int:\n",
    "    correct_pred = tf.equal(predict,true)\n",
    "    #We have to cast [True,False,True,...] --> [1,0,1...]\n",
    "    acc = tf.reduce_mean(tf.cast(correct_pred,tf.float32))\n",
    "    return acc\n",
    "\n",
    "\n",
    "\n",
    "with tf.Session() as sess:\n",
    "    saver.restore(sess,'models/CIFAR10_rbg/cifar_model.ckpt')\n",
    "    hdl = sess.run(test_iterator.string_handle())\n",
    "    \n",
    "    \n",
    "    #IMPORTANT:\n",
    "    #Dont place this code inside the loop! This will slow down everything\n",
    "    acc = get_accuracy(tf.argmax(classifier,axis=1),tf.transpose(tf.argmax(tf.one_hot(label,10),axis=2)))\n",
    "    \n",
    "    try:\n",
    "        i = 0\n",
    "        acc_list = []\n",
    "        while True:\n",
    "            i = i+1\n",
    "            a = sess.run(acc,{handle:hdl})\n",
    "            acc_list.append(a)\n",
    "            if i%100 == 0:\n",
    "                print(i, \"Mean Acc : \", np.array(acc_list).mean())\n",
    "                acc_list = []\n",
    "                           \n",
    "    except tf.errors.OutOfRangeError:\n",
    "        pass "
   ]
  },
  {
   "cell_type": "markdown",
   "metadata": {},
   "source": [
    "### Serving"
   ]
  },
  {
   "cell_type": "code",
   "execution_count": 15,
   "metadata": {},
   "outputs": [
    {
     "data": {
      "image/png": "[encoded data removed]",
      "text/plain": [
       "<PIL.PngImagePlugin.PngImageFile image mode=RGB size=32x32 at 0x7F24BC757940>"
      ]
     },
     "execution_count": 15,
     "metadata": {},
     "output_type": "execute_result"
    }
   ],
   "source": [
    "Image.open(\"pics/cifar22.png\") #ship - 8"
   ]
  },
  {
   "cell_type": "code",
   "execution_count": 16,
   "metadata": {},
   "outputs": [
    {
     "data": {
      "image/png": "[encoded data removed]",
      "text/plain": [
       "<PIL.PngImagePlugin.PngImageFile image mode=RGB size=32x32 at 0x7F2564F3D6A0>"
      ]
     },
     "execution_count": 16,
     "metadata": {},
     "output_type": "execute_result"
    }
   ],
   "source": [
    "Image.open(\"pics/cifar3.png\") #automobile - 1"
   ]
  },
  {
   "cell_type": "code",
   "execution_count": 17,
   "metadata": {},
   "outputs": [
    {
     "data": {
      "image/png": "[encoded data removed]",
      "text/plain": [
       "<PIL.PngImagePlugin.PngImageFile image mode=RGB size=32x32 at 0x7F2564F3D710>"
      ]
     },
     "execution_count": 17,
     "metadata": {},
     "output_type": "execute_result"
    }
   ],
   "source": [
    "Image.open(\"pics/cifar24.png\") #automobile - 1"
   ]
  },
  {
   "cell_type": "code",
   "execution_count": 22,
   "metadata": {},
   "outputs": [],
   "source": [
    "test_ims_paths = tf.placeholder(tf.string)\n",
    "serving_data = tf.data.Dataset.from_tensor_slices(test_ims_paths)\n",
    "\n",
    "def read_img(filepath):\n",
    "    image_string = tf.read_file(filepath)\n",
    "    image = tf.image.decode_png(image_string)\n",
    "    image = tf.image.convert_image_dtype(image,tf.float32)\n",
    "    #image = tf.image.resize_images(image,(32,32))\n",
    "    return image\n",
    "    \n",
    "serving_data = serving_data.map(lambda x: read_img(x))\n",
    "serving_data = serving_data.map(lambda x: (x,tf.expand_dims(tf.cast(0,tf.uint8),axis=0)))#To match with iterator\n",
    "serving_data = serving_data.batch(5)"
   ]
  },
  {
   "cell_type": "markdown",
   "metadata": {},
   "source": [
    "**NOTICE**: The tensor shape **None** matches with the original **32,32**"
   ]
  },
  {
   "cell_type": "code",
   "execution_count": 23,
   "metadata": {},
   "outputs": [
    {
     "data": {
      "text/plain": [
       "((TensorShape([Dimension(None), Dimension(None), Dimension(None), Dimension(None)]),\n",
       "  TensorShape([Dimension(None), Dimension(1)])),\n",
       " (tf.float32, tf.uint8))"
      ]
     },
     "execution_count": 23,
     "metadata": {},
     "output_type": "execute_result"
    }
   ],
   "source": [
    "serving_data.output_shapes,serving_data.output_types"
   ]
  },
  {
   "cell_type": "code",
   "execution_count": 24,
   "metadata": {},
   "outputs": [],
   "source": [
    "serving_iterator = serving_data.make_initializable_iterator()"
   ]
  },
  {
   "cell_type": "code",
   "execution_count": 25,
   "metadata": {},
   "outputs": [
    {
     "name": "stdout",
     "output_type": "stream",
     "text": [
      "INFO:tensorflow:Restoring parameters from models/CIFAR10_rbg/cifar_model.ckpt\n",
      "[8 1 1]\n"
     ]
    }
   ],
   "source": [
    "with tf.Session() as sess:\n",
    "    saver.restore(sess,'models/CIFAR10_rbg/cifar_model.ckpt')\n",
    "\n",
    "    ims_paths = [\"pics/cifar22.png\",\"pics/cifar3.png\",\"pics/cifar24.png\"]\n",
    "    hdl,_ = sess.run([serving_iterator.string_handle(),serving_iterator.initializer],{test_ims_paths:ims_paths})\n",
    "    predictions = tf.argmax(classifier,axis=1)\n",
    "    out = sess.run(predictions,{handle:hdl})\n",
    "    print(out) "
   ]
  },
  {
   "cell_type": "markdown",
   "metadata": {},
   "source": [
    "## Summary\n",
    "\n",
    "> 1) **Restore checkpoint** only when you want to use weights in the checkpoint. In this example, we had included the weights as a part of **initializers**. Hence we did not have to restore chpt before training!\n",
    "\n",
    "> 2) Create a new saver to save trained model and dont mess up with the meta graph import saver\n",
    "\n",
    ">3) Do not call the **get_next** of child iterators when using **feedable iterators**\n",
    "\n",
    "> 4) Using **RGB** imporves **Accuracy**"
   ]
  },
  {
   "cell_type": "code",
   "execution_count": null,
   "metadata": {},
   "outputs": [],
   "source": []
  }
 ],
 "metadata": {
  "kernelspec": {
   "display_name": "Python 3",
   "language": "python",
   "name": "python3"
  },
  "language_info": {
   "codemirror_mode": {
    "name": "ipython",
    "version": 3
   },
   "file_extension": ".py",
   "mimetype": "text/x-python",
   "name": "python",
   "nbconvert_exporter": "python",
   "pygments_lexer": "ipython3",
   "version": "3.5.2"
  }
 },
 "nbformat": 4,
 "nbformat_minor": 2
}
