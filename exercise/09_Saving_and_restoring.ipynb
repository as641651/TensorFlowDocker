{
 "cells": [
  {
   "cell_type": "markdown",
   "metadata": {},
   "source": [
    "## Saving and restoring"
   ]
  },
  {
   "cell_type": "code",
   "execution_count": 3,
   "metadata": {},
   "outputs": [],
   "source": [
    "import tensorflow as tf\n",
    "import numpy as np"
   ]
  },
  {
   "cell_type": "markdown",
   "metadata": {},
   "source": [
    "Remember\n",
    "\n",
    "    1) Tensors that should be retrieved must be added to collection\n",
    "\n",
    "    2) Varibales are automatically added\n",
    "\n"
   ]
  },
  {
   "cell_type": "code",
   "execution_count": 4,
   "metadata": {},
   "outputs": [],
   "source": [
    "tf.reset_default_graph()\n",
    "w = tf.Variable(tf.random_normal((5,5),seed=101),name=\"w\")\n",
    "b = tf.placeholder(tf.float32,(5,),name=\"b\")\n",
    "x = tf.matmul(w,tf.expand_dims(b,axis=1),name=\"x\")\n",
    "tf.add_to_collection('output',x)"
   ]
  },
  {
   "cell_type": "code",
   "execution_count": 5,
   "metadata": {},
   "outputs": [],
   "source": [
    "saver = tf.train.Saver()"
   ]
  },
  {
   "cell_type": "code",
   "execution_count": 6,
   "metadata": {},
   "outputs": [],
   "source": [
    "!rm models/*"
   ]
  },
  {
   "cell_type": "code",
   "execution_count": 7,
   "metadata": {},
   "outputs": [
    {
     "name": "stdout",
     "output_type": "stream",
     "text": [
      "[[-2.3159974  -0.07912122 -0.8998717   0.31664512 -1.1119006 ]\n",
      " [ 1.3949379   0.49928963 -1.4618131  -0.7174765  -0.4182692 ]\n",
      " [-2.1247718   1.751722   -2.4979882  -0.38874432 -0.49987432]\n",
      " [-0.29406643  0.18566869 -0.14782837  0.5535406  -0.51702005]\n",
      " [ 0.32753068  0.259901   -1.3543104   1.0400561   0.855376  ]] [[-4.0902452 ]\n",
      " [-0.70333123]\n",
      " [-3.7596567 ]\n",
      " [-0.21970558]\n",
      " [ 1.1285534 ]]\n"
     ]
    }
   ],
   "source": [
    "init = tf.global_variables_initializer()\n",
    "with tf.Session() as sess:\n",
    "    sess.run(init)\n",
    "    W,o = sess.run([w,x],{b:np.ones((5,))})\n",
    "    print(W,o)\n",
    "    saver.save(sess,'models/my_first_model.ckpt')"
   ]
  },
  {
   "cell_type": "markdown",
   "metadata": {},
   "source": [
    "### Restoring from same file"
   ]
  },
  {
   "cell_type": "code",
   "execution_count": 9,
   "metadata": {},
   "outputs": [
    {
     "name": "stdout",
     "output_type": "stream",
     "text": [
      "INFO:tensorflow:Restoring parameters from models/my_first_model.ckpt\n",
      "[[-2.3159974  -0.07912122 -0.8998717   0.31664512 -1.1119006 ]\n",
      " [ 1.3949379   0.49928963 -1.4618131  -0.7174765  -0.4182692 ]\n",
      " [-2.1247718   1.751722   -2.4979882  -0.38874432 -0.49987432]\n",
      " [-0.29406643  0.18566869 -0.14782837  0.5535406  -0.51702005]\n",
      " [ 0.32753068  0.259901   -1.3543104   1.0400561   0.855376  ]] [[-4.0902452 ]\n",
      " [-0.70333123]\n",
      " [-3.7596567 ]\n",
      " [-0.21970558]\n",
      " [ 1.1285534 ]]\n"
     ]
    }
   ],
   "source": [
    "with tf.Session() as sess:\n",
    "    saver.restore(sess,'models/my_first_model.ckpt')\n",
    "    W,o = sess.run([w,x],{b:np.ones((5,))})\n",
    "    print(W,o)"
   ]
  },
  {
   "cell_type": "markdown",
   "metadata": {},
   "source": [
    "### Restoring from different file\n",
    "\n",
    "#### Restart kernel"
   ]
  },
  {
   "cell_type": "code",
   "execution_count": 1,
   "metadata": {},
   "outputs": [],
   "source": [
    "import tensorflow as tf\n",
    "import numpy as np"
   ]
  },
  {
   "cell_type": "markdown",
   "metadata": {},
   "source": [
    "**Load the graph**"
   ]
  },
  {
   "cell_type": "code",
   "execution_count": 18,
   "metadata": {},
   "outputs": [],
   "source": [
    "tf.reset_default_graph()\n",
    "saver = tf.train.import_meta_graph('models/my_first_model.ckpt.meta')"
   ]
  },
  {
   "cell_type": "code",
   "execution_count": 19,
   "metadata": {},
   "outputs": [
    {
     "name": "stdout",
     "output_type": "stream",
     "text": [
      "INFO:tensorflow:Restoring parameters from models/my_first_model.ckpt\n"
     ]
    }
   ],
   "source": [
    "sess = tf.Session()\n",
    "saver.restore(sess,tf.train.latest_checkpoint('models/'))"
   ]
  },
  {
   "cell_type": "markdown",
   "metadata": {},
   "source": [
    "**Check if the data is available**"
   ]
  },
  {
   "cell_type": "code",
   "execution_count": 20,
   "metadata": {},
   "outputs": [
    {
     "data": {
      "text/plain": [
       "['variables', 'trainable_variables', 'output']"
      ]
     },
     "execution_count": 20,
     "metadata": {},
     "output_type": "execute_result"
    }
   ],
   "source": [
    "sess.graph.get_all_collection_keys()"
   ]
  },
  {
   "cell_type": "code",
   "execution_count": 21,
   "metadata": {},
   "outputs": [
    {
     "data": {
      "text/plain": [
       "[<tf.Tensor 'x:0' shape=(5, 1) dtype=float32>]"
      ]
     },
     "execution_count": 21,
     "metadata": {},
     "output_type": "execute_result"
    }
   ],
   "source": [
    "sess.graph.get_collection('output')"
   ]
  },
  {
   "cell_type": "markdown",
   "metadata": {},
   "source": [
    "**Run**"
   ]
  },
  {
   "cell_type": "code",
   "execution_count": 25,
   "metadata": {},
   "outputs": [
    {
     "name": "stdout",
     "output_type": "stream",
     "text": [
      "[[-2.3159974  -0.07912122 -0.8998717   0.31664512 -1.1119006 ]\n",
      " [ 1.3949379   0.49928963 -1.4618131  -0.7174765  -0.4182692 ]\n",
      " [-2.1247718   1.751722   -2.4979882  -0.38874432 -0.49987432]\n",
      " [-0.29406643  0.18566869 -0.14782837  0.5535406  -0.51702005]\n",
      " [ 0.32753068  0.259901   -1.3543104   1.0400561   0.855376  ]] [[-4.0902452 ]\n",
      " [-0.70333123]\n",
      " [-3.7596567 ]\n",
      " [-0.21970558]\n",
      " [ 1.1285534 ]]\n"
     ]
    }
   ],
   "source": [
    "W,o = sess.run(['w:0','x:0'],{'b:0':np.ones((5,))})\n",
    "print(W,o)"
   ]
  },
  {
   "cell_type": "markdown",
   "metadata": {},
   "source": [
    "### Inspecting check points"
   ]
  },
  {
   "cell_type": "code",
   "execution_count": 26,
   "metadata": {},
   "outputs": [],
   "source": [
    "# import the inspect_checkpoint library\n",
    "from tensorflow.python.tools import inspect_checkpoint as chkp"
   ]
  },
  {
   "cell_type": "code",
   "execution_count": 28,
   "metadata": {},
   "outputs": [
    {
     "name": "stdout",
     "output_type": "stream",
     "text": [
      "tensor_name:  w\n",
      "[[-2.3159974  -0.07912122 -0.8998717   0.31664512 -1.1119006 ]\n",
      " [ 1.3949379   0.49928963 -1.4618131  -0.7174765  -0.4182692 ]\n",
      " [-2.1247718   1.751722   -2.4979882  -0.38874432 -0.49987432]\n",
      " [-0.29406643  0.18566869 -0.14782837  0.5535406  -0.51702005]\n",
      " [ 0.32753068  0.259901   -1.3543104   1.0400561   0.855376  ]]\n"
     ]
    }
   ],
   "source": [
    "chkp.print_tensors_in_checkpoint_file(\"models/my_first_model.ckpt\",tensor_name='', all_tensors=True,all_tensor_names=True)"
   ]
  },
  {
   "cell_type": "code",
   "execution_count": null,
   "metadata": {},
   "outputs": [],
   "source": []
  }
 ],
 "metadata": {
  "kernelspec": {
   "display_name": "Python 3",
   "language": "python",
   "name": "python3"
  },
  "language_info": {
   "codemirror_mode": {
    "name": "ipython",
    "version": 3
   },
   "file_extension": ".py",
   "mimetype": "text/x-python",
   "name": "python",
   "nbconvert_exporter": "python",
   "pygments_lexer": "ipython3",
   "version": "3.5.2"
  }
 },
 "nbformat": 4,
 "nbformat_minor": 2
}
