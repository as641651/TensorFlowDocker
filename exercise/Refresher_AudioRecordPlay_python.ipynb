{
 "cells": [
  {
   "cell_type": "markdown",
   "metadata": {},
   "source": [
    "**Refer GCP/Docker/docker-audio** for more details"
   ]
  },
  {
   "cell_type": "code",
   "execution_count": 1,
   "metadata": {},
   "outputs": [],
   "source": [
    "import sounddevice as sd"
   ]
  },
  {
   "cell_type": "code",
   "execution_count": 2,
   "metadata": {},
   "outputs": [
    {
     "data": {
      "text/plain": [
       "   0 HDA Intel PCH: ALC887-VD Analog (hw:0,0), ALSA (2 in, 2 out)\n",
       "   1 HDA Intel PCH: ALC887-VD Digital (hw:0,1), ALSA (0 in, 2 out)\n",
       "   2 HDA Intel PCH: ALC887-VD Alt Analog (hw:0,2), ALSA (2 in, 0 out)\n",
       "   3 HDA NVidia: HDMI 0 (hw:1,3), ALSA (0 in, 2 out)\n",
       "   4 HDA NVidia: HDMI 1 (hw:1,7), ALSA (0 in, 8 out)\n",
       "   5 HDA NVidia: HDMI 2 (hw:1,8), ALSA (0 in, 8 out)\n",
       "   6 HDA NVidia: HDMI 3 (hw:1,9), ALSA (0 in, 8 out)\n",
       "   7 Webcam C170: USB Audio (hw:2,0), ALSA (1 in, 0 out)\n",
       "   8 sysdefault, ALSA (128 in, 128 out)\n",
       "   9 front, ALSA (0 in, 2 out)\n",
       "  10 surround40, ALSA (0 in, 2 out)\n",
       "  11 surround51, ALSA (0 in, 2 out)\n",
       "  12 surround71, ALSA (0 in, 2 out)\n",
       "  13 iec958, ALSA (0 in, 2 out)\n",
       "  14 spdif, ALSA (0 in, 2 out)\n",
       "  15 pulse, ALSA (32 in, 32 out)\n",
       "  16 dmix, ALSA (0 in, 2 out)\n",
       "* 17 default, ALSA (32 in, 32 out)"
      ]
     },
     "execution_count": 2,
     "metadata": {},
     "output_type": "execute_result"
    }
   ],
   "source": [
    "sd.query_devices()"
   ]
  },
  {
   "cell_type": "code",
   "execution_count": 3,
   "metadata": {},
   "outputs": [],
   "source": [
    "fs=44100\n",
    "duration = 5  # seconds"
   ]
  },
  {
   "cell_type": "code",
   "execution_count": 4,
   "metadata": {},
   "outputs": [],
   "source": [
    "myrecording = sd.rec(duration * fs, samplerate=fs, channels=2,dtype='float64') #pass device=.. to select device\n",
    "sd.wait()"
   ]
  },
  {
   "cell_type": "code",
   "execution_count": 5,
   "metadata": {},
   "outputs": [
    {
     "data": {
      "text/plain": [
       "array([[-0.00143433, -0.00143433],\n",
       "       [ 0.        ,  0.        ],\n",
       "       [ 0.        ,  0.        ],\n",
       "       ...,\n",
       "       [ 0.00189209,  0.00189209],\n",
       "       [ 0.00234985,  0.00234985],\n",
       "       [ 0.00259399,  0.00259399]])"
      ]
     },
     "execution_count": 5,
     "metadata": {},
     "output_type": "execute_result"
    }
   ],
   "source": [
    "myrecording"
   ]
  },
  {
   "cell_type": "code",
   "execution_count": 6,
   "metadata": {},
   "outputs": [],
   "source": [
    "sd.play(myrecording, fs)\n",
    "sd.wait()"
   ]
  },
  {
   "cell_type": "code",
   "execution_count": 7,
   "metadata": {},
   "outputs": [
    {
     "data": {
      "text/plain": [
       "(220500, 2)"
      ]
     },
     "execution_count": 7,
     "metadata": {},
     "output_type": "execute_result"
    }
   ],
   "source": [
    "myrecording.shape"
   ]
  },
  {
   "cell_type": "code",
   "execution_count": null,
   "metadata": {},
   "outputs": [],
   "source": []
  }
 ],
 "metadata": {
  "kernelspec": {
   "display_name": "Python 3",
   "language": "python",
   "name": "python3"
  },
  "language_info": {
   "codemirror_mode": {
    "name": "ipython",
    "version": 3
   },
   "file_extension": ".py",
   "mimetype": "text/x-python",
   "name": "python",
   "nbconvert_exporter": "python",
   "pygments_lexer": "ipython3",
   "version": "3.5.2"
  }
 },
 "nbformat": 4,
 "nbformat_minor": 2
}
